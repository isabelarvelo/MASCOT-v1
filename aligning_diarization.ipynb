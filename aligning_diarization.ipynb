{
 "cells": [
  {
   "cell_type": "markdown",
   "id": "02b9b337",
   "metadata": {},
   "source": [
    "# Aligning Diarization"
   ]
  },
  {
   "cell_type": "code",
   "execution_count": 1,
   "id": "bfc834cd",
   "metadata": {},
   "outputs": [],
   "source": [
    "import re\n",
    "import pickle\n",
    "import glob\n",
    "import os\n",
    "import pandas as pd\n",
    "import pandas as pd\n",
    "from pydub import AudioSegment\n",
    "import os\n",
    "from transformers import pipeline\n",
    "from transformers import AutoModelForSpeechSeq2Seq, AutoProcessor, pipeline\n",
    "from transformers import pipeline\n",
    "import torch\n",
    "import librosa\n",
    "from pyannote.metrics.diarization import DiarizationErrorRate\n",
    "from pyannote.metrics.segmentation import SegmentationCoverage, SegmentationPurity\n",
    "from pyannote.audio.pipelines.utils.hook import ProgressHook\n",
    "from pyannote.core import Timeline, Segment\n",
    "from pyannote.database.util import load_rttm\n",
    "from pyannote.audio import Pipeline"
   ]
  },
  {
   "cell_type": "code",
   "execution_count": null,
   "id": "37162ad8",
   "metadata": {},
   "outputs": [],
   "source": [
    "device = \"cuda\" if torch.cuda.is_available else \"cpu\"\n",
    "print(device)"
   ]
  },
  {
   "cell_type": "code",
   "execution_count": 69,
   "id": "f6912a5f-ba5a-4f78-98f3-479b3dd57586",
   "metadata": {},
   "outputs": [],
   "source": [
    "with open(\"whisper_diarizations.pkl\", 'rb') as f:\n",
    "    all_diarizations = pickle.load(f)"
   ]
  },
  {
   "cell_type": "code",
   "execution_count": 7,
   "id": "7a5fc689",
   "metadata": {},
   "outputs": [],
   "source": [
    "folder_path = \"Audio_Files/\"\n",
    "audio_files = os.listdir(folder_path)[:-1]\n",
    "\n",
    "label_folder_path = \"Label_Files/\"\n",
    "label_files = os.listdir(label_folder_path)"
   ]
  },
  {
   "cell_type": "code",
   "execution_count": 13,
   "id": "f2926790",
   "metadata": {},
   "outputs": [],
   "source": [
    "audio_diarization_dict = dict(zip(audio_files, all_diarizations))"
   ]
  },
  {
   "cell_type": "code",
   "execution_count": 23,
   "id": "f5e369ef",
   "metadata": {},
   "outputs": [],
   "source": [
    "diarization_dict = {}\n",
    "merged_diarization_dict = {}"
   ]
  },
  {
   "cell_type": "code",
   "execution_count": 26,
   "id": "f01427eb-059d-416b-bcf0-706ed128a425",
   "metadata": {},
   "outputs": [],
   "source": [
    "for key, value in audio_diarization_dict.items():\n",
    "    clip_name = key.split(\".\")[0]\n",
    "    diarization = value"
   ]
  },
  {
   "cell_type": "code",
   "execution_count": 83,
   "id": "9468744c",
   "metadata": {
    "scrolled": true
   },
   "outputs": [],
   "source": [
    "for key, value in audio_diarization_dict.items():\n",
    "\n",
    "    clip_name = key.split(\".\")[0]\n",
    "    diarization = value\n",
    "\n",
    "    diarization_df = value\n",
    "    \n",
    "    diarization_df['speaker'] = diarization_df[\"teacher_talk\"].apply(lambda x: 'Teacher' if x==True  else 'Student')\n",
    "    diarization_df.columns = [\"start\", \"end\", \"teacher_talk\", \"speaker\"]\n",
    "    diarization_df = diarization_df.drop(['teacher_talk'], axis=1)\n",
    "\n",
    "    merged_data = []\n",
    "    \n",
    "    for i in range(0, len(diarization_df)-1, 2):\n",
    "        if ( (  (i + 1) < len(diarization_df)  ) & (diarization_df.iloc[i, 2] == diarization_df.iloc[i + 1, 2]) ):\n",
    "      #  if ( (  (i + 1) < len(diarization_df)  ) & (diarization_df.loc[i, 'speaker'] == diarization_df.loc[i + 1, 'speaker']) ):\n",
    "            merged_row = {\n",
    "                'start': diarization_df.loc[i, 'start'],\n",
    "                'end': diarization_df.loc[i + 1, 'end'],\n",
    "                'speaker': diarization_df.loc[i, 'speaker']\n",
    "            }\n",
    "            merged_data.append(merged_row)\n",
    "        else:\n",
    "            merged_data.append(diarization_df.iloc[i].to_dict())\n",
    "            if i + 1 < len(diarization_df):\n",
    "                merged_data.append(diarization_df.iloc[i + 1].to_dict())\n",
    "                \n",
    "    merged_df = pd.DataFrame(merged_data)\n",
    "    \n",
    "    diarization_dict[f\"{clip_name}\"] = diarization_df\n",
    "    merged_diarization_dict[f\"{clip_name}\"] = merged_df"
   ]
  },
  {
   "cell_type": "code",
   "execution_count": 87,
   "id": "9ad9367e",
   "metadata": {},
   "outputs": [],
   "source": [
    "metrics_list = []"
   ]
  },
  {
   "cell_type": "code",
   "execution_count": 88,
   "id": "a148c4a3",
   "metadata": {},
   "outputs": [],
   "source": [
    "for key, df in diarization_dict.items():\n",
    "    df[\"duration\"] = df[\"end\"] - df[\"start\"]\n",
    "    df[\"duration\"] = pd.to_numeric(df[\"duration\"], errors=\"coerce\")  # Coerce errors to NaN if not numeric\n",
    "    max_speaker = df.groupby(\"speaker\")[\"duration\"].sum().idxmax()\n",
    "    \n",
    "\n",
    "    df.loc[df[\"speaker\"] == max_speaker, \"speaker\"] = \"Teacher\"\n",
    "    df.loc[(~(df[\"speaker\"] == \"Teacher\") & (df[\"speaker\"] != \"Silence\")) , \"speaker\"] = \"Student\"\n",
    "    \n",
    "     # Calculate the percentage of rows for each speaker\n",
    "    speaker_counts = df[\"speaker\"].value_counts(normalize=True)\n",
    "    teacher_percentage = speaker_counts.get(\"Teacher\", 0)  # default to 0 if \"Teacher\" is not in the counts\n",
    "    student_percentage = speaker_counts.get(\"Student\", 0)  # default to 0 if \"Student\" is not in the counts\n",
    "\n",
    "    # Calculate the total duration for each speaker\n",
    "    teacher_duration = df[df[\"speaker\"] == \"Teacher\"][\"duration\"].sum()\n",
    "    student_duration = df[df[\"speaker\"] == \"Student\"][\"duration\"].sum()\n",
    "\n",
    "    # Append the calculated metrics as a dictionary\n",
    "    metrics_list.append({\n",
    "        \"clip\": key,\n",
    "        \"teacher_percentage\": teacher_percentage,\n",
    "        \"student_percentage\": student_percentage,\n",
    "        \"teacher_duration\": teacher_duration,\n",
    "        \"student_duration\": student_duration\n",
    "   #     \"silence_duration\": silence_duration\n",
    "    })\n",
    "\n",
    "# Create a DataFrame from the metrics list\n",
    "diarization_metrics_df = pd.DataFrame(metrics_list)"
   ]
  },
  {
   "cell_type": "code",
   "execution_count": 91,
   "id": "f12a8d51",
   "metadata": {},
   "outputs": [
    {
     "data": {
      "text/html": [
       "<div>\n",
       "<style scoped>\n",
       "    .dataframe tbody tr th:only-of-type {\n",
       "        vertical-align: middle;\n",
       "    }\n",
       "\n",
       "    .dataframe tbody tr th {\n",
       "        vertical-align: top;\n",
       "    }\n",
       "\n",
       "    .dataframe thead th {\n",
       "        text-align: right;\n",
       "    }\n",
       "</style>\n",
       "<table border=\"1\" class=\"dataframe\">\n",
       "  <thead>\n",
       "    <tr style=\"text-align: right;\">\n",
       "      <th></th>\n",
       "      <th>clip</th>\n",
       "      <th>teacher_percentage</th>\n",
       "      <th>student_percentage</th>\n",
       "      <th>teacher_duration</th>\n",
       "      <th>student_duration</th>\n",
       "    </tr>\n",
       "  </thead>\n",
       "  <tbody>\n",
       "  </tbody>\n",
       "</table>\n",
       "</div>"
      ],
      "text/plain": [
       "Empty DataFrame\n",
       "Columns: [clip, teacher_percentage, student_percentage, teacher_duration, student_duration]\n",
       "Index: []"
      ]
     },
     "execution_count": 91,
     "metadata": {},
     "output_type": "execute_result"
    }
   ],
   "source": [
    "# Check to make sure teachers are not talking more than students\n",
    "diarization_metrics_df[diarization_metrics_df[\"teacher_duration\"] < diarization_metrics_df[\"student_duration\"]]"
   ]
  },
  {
   "cell_type": "code",
   "execution_count": 93,
   "id": "6d583df7",
   "metadata": {},
   "outputs": [],
   "source": [
    "# Initialize an empty list to store the metrics\n",
    "label_metrics_list = []\n",
    "\n",
    "# Define the mapping of labels to speakers\n",
    "label_to_speaker = {\n",
    "    \"IST\": \"Teacher\", \"ST\": \"Teacher\", \"aOTR\": \"Teacher\", \"sOTR\": \"Teacher\", \n",
    "    \"REP\": \"Teacher\", \"RED\": \"Teacher\", \"GPRS\": \"Teacher\", \"BSP\": \"Teacher\", \n",
    "    \"aAFF\": \"Teacher\", \"aCORR\": \"Teacher\", \"NEU\": \"Teacher\", \n",
    "    \"SV\": \"Student\"\n",
    "}"
   ]
  },
  {
   "cell_type": "code",
   "execution_count": 94,
   "id": "a0a89b5d",
   "metadata": {},
   "outputs": [],
   "source": [
    "# Iterate through each label file in the directory\n",
    "for file_name in label_files:\n",
    "    # Extract the key from the filename (e.g., '273-4' from '273-4_labels.txt')\n",
    "    key = file_name.split('/')[-1].split('_')[0]\n",
    "    \n",
    "    file_path = os.path.join(label_folder_path, file_name)\n",
    "    # Read the label file into a DataFrame\n",
    "    df = pd.read_csv(file_path, sep=\"\\t\", header=None, names=[\"start\", \"end\", \"label\"])\n",
    "    \n",
    "    # Calculate the duration\n",
    "    df[\"duration\"] = df[\"end\"] - df[\"start\"]\n",
    "    \n",
    "    # Map the label to a speaker based on the defined mapping\n",
    "    df[\"speaker\"] = df[\"label\"].map(label_to_speaker).fillna(\"Unknown\")\n",
    "    \n",
    "    # Determine the most common speaker to label as \"Teacher\" for each file\n",
    "    max_speaker = df[\"speaker\"].value_counts().idxmax()\n",
    "    df.loc[df[\"speaker\"] == max_speaker, \"speaker\"] = \"Teacher\"\n",
    "    df.loc[(~(df[\"speaker\"] == \"Teacher\") & (df[\"speaker\"] != \"Unknown\")), \"speaker\"] = \"Student\"\n",
    "    \n",
    "    # Calculate the percentage of rows for each speaker\n",
    "    speaker_counts = df[\"speaker\"].value_counts(normalize=True)\n",
    "    teacher_percentage = speaker_counts.get(\"Teacher\", 0)\n",
    "    student_percentage = speaker_counts.get(\"Student\", 0)\n",
    "    \n",
    "    # Calculate the total duration for each speaker\n",
    "    teacher_duration = df[df[\"speaker\"] == \"Teacher\"][\"duration\"].sum()\n",
    "    student_duration = df[df[\"speaker\"] == \"Student\"][\"duration\"].sum()\n",
    "    \n",
    "    # Append the calculated metrics for this file to the list\n",
    "    label_metrics_list.append({\n",
    "        \"clip\": key,\n",
    "        \"teacher_percentage\": teacher_percentage,\n",
    "        \"student_percentage\": student_percentage,\n",
    "        \"teacher_duration\": teacher_duration,\n",
    "        \"student_duration\": student_duration\n",
    "    })\n",
    "\n",
    "# Create a DataFrame from the metrics list\n",
    "label_metrics_df = pd.DataFrame(label_metrics_list)"
   ]
  },
  {
   "cell_type": "code",
   "execution_count": 96,
   "id": "87673004",
   "metadata": {},
   "outputs": [],
   "source": [
    "merged = pd.merge(label_metrics_df, diarization_metrics_df, on = \"clip\")"
   ]
  },
  {
   "cell_type": "code",
   "execution_count": 97,
   "id": "06a9a72c",
   "metadata": {},
   "outputs": [
    {
     "data": {
      "text/html": [
       "<div>\n",
       "<style scoped>\n",
       "    .dataframe tbody tr th:only-of-type {\n",
       "        vertical-align: middle;\n",
       "    }\n",
       "\n",
       "    .dataframe tbody tr th {\n",
       "        vertical-align: top;\n",
       "    }\n",
       "\n",
       "    .dataframe thead th {\n",
       "        text-align: right;\n",
       "    }\n",
       "</style>\n",
       "<table border=\"1\" class=\"dataframe\">\n",
       "  <thead>\n",
       "    <tr style=\"text-align: right;\">\n",
       "      <th></th>\n",
       "      <th>clip</th>\n",
       "      <th>teacher_percentage_x</th>\n",
       "      <th>student_percentage_x</th>\n",
       "      <th>teacher_duration_x</th>\n",
       "      <th>student_duration_x</th>\n",
       "      <th>teacher_percentage_y</th>\n",
       "      <th>student_percentage_y</th>\n",
       "      <th>teacher_duration_y</th>\n",
       "      <th>student_duration_y</th>\n",
       "    </tr>\n",
       "  </thead>\n",
       "  <tbody>\n",
       "    <tr>\n",
       "      <th>0</th>\n",
       "      <td>273-4</td>\n",
       "      <td>0.656250</td>\n",
       "      <td>0.333333</td>\n",
       "      <td>490.893639</td>\n",
       "      <td>115.563120</td>\n",
       "      <td>0.503106</td>\n",
       "      <td>0.496894</td>\n",
       "      <td>474.78</td>\n",
       "      <td>120.34</td>\n",
       "    </tr>\n",
       "    <tr>\n",
       "      <th>1</th>\n",
       "      <td>273-3</td>\n",
       "      <td>0.737542</td>\n",
       "      <td>0.259136</td>\n",
       "      <td>785.784908</td>\n",
       "      <td>121.957100</td>\n",
       "      <td>0.500000</td>\n",
       "      <td>0.500000</td>\n",
       "      <td>763.84</td>\n",
       "      <td>136.50</td>\n",
       "    </tr>\n",
       "    <tr>\n",
       "      <th>2</th>\n",
       "      <td>273-2</td>\n",
       "      <td>0.630499</td>\n",
       "      <td>0.316716</td>\n",
       "      <td>914.856261</td>\n",
       "      <td>239.086245</td>\n",
       "      <td>0.501114</td>\n",
       "      <td>0.498886</td>\n",
       "      <td>888.48</td>\n",
       "      <td>371.28</td>\n",
       "    </tr>\n",
       "    <tr>\n",
       "      <th>3</th>\n",
       "      <td>273-1</td>\n",
       "      <td>0.604563</td>\n",
       "      <td>0.380228</td>\n",
       "      <td>554.288079</td>\n",
       "      <td>315.542282</td>\n",
       "      <td>0.500000</td>\n",
       "      <td>0.500000</td>\n",
       "      <td>567.74</td>\n",
       "      <td>318.20</td>\n",
       "    </tr>\n",
       "    <tr>\n",
       "      <th>4</th>\n",
       "      <td>264-6</td>\n",
       "      <td>0.732143</td>\n",
       "      <td>0.258929</td>\n",
       "      <td>610.486896</td>\n",
       "      <td>69.400261</td>\n",
       "      <td>0.500000</td>\n",
       "      <td>0.500000</td>\n",
       "      <td>599.34</td>\n",
       "      <td>86.00</td>\n",
       "    </tr>\n",
       "  </tbody>\n",
       "</table>\n",
       "</div>"
      ],
      "text/plain": [
       "    clip  teacher_percentage_x  student_percentage_x  teacher_duration_x  \\\n",
       "0  273-4              0.656250              0.333333          490.893639   \n",
       "1  273-3              0.737542              0.259136          785.784908   \n",
       "2  273-2              0.630499              0.316716          914.856261   \n",
       "3  273-1              0.604563              0.380228          554.288079   \n",
       "4  264-6              0.732143              0.258929          610.486896   \n",
       "\n",
       "   student_duration_x  teacher_percentage_y  student_percentage_y  \\\n",
       "0          115.563120              0.503106              0.496894   \n",
       "1          121.957100              0.500000              0.500000   \n",
       "2          239.086245              0.501114              0.498886   \n",
       "3          315.542282              0.500000              0.500000   \n",
       "4           69.400261              0.500000              0.500000   \n",
       "\n",
       "   teacher_duration_y  student_duration_y  \n",
       "0              474.78              120.34  \n",
       "1              763.84              136.50  \n",
       "2              888.48              371.28  \n",
       "3              567.74              318.20  \n",
       "4              599.34               86.00  "
      ]
     },
     "execution_count": 97,
     "metadata": {},
     "output_type": "execute_result"
    }
   ],
   "source": [
    "merged.head()"
   ]
  },
  {
   "cell_type": "code",
   "execution_count": 98,
   "id": "9fb56b79",
   "metadata": {},
   "outputs": [],
   "source": [
    "import matplotlib.pyplot as plt"
   ]
  },
  {
   "cell_type": "code",
   "execution_count": 101,
   "id": "f29c906a",
   "metadata": {},
   "outputs": [
    {
     "data": {
      "image/png": "[encoded data removed]",
      "text/plain": [
       "<Figure size 640x480 with 1 Axes>"
      ]
     },
     "metadata": {},
     "output_type": "display_data"
    }
   ],
   "source": [
    "%matplotlib inline\n",
    "plt.title(\"Duration of Teacher Talk\")\n",
    "plt.xlabel(\"Label Files\")\n",
    "plt.ylabel(\"Diarization\")\n",
    "plt.scatter(merged[\"teacher_duration_x\"], merged[\"teacher_duration_y\"]);"
   ]
  },
  {
   "cell_type": "code",
   "execution_count": 102,
   "id": "03c06344-5a42-4a10-bf90-877f78b61fe4",
   "metadata": {},
   "outputs": [
    {
     "data": {
      "image/png": "[encoded data removed]",
      "text/plain": [
       "<Figure size 640x480 with 1 Axes>"
      ]
     },
     "metadata": {},
     "output_type": "display_data"
    }
   ],
   "source": [
    "%matplotlib inline\n",
    "plt.title(\"Duration of Student Talk\")\n",
    "plt.xlabel(\"Label Files\")\n",
    "plt.ylabel(\"Diarization\")\n",
    "plt.scatter(merged[\"student_duration_x\"], merged[\"student_duration_y\"]);"
   ]
  },
  {
   "cell_type": "code",
   "execution_count": 103,
   "id": "96cf95dc-ae16-40aa-b888-75e7eb84344d",
   "metadata": {},
   "outputs": [],
   "source": [
    "output_dir = 'whisper_diarization_dfs'\n",
    "os.makedirs(output_dir, exist_ok=True)"
   ]
  },
  {
   "cell_type": "code",
   "execution_count": 104,
   "id": "60d12f67",
   "metadata": {},
   "outputs": [],
   "source": [
    "label_files = [label for label in sorted(os.listdir(\"Label_Files/\")) if ((\"speaker\" not in label) & (\".ipynb_checkpoints\" not in label))]"
   ]
  },
  {
   "cell_type": "code",
   "execution_count": 105,
   "id": "289f1079",
   "metadata": {},
   "outputs": [],
   "source": [
    "import pandas as pd\n",
    "import os\n",
    "from collections import defaultdict\n",
    "from typing import List, Tuple, Dict\n",
    "import pickle\n",
    "\n",
    "def is_overlap(start1: float, end1: float, start2: float, end2: float) -> bool:\n",
    "    \"\"\"Check if two time intervals overlap.\"\"\"\n",
    "    return max(start1, start2) < min(end1, end2)\n",
    "\n",
    "def get_dominant_label(labels_str: str) -> str:\n",
    "    \"\"\"Get the most frequent label from a space-separated string of labels.\"\"\"\n",
    "    if not labels_str:\n",
    "        return \"\"\n",
    "    labels = labels_str.split()\n",
    "    if not labels:\n",
    "        return \"\"\n",
    "    return max(set(labels), key=labels.count)\n",
    "\n",
    "def add_consecutive_labels(df: pd.DataFrame) -> pd.DataFrame:\n",
    "    \"\"\"Add columns for previous and next labels.\"\"\"\n",
    "    df = df.copy()\n",
    "    df['prev_label'] = df['predominant_label'].shift(1)\n",
    "    df['next_label'] = df['predominant_label'].shift(-1)\n",
    "    return df\n",
    "\n",
    "def combine_consecutive_rows(df: pd.DataFrame) -> pd.DataFrame:\n",
    "    \"\"\"Combine consecutive rows with the same predominant label.\"\"\"\n",
    "    if df.empty:\n",
    "        return df\n",
    "    \n",
    "    combined_rows = []\n",
    "    current_row = df.iloc[0].copy()\n",
    "    \n",
    "    for i in range(1, len(df)):\n",
    "        if df.iloc[i]['predominant_label'] == current_row['predominant_label']:\n",
    "            current_row['end'] = df.iloc[i]['end']\n",
    "            current_row['duration'] = current_row['end'] - current_row['start']\n",
    "        else:\n",
    "            combined_rows.append(current_row)\n",
    "            current_row = df.iloc[i].copy()\n",
    "    \n",
    "    combined_rows.append(current_row)\n",
    "    return pd.DataFrame(combined_rows)"
   ]
  },
  {
   "cell_type": "code",
   "execution_count": 106,
   "id": "8da16ab8-14ca-477d-9d71-fd9a5a40b51e",
   "metadata": {},
   "outputs": [],
   "source": [
    "import pandas as pd\n",
    "\n",
    "def combine_close_segments(diarization_dict, threshold_ms):\n",
    "    combined_dict = {}\n",
    "    \n",
    "    for key, df in diarization_dict.items():\n",
    "        # Make a copy to avoid modifying original\n",
    "        temp_df = df.copy().reset_index(drop=True)\n",
    "        \n",
    "        # Initialize list to store combined rows\n",
    "        combined_rows = []\n",
    "        current_row = temp_df.iloc[0].to_dict()\n",
    "        \n",
    "        for i in range(1, len(temp_df)):\n",
    "            next_row = temp_df.iloc[i]\n",
    "            \n",
    "            # Calculate gap between current segment end and next segment start\n",
    "            time_gap = next_row['start'] - current_row['end']\n",
    "            \n",
    "            # If same speaker and gap is less than threshold, combine segments\n",
    "            if (next_row['speaker'] == current_row['speaker']) and (time_gap < threshold_ms):\n",
    "                # Update end time and duration of current segment\n",
    "                current_row['end'] = next_row['end']\n",
    "                current_row['duration'] = current_row['end'] - current_row['start']\n",
    "            else:\n",
    "                # Add current segment to results and start new segment\n",
    "                combined_rows.append(current_row)\n",
    "                current_row = next_row.to_dict()\n",
    "        \n",
    "        # Add the last segment\n",
    "        combined_rows.append(current_row)\n",
    "        \n",
    "        # Convert back to DataFrame\n",
    "        combined_dict[key] = pd.DataFrame(combined_rows)\n",
    "    \n",
    "    return combined_dict\n",
    "\n",
    "# Create the two versions with different thresholds\n",
    "def create_combined_versions(diarization_dict):\n",
    "    combined_diarization_dict_500 = combine_close_segments(diarization_dict, 500)\n",
    "    combined_diarization_dict_250 = combine_close_segments(diarization_dict, 250)\n",
    "    return combined_diarization_dict_500, combined_diarization_dict_250"
   ]
  },
  {
   "cell_type": "code",
   "execution_count": 107,
   "id": "6b9c1947-8533-44d1-a2d5-27f4a701a5cc",
   "metadata": {},
   "outputs": [],
   "source": [
    "# Assuming you have your original diarization_dict\n",
    "combined_diarization_dict_500, combined_diarization_dict_250 = create_combined_versions(diarization_dict)"
   ]
  },
  {
   "cell_type": "code",
   "execution_count": 108,
   "id": "efdcb500-0972-4b24-9fa9-6f0c532edb98",
   "metadata": {},
   "outputs": [],
   "source": [
    "# Create a copy of the dictionary to store results\n",
    "transcribed_dict = {}"
   ]
  },
  {
   "cell_type": "code",
   "execution_count": 109,
   "id": "f2f46339-0079-42dd-bff5-d951ec50be6a",
   "metadata": {},
   "outputs": [],
   "source": [
    "import torch \n",
    "torch.cuda.empty_cache()"
   ]
  },
  {
   "cell_type": "code",
   "execution_count": null,
   "id": "933d990b-7ee7-4a76-befa-d4f3bf8aeecf",
   "metadata": {},
   "outputs": [],
   "source": [
    "import pickle"
   ]
  },
  {
   "cell_type": "code",
   "execution_count": 109,
   "id": "89a6152f-c5bb-4231-a4c3-f46cf0508882",
   "metadata": {},
   "outputs": [],
   "source": [
    "# Path to the folder containing the CSV files\n",
    "STABLE_TS_FOLDER = 'stable_ts_csv'\n",
    "\n",
    "# Initialize the dictionary to store the DataFrames\n",
    "tl_transcripts = {}\n",
    "\n",
    "# Iterate over the CSV files in the folder\n",
    "for csv_file in os.listdir(STABLE_TS_FOLDER):\n",
    "    if csv_file.endswith('.csv'):  # Ensure it's a CSV file\n",
    "        # Extract the key by removing the file extension\n",
    "        file_key = os.path.splitext(csv_file)[0]\n",
    "        # Read the CSV file into a DataFrame\n",
    "        file_path = os.path.join(STABLE_TS_FOLDER, csv_file)\n",
    "        tl_transcripts[file_key] = pd.read_csv(file_path)"
   ]
  },
  {
   "cell_type": "code",
   "execution_count": 111,
   "id": "444e088d-1986-4d1c-93a6-6be95711b89f",
   "metadata": {},
   "outputs": [],
   "source": [
    "aligned_dict = {}"
   ]
  },
  {
   "cell_type": "code",
   "execution_count": 112,
   "id": "bad242ab-7dee-4a0d-b3ca-bb4dd3325165",
   "metadata": {},
   "outputs": [],
   "source": [
    "for label in label_files:\n",
    "    \n",
    "    df = pd.read_csv(f\"Label_Files/{label}\", sep = \"\\t\", header = None)\n",
    "    df.columns = [\"start\", \"end\", \"label\"]\n",
    "\n",
    "    clip = label.split(\"_\")[0]\n",
    "\n",
    "    transcript_df = combined_diarization_dict_500[clip] \n",
    "    \n",
    "    # Reset the index of the filtered DataFrame\n",
    "    transcript_df = transcript_df.reset_index(drop=True)\n",
    "    \n",
    "    labels = []\n",
    "    predominant_labels = []\n",
    "    max_overlaps = []\n",
    "    durations = []\n",
    "    all_overlaps = []\n",
    "    \n",
    "    for i, row in transcript_df.iterrows():\n",
    "    \n",
    "        durations.append(row[\"end\"] - row[\"start\"])\n",
    "        \n",
    "        overlaps = df.apply(\n",
    "            lambda x: (x['label'], min(row['end'], x['end']) - max(row['start'], x['start'])) \n",
    "            if is_overlap(row['start'], row['end'], x['start'], x['end']) else (None, 0), \n",
    "            axis=1\n",
    "        )\n",
    "        \n",
    "        # Filter out non-overlapping entries\n",
    "        overlaps = overlaps[overlaps.apply(lambda x: x[0] is not None)]\n",
    "        \n",
    "        # Extract labels and their corresponding overlap times\n",
    "        overlapping_labels = overlaps.apply(lambda x: x[0])\n",
    "        \n",
    "        overlapping_labels.reset_index(drop=True, inplace=True)\n",
    "        # Add the list of overlapping labels to the labels\n",
    "        \n",
    "        labels.append(\" \".join(overlapping_labels))\n",
    "        \n",
    "        # Initialize a defaultdict to store the summed values\n",
    "        collapsed_dict = defaultdict(float)\n",
    "        \n",
    "        # Iterate over the series and sum values for each key\n",
    "        for item in overlaps:\n",
    "            key, value = item\n",
    "            collapsed_dict[key] += value\n",
    "        \n",
    "        # Convert the defaultdict back to a list of tuples (or a Pandas series if needed)\n",
    "        collapsed_list = list(collapsed_dict.items())\n",
    "        non_empty_label_overlap = [item for item in collapsed_list if item[0] is not None]\n",
    "        collapsed_series = pd.Series(collapsed_list)\n",
    "        \n",
    "        \n",
    "        overlap_times = collapsed_series.apply(lambda x: x[1])\n",
    "        overlap_labels = collapsed_series.apply(lambda x: x[0])\n",
    "        \n",
    "        \n",
    "        overlap_times.reset_index(drop=True, inplace=True)\n",
    "        overlap_labels.reset_index(drop=True, inplace=True)\n",
    "        \n",
    "        # print(len(overlap_labels), len(overlap_times))\n",
    "        \n",
    "        # Determine the predominant label (the one with the greatest overlap time)\n",
    "        if not overlap_times.empty:\n",
    "           # print(overlap_times)\n",
    "            predominant_label = overlap_labels.iloc[overlap_times.idxmax()]\n",
    "            predominant_labels.append(predominant_label)\n",
    "            max_overlap = overlap_times.iloc[overlap_times.idxmax()]\n",
    "            max_overlaps.append(max_overlap)\n",
    "            all_overlaps.append(non_empty_label_overlap)\n",
    "        else:\n",
    "            predominant_labels.append(\"\")\n",
    "            max_overlaps.append(\"\")\n",
    "            all_overlaps.append(\"\")\n",
    "\n",
    "    \n",
    "    # print(transcript_df.shape)\n",
    "    transcript_df[\"duration\"] = durations\n",
    "    transcript_df[\"label\"] = labels\n",
    "    transcript_df[\"max_overlap\"] = max_overlaps\n",
    "    transcript_df['predominant_label'] = predominant_labels\n",
    "    most_common_label = transcript_df['label'].apply(get_dominant_label)\n",
    "    transcript_df['most_common_label'] = most_common_label\n",
    "    transcript_df[\"all_overlaps\"] = all_overlaps\n",
    "    # print(transcript_df.shape)\n",
    "    \n",
    "    label_lists = [element.split(\" \") for element in transcript_df[\"label\"].tolist()]\n",
    "        \n",
    "    transcript_df = add_consecutive_labels(transcript_df)\n",
    "    \n",
    "    aligned_dict[clip] = transcript_df"
   ]
  },
  {
   "cell_type": "code",
   "execution_count": 114,
   "id": "b144a3f0",
   "metadata": {},
   "outputs": [],
   "source": [
    "def txt2rttm(path_to_txt, output_folder):\n",
    "    \"\"\"\n",
    "    Convert a txt file with the format 'onset offset speaker' to an RTTM file.\n",
    "    Parameters\n",
    "    ----------\n",
    "    path_to_txt : str\n",
    "        Path to the txt file.\n",
    "    output_folder : str\n",
    "        Path to the output folder.\n",
    "    Returns\n",
    "    -------\n",
    "    None\n",
    "    \"\"\"\n",
    "    if not os.path.exists(output_folder):\n",
    "        os.makedirs(output_folder)\n",
    "    basename = os.path.splitext(os.path.basename(path_to_txt))[0]\n",
    "    output_path = os.path.join(output_folder, basename + '.rttm')\n",
    "    \n",
    "    with open(path_to_txt, 'r') as txt, open(output_path, 'w') as rttm:\n",
    "        for line in txt:\n",
    "            onset, offset, speaker = line.rstrip().split('\\t')\n",
    "            if ((onset != \"\") & (offset != \"\") & (speaker != \"\")):\n",
    "                dur = float(offset) - float(onset)\n",
    "                rttm.write(f\"SPEAKER {basename} 1 {onset} {dur} <NA> <NA> {speaker} <NA>\\n\")\n",
    "\n",
    "def save_as_txt(clip_name, df, output_folder):\n",
    "    \"\"\"\n",
    "    Save only the required columns (onset, offset, speaker) to a txt file.\n",
    "    \"\"\"\n",
    "    if not os.path.exists(output_folder):\n",
    "        os.makedirs(output_folder)\n",
    "        \n",
    "    # Ensure the required columns exist in the dataframe\n",
    "    required_columns = ['start', 'end', 'speaker']\n",
    "    \n",
    "    # Select only the required columns, assuming they exist in the dataframe\n",
    "    # If column names are different, modify this part accordingly\n",
    "    df_subset = df[required_columns].copy()\n",
    "    \n",
    "    file_path = os.path.join(output_folder, clip_name)\n",
    "    df_subset.to_csv(file_path, sep=\"\\t\", index=False, header=False)\n",
    "    return file_path\n"
   ]
  },
  {
   "cell_type": "code",
   "execution_count": 115,
   "id": "a7d8c39c-48f7-4973-9239-590c8a304110",
   "metadata": {},
   "outputs": [],
   "source": [
    "output_folder = \"whisper_diarization_rttm\""
   ]
  },
  {
   "cell_type": "code",
   "execution_count": 116,
   "id": "460714e4",
   "metadata": {},
   "outputs": [],
   "source": [
    "for clip_name, df in diarization_dict.items():\n",
    "    path_to_txt = save_as_txt(clip_name, df, \"diarization_txt\")\n",
    "    txt2rttm(path_to_txt, output_folder)"
   ]
  },
  {
   "cell_type": "code",
   "execution_count": 117,
   "id": "3f455574",
   "metadata": {},
   "outputs": [],
   "source": [
    "def gather_groundtruth_rttm_paths(folder_path):\n",
    "    data = []\n",
    "    \n",
    "    # Loop through the files in the folder\n",
    "    for filename in os.listdir(folder_path):\n",
    "        # Ensure it's a file and has an rttm extension\n",
    "        if filename.endswith(\".rttm\"):\n",
    "            clip_name = os.path.splitext(filename)[0].split(\"_\")[0]\n",
    "            file_path = os.path.join(folder_path, filename)\n",
    "            data.append({\"clip\": clip_name, \"path\": file_path})\n",
    "    \n",
    "    # Create a DataFrame from the gathered data\n",
    "    df = pd.DataFrame(data, columns=[\"clip\", \"path\"])\n",
    "    \n",
    "    return df"
   ]
  },
  {
   "cell_type": "code",
   "execution_count": 118,
   "id": "bd8dcb3b-d0b8-4da0-be5b-46f111ec7828",
   "metadata": {},
   "outputs": [],
   "source": [
    "folder_path = \"./whisper_diarization_rttm/\"\n",
    "whisper_rttm_df = gather_groundtruth_rttm_paths(folder_path)\n",
    "whisper_rttm_df.rename(columns={\"path\": \"rttm_df_path\"}, inplace=True)"
   ]
  },
  {
   "cell_type": "code",
   "execution_count": 180,
   "id": "6b6c3aba",
   "metadata": {},
   "outputs": [],
   "source": [
    "folder_path = \"./label_files_rttm\"\n",
    "groundtruth_rttm_df = gather_groundtruth_rttm_paths(folder_path)\n",
    "groundtruth_rttm_df .rename(columns={\"path\": \"rttm_df_path\"}, inplace=True)"
   ]
  },
  {
   "cell_type": "code",
   "execution_count": 176,
   "id": "6cb0252d-cd15-4d3f-8dcc-648740ca4c72",
   "metadata": {},
   "outputs": [],
   "source": [
    "merged_df = groundtruth_rttm_df.merge(whisper_rttm_df, on='clip', how='outer')"
   ]
  },
  {
   "cell_type": "code",
   "execution_count": 185,
   "id": "1e346ffd",
   "metadata": {},
   "outputs": [],
   "source": [
    "def compute_metrics(groundtruth, hypothesis):\n",
    "    metric_coverage = SegmentationCoverage()\n",
    "    metric_purity = SegmentationPurity()\n",
    "    coverage = metric_coverage(groundtruth, hypothesis)\n",
    "    purity = metric_purity(groundtruth, hypothesis)\n",
    "    return coverage, purity"
   ]
  },
  {
   "cell_type": "code",
   "execution_count": 186,
   "id": "9a3d8ad1",
   "metadata": {},
   "outputs": [],
   "source": [
    "results = {\n",
    "    'clip': [],\n",
    "    'rttm_df_path_coverage': [],\n",
    "    'rttm_df_path_purity': [],\n",
    "    'diarization_rttm_df_path_coverage': [],\n",
    "    'diarization_rttm_df_path_purity': [],\n",
    "}"
   ]
  },
  {
   "cell_type": "code",
   "execution_count": 187,
   "id": "460aafa1",
   "metadata": {},
   "outputs": [],
   "source": [
    "for _, row in merged_df.iterrows():\n",
    "    clip = row['clip']\n",
    "    groundtruth_path = row['rttm_df_path']\n",
    "    _, groundtruth = load_rttm(groundtruth_path).popitem()\n",
    "    \n",
    "    for col in ['diarization_rttm_df_path']:\n",
    "        if pd.notna(row[col]):\n",
    "            hypothesis_path = row[col]\n",
    "            _ ,hypothesis = load_rttm(hypothesis_path).popitem()\n",
    "            coverage, purity = compute_metrics(groundtruth, hypothesis)\n",
    "        else:\n",
    "            coverage, purity = None, None\n",
    "\n",
    "        results[f'{col}_coverage'].append(coverage)\n",
    "        results[f'{col}_purity'].append(purity)\n",
    "    \n",
    "    results['clip'].append(clip)\n",
    "    results['rttm_df_path_coverage'].append(None)\n",
    "    results['rttm_df_path_purity'].append(None)"
   ]
  },
  {
   "cell_type": "code",
   "execution_count": 188,
   "id": "c7f5ebe0",
   "metadata": {},
   "outputs": [],
   "source": [
    "results_df = pd.DataFrame(results)"
   ]
  },
  {
   "cell_type": "code",
   "execution_count": 193,
   "id": "955b50b8-3464-4242-9b07-f18cd34299ca",
   "metadata": {},
   "outputs": [],
   "source": [
    "def calculate_f2_score(df, coverage_col, purity_col):\n",
    "    # Ensure the columns exist in the DataFrame\n",
    "    if coverage_col not in df.columns or purity_col not in df.columns:\n",
    "        raise ValueError(f\"Columns {coverage_col} and/or {purity_col} not found in DataFrame\")\n",
    "    \n",
    "    # Calculate precision and recall\n",
    "    recall = df[coverage_col]\n",
    "    precision = df[purity_col]\n",
    "    \n",
    "    # Calculate F2 score\n",
    "    f2_score = 2 * (precision * recall) / (precision + recall)\n",
    "    \n",
    "    return f2_score"
   ]
  },
  {
   "cell_type": "code",
   "execution_count": 194,
   "id": "e9b65471-58b4-4252-87a5-bc068ef4d45b",
   "metadata": {},
   "outputs": [],
   "source": [
    "f2_scores = pd.concat([results_df, calculate_f2_score(results_df, \"diarization_rttm_df_path_coverage\", \"diarization_rttm_df_path_purity\")], axis = 1)"
   ]
  },
  {
   "cell_type": "code",
   "execution_count": 195,
   "id": "e87fe1f2-da55-44fa-9bb2-df9907de58bd",
   "metadata": {},
   "outputs": [],
   "source": [
    "f2_scores.rename(columns = {0: \"pseudo_f1\"}, inplace = True)"
   ]
  },
  {
   "cell_type": "code",
   "execution_count": 151,
   "id": "de763c6b-bc8f-443a-9406-ca61091bd9e8",
   "metadata": {},
   "outputs": [
    {
     "data": {
      "text/plain": [
       "0.9104888090789224"
      ]
     },
     "execution_count": 151,
     "metadata": {},
     "output_type": "execute_result"
    }
   ],
   "source": [
    "f2_scores[\"pseudo_f1\"].mean()"
   ]
  },
  {
   "cell_type": "code",
   "execution_count": 201,
   "id": "79296d87-f43e-4c99-8659-e702d97994c5",
   "metadata": {},
   "outputs": [
    {
     "data": {
      "text/plain": [
       "0.47604452095704747"
      ]
     },
     "execution_count": 201,
     "metadata": {},
     "output_type": "execute_result"
    }
   ],
   "source": [
    "f2_scores[\"diarization_rttm_df_path_coverage\"].median()"
   ]
  },
  {
   "cell_type": "code",
   "execution_count": 202,
   "id": "d628993f-8ab7-402e-b212-637fe3a96ff4",
   "metadata": {},
   "outputs": [
    {
     "data": {
      "text/plain": [
       "0.6308786805284503"
      ]
     },
     "execution_count": 202,
     "metadata": {},
     "output_type": "execute_result"
    }
   ],
   "source": [
    "f2_scores[\"pseudo_f1\"].median()"
   ]
  },
  {
   "cell_type": "code",
   "execution_count": 137,
   "id": "af88c4ed-91b8-4373-9427-80a6999b62c1",
   "metadata": {},
   "outputs": [
    {
     "data": {
      "text/html": [
       "<div>\n",
       "<style scoped>\n",
       "    .dataframe tbody tr th:only-of-type {\n",
       "        vertical-align: middle;\n",
       "    }\n",
       "\n",
       "    .dataframe tbody tr th {\n",
       "        vertical-align: top;\n",
       "    }\n",
       "\n",
       "    .dataframe thead th {\n",
       "        text-align: right;\n",
       "    }\n",
       "</style>\n",
       "<table border=\"1\" class=\"dataframe\">\n",
       "  <thead>\n",
       "    <tr style=\"text-align: right;\">\n",
       "      <th></th>\n",
       "      <th>clip</th>\n",
       "      <th>diarization_rttm_df_path_coverage</th>\n",
       "      <th>diarization_rttm_df_path_purity</th>\n",
       "      <th>pseudo_f1</th>\n",
       "    </tr>\n",
       "  </thead>\n",
       "  <tbody>\n",
       "    <tr>\n",
       "      <th>128</th>\n",
       "      <td>008-10</td>\n",
       "      <td>0.975945</td>\n",
       "      <td>0.981246</td>\n",
       "      <td>0.978588</td>\n",
       "    </tr>\n",
       "    <tr>\n",
       "      <th>88</th>\n",
       "      <td>088-1</td>\n",
       "      <td>0.983517</td>\n",
       "      <td>0.971388</td>\n",
       "      <td>0.977415</td>\n",
       "    </tr>\n",
       "    <tr>\n",
       "      <th>13</th>\n",
       "      <td>254-3</td>\n",
       "      <td>0.969041</td>\n",
       "      <td>0.979213</td>\n",
       "      <td>0.974101</td>\n",
       "    </tr>\n",
       "    <tr>\n",
       "      <th>122</th>\n",
       "      <td>008-6</td>\n",
       "      <td>0.980115</td>\n",
       "      <td>0.967887</td>\n",
       "      <td>0.973963</td>\n",
       "    </tr>\n",
       "    <tr>\n",
       "      <th>83</th>\n",
       "      <td>105-1</td>\n",
       "      <td>0.974798</td>\n",
       "      <td>0.971046</td>\n",
       "      <td>0.972918</td>\n",
       "    </tr>\n",
       "  </tbody>\n",
       "</table>\n",
       "</div>"
      ],
      "text/plain": [
       "       clip  diarization_rttm_df_path_coverage  \\\n",
       "128  008-10                           0.975945   \n",
       "88    088-1                           0.983517   \n",
       "13    254-3                           0.969041   \n",
       "122   008-6                           0.980115   \n",
       "83    105-1                           0.974798   \n",
       "\n",
       "     diarization_rttm_df_path_purity  pseudo_f1  \n",
       "128                         0.981246   0.978588  \n",
       "88                          0.971388   0.977415  \n",
       "13                          0.979213   0.974101  \n",
       "122                         0.967887   0.973963  \n",
       "83                          0.971046   0.972918  "
      ]
     },
     "execution_count": 137,
     "metadata": {},
     "output_type": "execute_result"
    }
   ],
   "source": [
    "f2_scores[[\"clip\", \"diarization_rttm_df_path_coverage\", \"diarization_rttm_df_path_purity\", \"pseudo_f1\"]].sort_values(by = \"pseudo_f1\", ascending = False).head(5)"
   ]
  },
  {
   "cell_type": "code",
   "execution_count": 147,
   "id": "d403894d-5bd7-402b-aa8c-a8d03125efc2",
   "metadata": {},
   "outputs": [
    {
     "data": {
      "text/html": [
       "<div>\n",
       "<style scoped>\n",
       "    .dataframe tbody tr th:only-of-type {\n",
       "        vertical-align: middle;\n",
       "    }\n",
       "\n",
       "    .dataframe tbody tr th {\n",
       "        vertical-align: top;\n",
       "    }\n",
       "\n",
       "    .dataframe thead th {\n",
       "        text-align: right;\n",
       "    }\n",
       "</style>\n",
       "<table border=\"1\" class=\"dataframe\">\n",
       "  <thead>\n",
       "    <tr style=\"text-align: right;\">\n",
       "      <th></th>\n",
       "      <th>clip</th>\n",
       "      <th>diarization_rttm_df_path_coverage</th>\n",
       "      <th>diarization_rttm_df_path_purity</th>\n",
       "      <th>pseudo_f1</th>\n",
       "    </tr>\n",
       "  </thead>\n",
       "  <tbody>\n",
       "    <tr>\n",
       "      <th>19</th>\n",
       "      <td>252-2</td>\n",
       "      <td>0.708227</td>\n",
       "      <td>0.950465</td>\n",
       "      <td>0.811657</td>\n",
       "    </tr>\n",
       "    <tr>\n",
       "      <th>7</th>\n",
       "      <td>264-3</td>\n",
       "      <td>0.630720</td>\n",
       "      <td>0.993857</td>\n",
       "      <td>0.771703</td>\n",
       "    </tr>\n",
       "    <tr>\n",
       "      <th>115</th>\n",
       "      <td>038-1</td>\n",
       "      <td>0.654225</td>\n",
       "      <td>0.892077</td>\n",
       "      <td>0.754858</td>\n",
       "    </tr>\n",
       "    <tr>\n",
       "      <th>18</th>\n",
       "      <td>252-1</td>\n",
       "      <td>0.577597</td>\n",
       "      <td>0.969878</td>\n",
       "      <td>0.724016</td>\n",
       "    </tr>\n",
       "    <tr>\n",
       "      <th>0</th>\n",
       "      <td>273-4</td>\n",
       "      <td>0.083572</td>\n",
       "      <td>1.000000</td>\n",
       "      <td>0.154252</td>\n",
       "    </tr>\n",
       "  </tbody>\n",
       "</table>\n",
       "</div>"
      ],
      "text/plain": [
       "      clip  diarization_rttm_df_path_coverage  \\\n",
       "19   252-2                           0.708227   \n",
       "7    264-3                           0.630720   \n",
       "115  038-1                           0.654225   \n",
       "18   252-1                           0.577597   \n",
       "0    273-4                           0.083572   \n",
       "\n",
       "     diarization_rttm_df_path_purity  pseudo_f1  \n",
       "19                          0.950465   0.811657  \n",
       "7                           0.993857   0.771703  \n",
       "115                         0.892077   0.754858  \n",
       "18                          0.969878   0.724016  \n",
       "0                           1.000000   0.154252  "
      ]
     },
     "execution_count": 147,
     "metadata": {},
     "output_type": "execute_result"
    }
   ],
   "source": [
    "f2_scores[[\"clip\", \"diarization_rttm_df_path_coverage\", \"diarization_rttm_df_path_purity\", \"pseudo_f1\"]].sort_values(by = \"pseudo_f1\", ascending = False).tail(5)"
   ]
  },
  {
   "cell_type": "code",
   "execution_count": 138,
   "id": "c8fbeef4-f343-4c11-a58f-c5f95dd60364",
   "metadata": {},
   "outputs": [
    {
     "data": {
      "image/png": "[encoded data removed]",
      "text/plain": [
       "<Figure size 640x480 with 1 Axes>"
      ]
     },
     "metadata": {},
     "output_type": "display_data"
    }
   ],
   "source": [
    "plt.title(\"Distribution of Coverage\")\n",
    "results_df[\"diarization_rttm_df_path_coverage\"].hist();"
   ]
  },
  {
   "cell_type": "code",
   "execution_count": 76,
   "id": "88638554",
   "metadata": {},
   "outputs": [
    {
     "data": {
      "image/png": "[encoded data removed]",
      "text/plain": [
       "<Figure size 640x480 with 1 Axes>"
      ]
     },
     "metadata": {},
     "output_type": "display_data"
    }
   ],
   "source": [
    "plt.title(\"Distribution of Coverage\")\n",
    "results_df[\"diarization_rttm_df_path_coverage\"].hist();"
   ]
  },
  {
   "cell_type": "code",
   "execution_count": 140,
   "id": "aa8aba84",
   "metadata": {},
   "outputs": [],
   "source": [
    "aligned_transcripts = {}\n",
    "\n",
    "for clip, transcript_df in tl_transcripts.items():\n",
    "    # Ensure both the transcript and diarization data exist for the clip\n",
    "    if clip not in aligned_dict:\n",
    "        print(f\"Warning: No diarization data found for {clip}. Skipping...\")\n",
    "        continue\n",
    "\n",
    "    diarization_df = aligned_dict[clip]\n",
    "    # Reset the index for the aligned DataFrame\n",
    "    diarization_df = diarization_df.reset_index(drop=True)\n",
    "    diarization_df['transcript'] = ''  # Add a new column for the aligned transcript\n",
    "\n",
    "    # Iterate over diarization segments\n",
    "    for i, diarization_row in diarization_df.iterrows():\n",
    "        segment_start = diarization_row['start']\n",
    "        segment_end = diarization_row['end']\n",
    "\n",
    "        # Filter words that overlap with the diarization segment\n",
    "        overlapping_words = transcript_df[\n",
    "            (transcript_df['start'] < segment_end) &\n",
    "            (transcript_df['end'] > segment_start)\n",
    "        ]\n",
    "\n",
    "        # Concatenate overlapping words to form the segment transcript\n",
    "        concatenated_transcript = ' '.join(overlapping_words['word'].tolist())\n",
    "        diarization_df.at[i, 'transcript'] = concatenated_transcript\n",
    "\n",
    "    # Save the aligned diarization DataFrame with transcripts to the result dictionary\n",
    "    aligned_transcripts[clip] = diarization_df"
   ]
  },
  {
   "cell_type": "code",
   "execution_count": 145,
   "id": "2a90b091-7955-4fa7-b6e7-96faa6d18c99",
   "metadata": {},
   "outputs": [],
   "source": [
    "output_dir = 'combined_500ms_whisper_diarization_stable_ts_aligned'\n",
    "os.makedirs(output_dir, exist_ok=True)"
   ]
  },
  {
   "cell_type": "code",
   "execution_count": 146,
   "id": "70d451d1-3b11-4ce7-9176-25cb56084306",
   "metadata": {},
   "outputs": [
    {
     "name": "stdout",
     "output_type": "stream",
     "text": [
      "Saved: combined_500ms_whisper_diarization_stable_ts_aligned/008-7.csv\n",
      "Saved: combined_500ms_whisper_diarization_stable_ts_aligned/131-6.csv\n",
      "Saved: combined_500ms_whisper_diarization_stable_ts_aligned/131-7.csv\n",
      "Saved: combined_500ms_whisper_diarization_stable_ts_aligned/008-6.csv\n",
      "Saved: combined_500ms_whisper_diarization_stable_ts_aligned/123-4.csv\n",
      "Saved: combined_500ms_whisper_diarization_stable_ts_aligned/008-4.csv\n",
      "Saved: combined_500ms_whisper_diarization_stable_ts_aligned/038-2.csv\n",
      "Saved: combined_500ms_whisper_diarization_stable_ts_aligned/131-5.csv\n",
      "Saved: combined_500ms_whisper_diarization_stable_ts_aligned/108-1.csv\n",
      "Saved: combined_500ms_whisper_diarization_stable_ts_aligned/131-4.csv\n",
      "Saved: combined_500ms_whisper_diarization_stable_ts_aligned/038-3.csv\n",
      "Saved: combined_500ms_whisper_diarization_stable_ts_aligned/008-5.csv\n",
      "Saved: combined_500ms_whisper_diarization_stable_ts_aligned/123-1.csv\n",
      "Saved: combined_500ms_whisper_diarization_stable_ts_aligned/105-2.csv\n",
      "Saved: combined_500ms_whisper_diarization_stable_ts_aligned/008-1.csv\n",
      "Saved: combined_500ms_whisper_diarization_stable_ts_aligned/046-1.csv\n",
      "Saved: combined_500ms_whisper_diarization_stable_ts_aligned/108-4.csv\n",
      "Saved: combined_500ms_whisper_diarization_stable_ts_aligned/027-1.csv\n",
      "Saved: combined_500ms_whisper_diarization_stable_ts_aligned/107-1.csv\n",
      "Saved: combined_500ms_whisper_diarization_stable_ts_aligned/105-1.csv\n",
      "Saved: combined_500ms_whisper_diarization_stable_ts_aligned/107-3.csv\n",
      "Saved: combined_500ms_whisper_diarization_stable_ts_aligned/046-2.csv\n",
      "Saved: combined_500ms_whisper_diarization_stable_ts_aligned/131-3.csv\n",
      "Saved: combined_500ms_whisper_diarization_stable_ts_aligned/038-4.csv\n",
      "Saved: combined_500ms_whisper_diarization_stable_ts_aligned/027-3.csv\n",
      "Saved: combined_500ms_whisper_diarization_stable_ts_aligned/027-2.csv\n",
      "Saved: combined_500ms_whisper_diarization_stable_ts_aligned/008-3.csv\n",
      "Saved: combined_500ms_whisper_diarization_stable_ts_aligned/123-3.csv\n",
      "Saved: combined_500ms_whisper_diarization_stable_ts_aligned/008-11.csv\n",
      "Saved: combined_500ms_whisper_diarization_stable_ts_aligned/058-3.csv\n",
      "Saved: combined_500ms_whisper_diarization_stable_ts_aligned/130-5.csv\n",
      "Saved: combined_500ms_whisper_diarization_stable_ts_aligned/264-6.csv\n",
      "Saved: combined_500ms_whisper_diarization_stable_ts_aligned/055-5.csv\n",
      "Saved: combined_500ms_whisper_diarization_stable_ts_aligned/055-4.csv\n",
      "Saved: combined_500ms_whisper_diarization_stable_ts_aligned/058-2.csv\n",
      "Saved: combined_500ms_whisper_diarization_stable_ts_aligned/053-2.csv\n",
      "Saved: combined_500ms_whisper_diarization_stable_ts_aligned/008-10.csv\n",
      "Saved: combined_500ms_whisper_diarization_stable_ts_aligned/008-12.csv\n",
      "Saved: combined_500ms_whisper_diarization_stable_ts_aligned/252-5.csv\n",
      "Saved: combined_500ms_whisper_diarization_stable_ts_aligned/130-6.csv\n",
      "Saved: combined_500ms_whisper_diarization_stable_ts_aligned/051-2.csv\n",
      "Saved: combined_500ms_whisper_diarization_stable_ts_aligned/129-7.csv\n",
      "Saved: combined_500ms_whisper_diarization_stable_ts_aligned/055-6.csv\n",
      "Saved: combined_500ms_whisper_diarization_stable_ts_aligned/055-7.csv\n",
      "Saved: combined_500ms_whisper_diarization_stable_ts_aligned/134-3.csv\n",
      "Saved: combined_500ms_whisper_diarization_stable_ts_aligned/264-4.csv\n",
      "Saved: combined_500ms_whisper_diarization_stable_ts_aligned/120-4.csv\n",
      "Saved: combined_500ms_whisper_diarization_stable_ts_aligned/088-2.csv\n",
      "Saved: combined_500ms_whisper_diarization_stable_ts_aligned/053-5.csv\n",
      "Saved: combined_500ms_whisper_diarization_stable_ts_aligned/130-3.csv\n",
      "Saved: combined_500ms_whisper_diarization_stable_ts_aligned/055-3.csv\n",
      "Saved: combined_500ms_whisper_diarization_stable_ts_aligned/134-6.csv\n",
      "Saved: combined_500ms_whisper_diarization_stable_ts_aligned/055-2.csv\n",
      "Saved: combined_500ms_whisper_diarization_stable_ts_aligned/129-3.csv\n",
      "Saved: combined_500ms_whisper_diarization_stable_ts_aligned/264-1.csv\n",
      "Saved: combined_500ms_whisper_diarization_stable_ts_aligned/120-1.csv\n",
      "Saved: combined_500ms_whisper_diarization_stable_ts_aligned/116-1.csv\n",
      "Saved: combined_500ms_whisper_diarization_stable_ts_aligned/252-1.csv\n",
      "Saved: combined_500ms_whisper_diarization_stable_ts_aligned/058-4.csv\n",
      "Saved: combined_500ms_whisper_diarization_stable_ts_aligned/053-4.csv\n",
      "Saved: combined_500ms_whisper_diarization_stable_ts_aligned/088-5.csv\n",
      "Saved: combined_500ms_whisper_diarization_stable_ts_aligned/116-3.csv\n",
      "Saved: combined_500ms_whisper_diarization_stable_ts_aligned/252-3.csv\n",
      "Saved: combined_500ms_whisper_diarization_stable_ts_aligned/109-4.csv\n",
      "Saved: combined_500ms_whisper_diarization_stable_ts_aligned/083-5.csv\n",
      "Saved: combined_500ms_whisper_diarization_stable_ts_aligned/264-3.csv\n",
      "Saved: combined_500ms_whisper_diarization_stable_ts_aligned/254-4.csv\n",
      "Saved: combined_500ms_whisper_diarization_stable_ts_aligned/083-4.csv\n",
      "Saved: combined_500ms_whisper_diarization_stable_ts_aligned/088-4.csv\n",
      "Saved: combined_500ms_whisper_diarization_stable_ts_aligned/109-5.csv\n",
      "Saved: combined_500ms_whisper_diarization_stable_ts_aligned/252-2.csv\n",
      "Saved: combined_500ms_whisper_diarization_stable_ts_aligned/116-2.csv\n",
      "Saved: combined_500ms_whisper_diarization_stable_ts_aligned/008-9.csv\n",
      "Saved: combined_500ms_whisper_diarization_stable_ts_aligned/131-8.csv\n",
      "Saved: combined_500ms_whisper_diarization_stable_ts_aligned/129-2.csv\n",
      "Saved: combined_500ms_whisper_diarization_stable_ts_aligned/008-8.csv\n",
      "Saved: combined_500ms_whisper_diarization_stable_ts_aligned/131-9.csv\n",
      "Saved: combined_500ms_whisper_diarization_stable_ts_aligned/130-2.csv\n",
      "Saved: combined_500ms_whisper_diarization_stable_ts_aligned/088-3.csv\n",
      "Saved: combined_500ms_whisper_diarization_stable_ts_aligned/109-2.csv\n",
      "Saved: combined_500ms_whisper_diarization_stable_ts_aligned/134-2.csv\n",
      "Saved: combined_500ms_whisper_diarization_stable_ts_aligned/264-5.csv\n",
      "Saved: combined_500ms_whisper_diarization_stable_ts_aligned/254-3.csv\n",
      "Saved: combined_500ms_whisper_diarization_stable_ts_aligned/254-2.csv\n",
      "Saved: combined_500ms_whisper_diarization_stable_ts_aligned/129-6.csv\n",
      "Saved: combined_500ms_whisper_diarization_stable_ts_aligned/109-3.csv\n",
      "Saved: combined_500ms_whisper_diarization_stable_ts_aligned/058-1.csv\n",
      "Saved: combined_500ms_whisper_diarization_stable_ts_aligned/053-1.csv\n",
      "Saved: combined_500ms_whisper_diarization_stable_ts_aligned/252-4.csv\n",
      "Saved: combined_500ms_whisper_diarization_stable_ts_aligned/051-3.csv\n",
      "Saved: combined_500ms_whisper_diarization_stable_ts_aligned/053-3.csv\n",
      "Saved: combined_500ms_whisper_diarization_stable_ts_aligned/134-1.csv\n",
      "Saved: combined_500ms_whisper_diarization_stable_ts_aligned/129-4.csv\n",
      "Saved: combined_500ms_whisper_diarization_stable_ts_aligned/129-5.csv\n",
      "Saved: combined_500ms_whisper_diarization_stable_ts_aligned/088-1.csv\n",
      "Saved: combined_500ms_whisper_diarization_stable_ts_aligned/130-4.csv\n",
      "Saved: combined_500ms_whisper_diarization_stable_ts_aligned/123-2.csv\n",
      "Saved: combined_500ms_whisper_diarization_stable_ts_aligned/251-2.csv\n",
      "Saved: combined_500ms_whisper_diarization_stable_ts_aligned/008-2.csv\n",
      "Saved: combined_500ms_whisper_diarization_stable_ts_aligned/129-9.csv\n",
      "Saved: combined_500ms_whisper_diarization_stable_ts_aligned/129-8.csv\n",
      "Saved: combined_500ms_whisper_diarization_stable_ts_aligned/046-3.csv\n",
      "Saved: combined_500ms_whisper_diarization_stable_ts_aligned/131-2.csv\n",
      "Saved: combined_500ms_whisper_diarization_stable_ts_aligned/251-3.csv\n",
      "Saved: combined_500ms_whisper_diarization_stable_ts_aligned/273-4.csv\n",
      "Saved: combined_500ms_whisper_diarization_stable_ts_aligned/107-2.csv\n",
      "Saved: combined_500ms_whisper_diarization_stable_ts_aligned/135-4.csv\n",
      "Saved: combined_500ms_whisper_diarization_stable_ts_aligned/131-1.csv\n",
      "Saved: combined_500ms_whisper_diarization_stable_ts_aligned/105-3.csv\n",
      "Saved: combined_500ms_whisper_diarization_stable_ts_aligned/255-4.csv\n",
      "Saved: combined_500ms_whisper_diarization_stable_ts_aligned/273-3.csv\n",
      "Saved: combined_500ms_whisper_diarization_stable_ts_aligned/135-1.csv\n",
      "Saved: combined_500ms_whisper_diarization_stable_ts_aligned/251-4.csv\n",
      "Saved: combined_500ms_whisper_diarization_stable_ts_aligned/123-5.csv\n",
      "Saved: combined_500ms_whisper_diarization_stable_ts_aligned/273-2.csv\n",
      "Saved: combined_500ms_whisper_diarization_stable_ts_aligned/135-2.csv\n",
      "Saved: combined_500ms_whisper_diarization_stable_ts_aligned/108-2.csv\n",
      "Saved: combined_500ms_whisper_diarization_stable_ts_aligned/038-1.csv\n",
      "Saved: combined_500ms_whisper_diarization_stable_ts_aligned/108-3.csv\n",
      "Saved: combined_500ms_whisper_diarization_stable_ts_aligned/123-6.csv\n",
      "Saved: combined_500ms_whisper_diarization_stable_ts_aligned/135-3.csv\n",
      "Saved: combined_500ms_whisper_diarization_stable_ts_aligned/273-1.csv\n",
      "Saved: combined_500ms_whisper_diarization_stable_ts_aligned/255-2.csv\n",
      "Saved: combined_500ms_whisper_diarization_stable_ts_aligned/130-1.csv\n",
      "Saved: combined_500ms_whisper_diarization_stable_ts_aligned/120-2.csv\n",
      "Saved: combined_500ms_whisper_diarization_stable_ts_aligned/264-2.csv\n",
      "Saved: combined_500ms_whisper_diarization_stable_ts_aligned/055-1.csv\n",
      "Saved: combined_500ms_whisper_diarization_stable_ts_aligned/134-5.csv\n",
      "Saved: combined_500ms_whisper_diarization_stable_ts_aligned/134-4.csv\n",
      "Saved: combined_500ms_whisper_diarization_stable_ts_aligned/129-1.csv\n",
      "Saved: combined_500ms_whisper_diarization_stable_ts_aligned/120-3.csv\n"
     ]
    }
   ],
   "source": [
    "for clip_name, diarization in aligned_transcripts.items():\n",
    "    # Create filename - ensure it's a valid filename by removing problematic characters\n",
    "    safe_filename = os.path.join(output_dir, f\"{os.path.splitext(os.path.basename(clip_name))[0]}.csv\")\n",
    "    \n",
    "    try:\n",
    "        # Convert diarization to DataFrame if it isn't already\n",
    "        if not isinstance(diarization, pd.DataFrame):\n",
    "            df = pd.DataFrame(diarization)\n",
    "            df = df[df[\"speaker\"] == \"Teacher\"]\n",
    "        else:\n",
    "            df = diarization\n",
    "            df = df[df[\"speaker\"] == \"Teacher\"]\n",
    "            \n",
    "        # Save to CSV\n",
    "        df.to_csv(safe_filename, index=False)\n",
    "        print(f\"Saved: {safe_filename}\")\n",
    "        \n",
    "    except Exception as e:\n",
    "        print(f\"Error saving {clip_name}: {str(e)}\")"
   ]
  }
 ],
 "metadata": {
  "kernelspec": {
   "display_name": "Python 3 (ipykernel)",
   "language": "python",
   "name": "python3"
  },
  "language_info": {
   "codemirror_mode": {
    "name": "ipython",
    "version": 3
   },
   "file_extension": ".py",
   "mimetype": "text/x-python",
   "name": "python",
   "nbconvert_exporter": "python",
   "pygments_lexer": "ipython3",
   "version": "3.12.2"
  }
 },
 "nbformat": 4,
 "nbformat_minor": 5
}
