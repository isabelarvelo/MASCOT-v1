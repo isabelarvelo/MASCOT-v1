{
 "cells": [
  {
   "cell_type": "markdown",
   "id": "0b26f14c-3313-4adf-a638-632a899f1f50",
   "metadata": {},
   "source": [
    "## Install Packages\n",
    "You will need the pydub package."
   ]
  },
  {
   "cell_type": "code",
   "execution_count": 3,
   "id": "76e695d6-abb3-433a-a71b-7a7556431ba6",
   "metadata": {},
   "outputs": [
    {
     "name": "stdout",
     "output_type": "stream",
     "text": [
      "Requirement already satisfied: pydub in /home/jovyan/conda_envs/wes-env/lib/python3.12/site-packages (0.25.1)\n"
     ]
    }
   ],
   "source": [
    "!pip install pydub\n",
    "from pydub import AudioSegment\n",
    "import shutil\n",
    "import os"
   ]
  },
  {
   "cell_type": "markdown",
   "id": "fa8d1690-c208-4702-a3c5-c920c9858ecb",
   "metadata": {},
   "source": [
    "## Target directories\n",
    "Change this cell depending on your file structure."
   ]
  },
  {
   "cell_type": "code",
   "execution_count": 2,
   "id": "66902b6d-ec1a-4b32-98b0-a31f63ef52eb",
   "metadata": {},
   "outputs": [],
   "source": [
    "DATA = '/home/jovyan/data/wise/'   # Data directory\n",
    "AUDIO = DATA+'audio-files/'        # Old audio directory\n",
    "OUTPUT = DATA+'new-audio-files/'   # New audio directory\n"
   ]
  },
  {
   "cell_type": "markdown",
   "id": "4b6a6159-3541-49d2-9f9d-511a55cd3427",
   "metadata": {},
   "source": [
    "## Main Loop"
   ]
  },
  {
   "cell_type": "code",
   "execution_count": 6,
   "id": "f03fb925-cfb7-4f62-a4fb-d50ba57a65ac",
   "metadata": {},
   "outputs": [
    {
     "ename": "FileExistsError",
     "evalue": "[Errno 17] File exists: '/home/jovyan/data/wise/new-audio-files/'",
     "output_type": "error",
     "traceback": [
      "\u001b[0;31m---------------------------------------------------------------------------\u001b[0m",
      "\u001b[0;31mFileExistsError\u001b[0m                           Traceback (most recent call last)",
      "Cell \u001b[0;32mIn[6], line 1\u001b[0m\n\u001b[0;32m----> 1\u001b[0m \u001b[43mos\u001b[49m\u001b[38;5;241;43m.\u001b[39;49m\u001b[43mmkdir\u001b[49m\u001b[43m(\u001b[49m\u001b[43mOUTPUT\u001b[49m\u001b[43m)\u001b[49m\n\u001b[1;32m      2\u001b[0m counter \u001b[38;5;241m=\u001b[39m \u001b[38;5;241m1\u001b[39m\n\u001b[1;32m      4\u001b[0m files \u001b[38;5;241m=\u001b[39m os\u001b[38;5;241m.\u001b[39mlistdir(AUDIO)\n",
      "\u001b[0;31mFileExistsError\u001b[0m: [Errno 17] File exists: '/home/jovyan/data/wise/new-audio-files/'"
     ]
    }
   ],
   "source": [
    "os.mkdir(OUTPUT)\n",
    "counter = 1\n",
    "\n",
    "files = os.listdir(AUDIO)"
   ]
  },
  {
   "cell_type": "code",
   "execution_count": 9,
   "id": "4a627385-5166-49ac-a75d-b8a573173b2a",
   "metadata": {},
   "outputs": [
    {
     "name": "stdout",
     "output_type": "stream",
     "text": [
      "processing 055-6.mp3, file 131 of 131.\r"
     ]
    }
   ],
   "source": [
    "counter = 0\n",
    "for file in files:\n",
    "    \n",
    "    counter += 1\n",
    "    \n",
    "    # Load .wav files and export as .mp3\n",
    "    if file[-4:] == '.wav':\n",
    "        sound = AudioSegment.from_wav(AUDIO+file)\n",
    "        new_filename = file.split('.')[0]+'.mp3'\n",
    "        sound.export(OUTPUT+new_filename, format=\"mp3\")\n",
    "        \n",
    "    # Load and export .mp3 files as well to check that the encoding is correct\n",
    "    elif file[-4:] == '.mp3':\n",
    "        shutil.copy(AUDIO+file, OUTPUT+file)\n",
    "    # Any non-audio files just get copied\n",
    "    else:\n",
    "        os.system(f\"cp {AUDIO+file} {OUTPUT+file}\")\n",
    "    print(f'processing {file}, file {counter} of {len(files)}.', end='\\r')"
   ]
  },
  {
   "cell_type": "code",
   "execution_count": 16,
   "id": "7f1abb08-8fe9-47aa-a6cc-9ae151ee7e14",
   "metadata": {},
   "outputs": [
    {
     "name": "stdout",
     "output_type": "stream",
     "text": [
      "131-6.mp3\n",
      "254-2.wav\n",
      "254-3.wav\n",
      "273-1.wav\n",
      "053-3.wav\n",
      "088-3.wav\n",
      "058-2.wav\n",
      "123-3.wav\n",
      "058-1.mp3\n",
      "135-4.wav\n",
      "273-4.wav\n",
      "108-3.wav\n",
      "120-2.wav\n",
      "130-6.mp3\n",
      "046-2.wav\n",
      "129-8.mp3\n",
      "251-3.wav\n",
      "252-1.mp3\n",
      "129-2.wav\n",
      "129-5.wav\n",
      "130-1.mp3\n",
      "273-3.wav\n",
      "120-4.wav\n",
      "131-9.mp3\n",
      "083-5.mp3\n",
      "134-3.mp3\n",
      "008-2.wav\n",
      "130-5.mp3\n",
      "264-6.wav\n",
      "273-2.wav\n",
      "051-2.mp3\n",
      "107-1.wav\n",
      "131-4.mp3\n",
      "109-4.wav\n",
      "008-9.mp3\n",
      "088-4.wav\n",
      "008-11.mp3\n",
      "109-5.wav\n",
      "109-3.wav\n",
      "027-2.wav\n",
      "055-2.mp3\n",
      "053-1.wav\n",
      "108-2.wav\n",
      "264-5.mp3\n",
      "264-4.wav\n",
      "134-1.wav\n",
      "130-2.wav\n",
      "055-3.mp3\n",
      "038-4.wav\n",
      "083-4.mp3\n",
      "008-8.mp3\n",
      "134-5.mp3\n",
      "135-1.wav\n",
      "008-4.mp3\n",
      "129-4.wav\n",
      "108-1.mp3\n",
      "109-2.wav\n",
      "008-3.mp3\n",
      "130-4.wav\n",
      "264-1.wav\n",
      "252-4.wav\n",
      "131-8.mp3\n",
      "008-1.mp3\n",
      "123-1.wav\n",
      "123-4.wav\n",
      "123-5.mp3\n",
      "053-5.mp3\n",
      "252-3.wav\n",
      "107-2.mp3\n",
      "058-3.wav\n",
      "131-7.mp3\n",
      "130-3.mp3\n",
      "105-2.wav\n",
      "088-2.mp3\n",
      "134-4.mp3\n",
      "129-6.wav\n",
      "038-2.wav\n",
      "055-1.mp3\n",
      "264-3.mp3\n",
      "008-7.mp3\n",
      "123-6.mp3\n",
      "051-3.wav\n",
      "135-2.wav\n",
      "131-2.wav\n",
      "120-1.wav\n",
      "251-2.wav\n",
      "008-6.mp3\n",
      "008-12.mp3\n",
      "134-6.mp3\n",
      "255-4.wav\n",
      "251-4.wav\n",
      "055-4.mp3\n",
      "254-4.wav\n",
      "131-5.mp3\n",
      "135-3.wav\n",
      "252-5.mp3\n",
      "008-10.mp3\n",
      "058-4.wav\n",
      "105-1.wav\n",
      "129-7.mp3\n",
      "053-4.mp3\n",
      "088-5.mp3\n",
      "038-3.wav\n",
      "046-3.mp3\n",
      "053-2.mp3\n",
      "134-2.wav\n",
      "131-1.wav\n",
      "123-2.mp3\n",
      "027-1.wav\n",
      "038-1.mp3\n",
      "088-1.wav\n",
      "027-3.wav\n",
      "120-3.wav\n",
      "129-1.mp3\n",
      "129-9.mp3\n",
      "105-3.mp3\n",
      "046-1.wav\n",
      "116-3.wav\n",
      "008-5.mp3\n",
      "252-2.wav\n",
      "116-1.mp3\n",
      "055-7.mp3\n",
      "255-2.wav\n",
      "264-2.wav\n",
      "055-5.mp3\n",
      "107-3.wav\n",
      "108-4.mp3\n",
      "116-2.wav\n",
      "129-3.mp3\n",
      "131-3.mp3\n",
      "055-6.mp3\n"
     ]
    }
   ],
   "source": [
    "input_files = os.listdir(AUDIO)\n",
    "output_files = os.listdir(OUTPUT)\n",
    "\n",
    "\n",
    "filenames = []\n",
    "input_duration = []\n",
    "output_duration = []\n",
    "difference = []\n",
    "for file in files:\n",
    "    print(file, end='\\r')\n",
    "    clip_name = file[:-4]\n",
    "    input = AudioSegment.from_mp3(AUDIO+file)\n",
    "    output = AudioSegment.from_file(OUTPUT+clip_name+'.mp3', format='mp3')\n",
    "    filenames.append(file)\n",
    "    input_duration.append(input.duration_seconds)\n",
    "    output_duration.append(output.duration_seconds)\n",
    "    difference.append(input.duration_seconds - output.duration_seconds)"
   ]
  },
  {
   "cell_type": "code",
   "execution_count": 18,
   "id": "8f39410b-b361-401e-91ee-73b28d1b8421",
   "metadata": {},
   "outputs": [],
   "source": [
    "import pandas as pd\n",
    "res = pd.DataFrame.from_dict({'filename':filenames, 'input_duration':input_duration, 'output_duration':output_duration, 'difference':difference})"
   ]
  },
  {
   "cell_type": "code",
   "execution_count": 21,
   "id": "d1ae086e-37db-443e-814b-73ab9b0cade0",
   "metadata": {},
   "outputs": [
    {
     "data": {
      "text/plain": [
       "-0.0018140589568247378"
      ]
     },
     "execution_count": 21,
     "metadata": {},
     "output_type": "execute_result"
    }
   ],
   "source": [
    "res['difference'].min()"
   ]
  },
  {
   "cell_type": "code",
   "execution_count": null,
   "id": "c6cee3c4-7e2e-495b-ba23-673342d05d46",
   "metadata": {},
   "outputs": [],
   "source": []
  }
 ],
 "metadata": {
  "kernelspec": {
   "display_name": "Python [conda env:wes-env]",
   "language": "python",
   "name": "conda-env-wes-env-py"
  },
  "language_info": {
   "codemirror_mode": {
    "name": "ipython",
    "version": 3
   },
   "file_extension": ".py",
   "mimetype": "text/x-python",
   "name": "python",
   "nbconvert_exporter": "python",
   "pygments_lexer": "ipython3",
   "version": "3.12.3"
  }
 },
 "nbformat": 4,
 "nbformat_minor": 5
}
