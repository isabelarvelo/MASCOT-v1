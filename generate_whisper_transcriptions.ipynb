{
 "cells": [
  {
   "cell_type": "markdown",
   "id": "bd8f0138-4cc4-40d6-956f-1e2f65d74059",
   "metadata": {},
   "source": [
    "# Generating Whisper Transcriptions"
   ]
  },
  {
   "cell_type": "markdown",
   "id": "4b14956d-794c-46bc-a5ba-3029a3d8dd51",
   "metadata": {},
   "source": [
    "## Set Up Environment "
   ]
  },
  {
   "cell_type": "code",
   "execution_count": 1,
   "id": "6729b3bb-786e-4a84-b244-b13adf77f232",
   "metadata": {},
   "outputs": [],
   "source": [
    "from datasets import load_dataset, Dataset, Audio\n",
    "import torch\n",
    "from transformers import pipeline\n",
    "from transformers import AutoModelForSpeechSeq2Seq, AutoProcessor, pipeline\n",
    "import os\n",
    "import pandas as pd"
   ]
  },
  {
   "cell_type": "markdown",
   "id": "efb340fc-50a2-48e1-9839-49f3883a9794",
   "metadata": {},
   "source": [
    "## Gather Data for Preprocessing"
   ]
  },
  {
   "cell_type": "code",
   "execution_count": 2,
   "id": "6f5a6b70-101e-4eaa-9c16-7abc5712d928",
   "metadata": {},
   "outputs": [],
   "source": [
    "# This is where Audio Files are stored in my ACCRE directory, but this path may need to be changed accordingly \n",
    "\n",
    "folder_path = \"Audio_Files/\""
   ]
  },
  {
   "cell_type": "code",
   "execution_count": 3,
   "id": "750ed60f-96a6-4bcd-b980-83a1b8d9c747",
   "metadata": {},
   "outputs": [],
   "source": [
    "import torch\n",
    "torch.cuda.empty_cache()"
   ]
  },
  {
   "cell_type": "code",
   "execution_count": 4,
   "id": "c5b62c68-e603-4bea-8e9c-47bbb98c13e6",
   "metadata": {},
   "outputs": [],
   "source": [
    "def gather_file_paths(folder_path):\n",
    "    data = []\n",
    "    \n",
    "    # Loop through the files in the folder\n",
    "    for filename in os.listdir(folder_path):\n",
    "        # Ensure it's a file and has an mp3 extension\n",
    "        if filename.endswith(\".mp3\") | filename.endswith(\".wav\") :\n",
    "            clip_name = os.path.splitext(filename)[0]  # Get the file name without extension\n",
    "            file_path = os.path.join(folder_path, filename)\n",
    "            data.append({\"clip\": clip_name, \"path\": file_path})\n",
    "    \n",
    "    # Create a DataFrame from the gathered data\n",
    "    df = pd.DataFrame(data, columns=[\"clip\", \"path\"])\n",
    "    \n",
    "    return df"
   ]
  },
  {
   "cell_type": "code",
   "execution_count": 5,
   "id": "cbb0a34a-3091-4fc8-9d4e-e907bfdc69db",
   "metadata": {},
   "outputs": [],
   "source": [
    "df = gather_file_paths(folder_path)\n",
    "\n",
    "audio_dataset = Dataset.from_dict({\"audio\": df['path']}).cast_column(\"audio\", Audio())"
   ]
  },
  {
   "cell_type": "code",
   "execution_count": 6,
   "id": "7ad24a9b-6da5-4b6f-a460-a18454aacedb",
   "metadata": {},
   "outputs": [
    {
     "data": {
      "text/plain": [
       "(131, 2)"
      ]
     },
     "execution_count": 6,
     "metadata": {},
     "output_type": "execute_result"
    }
   ],
   "source": [
    "df.shape"
   ]
  },
  {
   "cell_type": "markdown",
   "id": "87e34d8a-cfde-46f4-a248-186e05ea0903",
   "metadata": {},
   "source": [
    "## Define stable-ts timestamps"
   ]
  },
  {
   "cell_type": "code",
   "execution_count": 7,
   "id": "c7457abf-0de4-417e-bee5-2c201ed21afb",
   "metadata": {},
   "outputs": [],
   "source": [
    "#!pip install -U stable-ts"
   ]
  },
  {
   "cell_type": "code",
   "execution_count": 3,
   "id": "77f7d8a0-794a-478e-b63b-ef7d3c682ee7",
   "metadata": {},
   "outputs": [],
   "source": [
    "import os\n",
    "import gc\n",
    "import torch\n",
    "import pandas as pd\n",
    "from tqdm import tqdm\n",
    "import stable_whisper\n",
    "import json"
   ]
  },
  {
   "cell_type": "code",
   "execution_count": 9,
   "id": "2290c7e8-eff1-4856-aa65-829d361848f6",
   "metadata": {},
   "outputs": [],
   "source": [
    "def process_audio_batch(model, audio_files, batch_size=4):\n",
    "    for i in tqdm(range(0, len(audio_files), batch_size)):\n",
    "        batch = audio_files[i:i+batch_size]\n",
    "        \n",
    "        for j, audio_file in enumerate(batch):\n",
    "            result = model.transcribe(audio_file)\n",
    "            \n",
    "            # Save the result as JSON\n",
    "            result.save_as_json(f'stable_ts_json/stable_ts_audio_{i + j}.json')\n",
    "            \n",
    "            # Extract word-level data\n",
    "            words_data = []\n",
    "            for segment in result.segments:\n",
    "                for word in segment.words:\n",
    "                    words_data.append({\n",
    "                        'word': word.word,\n",
    "                        'start': word.start,\n",
    "                        'end': word.end,\n",
    "                        'probability': word.probability\n",
    "                    })\n",
    "            # Create DataFrame for words\n",
    "            df_words = pd.DataFrame(words_data)\n",
    "            # Save the DataFrame as CSV\n",
    "            df_words.to_csv(f'stable_ts_csv/stable_ts_{i + j}.csv', index=False)\n",
    "        \n",
    "        # Clear CUDA cache\n",
    "        gc.collect()\n",
    "        torch.cuda.empty_cache()"
   ]
  },
  {
   "cell_type": "code",
   "execution_count": 10,
   "id": "eca06fec-1e46-47f8-858b-bf98867f5bbb",
   "metadata": {},
   "outputs": [],
   "source": [
    "# Load the model\n",
    "model = stable_whisper.load_model('large-v3')\n",
    "\n",
    "# Ensure the output directories exist\n",
    "os.makedirs('stable_ts_json', exist_ok=True)\n",
    "os.makedirs('stable_ts_csv', exist_ok=True)\n",
    "\n",
    "audio_folder = \"Audio_Files/\"\n",
    "audio_files = [os.path.join(audio_folder, f) for f in os.listdir(audio_folder) if f.endswith(('.mp3', '.wav'))]"
   ]
  },
  {
   "cell_type": "code",
   "execution_count": 6,
   "id": "de8f8797-604a-4a7d-8162-62944f79f6bd",
   "metadata": {},
   "outputs": [],
   "source": [
    "audio_folder = \"Audio_Files/\"\n",
    "audio_files = [os.path.join(audio_folder, f) for f in os.listdir(audio_folder) if f.endswith(('.mp3', '.wav'))]"
   ]
  },
  {
   "cell_type": "code",
   "execution_count": 17,
   "id": "8630bdf1-b623-414b-ae98-79fbfe4bf879",
   "metadata": {},
   "outputs": [],
   "source": [
    "import os\n",
    "\n",
    "# Paths\n",
    "AUDIO_FILES_FOLDER = 'Audio_Files'\n",
    "CSV_FILES_FOLDER = 'stable_ts_csv'\n",
    "\n",
    "# Get the list of audio file paths and extract their corresponding keys\n",
    "audio_files = os.listdir(AUDIO_FILES_FOLDER)  # Ensure consistent ordering\n",
    "audio_keys = [os.path.splitext(filename)[0] for filename in audio_files if (filename.endswith(\".mp3\") | filename.endswith(\".wav\")) ]\n",
    "\n",
    "# Get the list of CSV files in the stable_ts_csv folder\n",
    "csv_files = sorted( [file for file in os.listdir(CSV_FILES_FOLDER) if file.endswith(\"csv\")] )  # Ensure consistent ordering\n",
    "\n",
    "# Check that the number of audio files matches the number of CSV files\n",
    "if len(audio_keys) != len(csv_files):\n",
    "    raise ValueError(\"The number of audio files does not match the number of CSV files!\")\n"
   ]
  },
  {
   "cell_type": "code",
   "execution_count": 21,
   "id": "789ec095-1c58-432f-8801-1f73d0404355",
   "metadata": {},
   "outputs": [],
   "source": [
    "csv_files = sorted(\n",
    "    [file for file in os.listdir(CSV_FILES_FOLDER) if file.endswith(\"csv\")],\n",
    "    key=lambda x: int(x.split('_')[2].split('.')[0])  # Extract the numeric part for sorting\n",
    ")"
   ]
  },
  {
   "cell_type": "code",
   "execution_count": 23,
   "id": "5723ffab-0047-453e-8862-846a91507403",
   "metadata": {},
   "outputs": [
    {
     "name": "stdout",
     "output_type": "stream",
     "text": [
      "CSV files renamed successfully.\n"
     ]
    }
   ],
   "source": [
    "# Rename each CSV file to match the corresponding audio file key\n",
    "for csv_file, audio_key in zip(csv_files, audio_keys):\n",
    "    # Define the old and new file paths\n",
    "    old_csv_path = os.path.join(CSV_FILES_FOLDER, csv_file)\n",
    "    new_csv_path = os.path.join(CSV_FILES_FOLDER, f\"{audio_key}.csv\")\n",
    "    # Rename the CSV file\n",
    "    os.rename(old_csv_path, new_csv_path)\n",
    "\n",
    "print(\"CSV files renamed successfully.\")"
   ]
  },
  {
   "cell_type": "code",
   "execution_count": null,
   "id": "eab9830f-df13-42bb-ac74-2226562ae95f",
   "metadata": {},
   "outputs": [
    {
     "name": "stderr",
     "output_type": "stream",
     "text": [
      "  0%|          | 0/33 [00:00<?, ?it/s]\n",
      "                                      [00:00<?, ?sec/s]\u001b[A\n",
      "  0%|          | 0/33 [00:01<?, ?it/s]                 \n",
      "Transcribe:   0%|          | 0/420.49 [00:01<?, ?sec/s]\u001b[A"
     ]
    },
    {
     "name": "stdout",
     "output_type": "stream",
     "text": [
      "Detected language: english\n"
     ]
    },
    {
     "name": "stderr",
     "output_type": "stream",
     "text": [
      "\n",
      "Transcribe:   7%|▋         | 28.0/420.49 [00:07<01:41,  3.88sec/s]\u001b[A\n",
      "Transcribe:  14%|█▍        | 58.0/420.49 [00:11<01:08,  5.31sec/s]\u001b[A\n",
      "Transcribe:  19%|█▊        | 78.0/420.49 [00:14<00:59,  5.76sec/s]\u001b[A\n",
      "Transcribe:  26%|██▌       | 107.48/420.49 [00:17<00:44,  7.00sec/s]\u001b[A\n",
      "Transcribe:  33%|███▎      | 137.48/420.49 [00:21<00:38,  7.27sec/s]\u001b[A\n",
      "Transcribe:  39%|███▉      | 164.08/420.49 [00:23<00:29,  8.75sec/s]\u001b[A\n",
      "Transcribe:  46%|████▌     | 194.08/420.49 [00:25<00:23,  9.47sec/s]\u001b[A\n",
      "Transcribe:  53%|█████▎    | 224.08/420.49 [00:27<00:18, 10.86sec/s]\u001b[A\n",
      "Transcribe:  60%|██████    | 254.08/420.49 [00:31<00:16,  9.95sec/s]\u001b[A\n",
      "Transcribe:  68%|██████▊   | 284.08/420.49 [00:34<00:14,  9.67sec/s]\u001b[A\n",
      "Transcribe:  75%|███████▍  | 314.08/420.49 [00:37<00:10,  9.87sec/s]\u001b[A\n",
      "Transcribe:  82%|████████▏ | 344.08/420.49 [00:40<00:08,  9.54sec/s]\u001b[A\n",
      "Transcribe:  89%|████████▉ | 374.08/420.49 [00:43<00:04,  9.81sec/s]\u001b[A\n",
      "Transcribe:  96%|█████████▌| 404.08/420.49 [00:45<00:01, 11.48sec/s]\u001b[A\n",
      "Transcribe: 100%|█████████▉| 420.46/420.49 [00:47<00:00,  8.86sec/s]\u001b[A\n"
     ]
    },
    {
     "name": "stdout",
     "output_type": "stream",
     "text": [
      "Saved: /home/arveloic/MASCOT/stable_ts_json/stable_ts_audio_0.json\n"
     ]
    },
    {
     "name": "stderr",
     "output_type": "stream",
     "text": [
      "\n",
      "                                      [00:00<?, ?sec/s]\u001b[A\n",
      "  0%|          | 0/33 [00:48<?, ?it/s]                 \n",
      "Transcribe:   0%|          | 0/282.91 [00:00<?, ?sec/s]\u001b[A"
     ]
    },
    {
     "name": "stdout",
     "output_type": "stream",
     "text": [
      "Detected language: english\n"
     ]
    },
    {
     "name": "stderr",
     "output_type": "stream",
     "text": [
      "\n",
      "Transcribe:  10%|█         | 28.74/282.91 [00:04<00:43,  5.86sec/s]\u001b[A\n",
      "Transcribe:  20%|█▉        | 55.34/282.91 [00:08<00:33,  6.70sec/s]\u001b[A\n",
      "Transcribe:  30%|██▉       | 83.88/282.91 [00:12<00:28,  6.90sec/s]\u001b[A\n",
      "Transcribe:  40%|████      | 113.88/282.91 [00:15<00:21,  7.90sec/s]\u001b[A\n",
      "Transcribe:  51%|█████     | 143.88/282.91 [00:18<00:16,  8.28sec/s]\u001b[A\n",
      "Transcribe:  61%|██████▏   | 173.88/282.91 [00:21<00:11,  9.46sec/s]\u001b[A\n",
      "Transcribe:  72%|███████▏  | 203.88/282.91 [00:24<00:08,  8.86sec/s]\u001b[A\n",
      "Transcribe:  83%|████████▎ | 233.88/282.91 [00:27<00:05,  9.23sec/s]\u001b[A\n",
      "Transcribe:  93%|█████████▎| 263.88/282.91 [00:31<00:02,  8.54sec/s]\u001b[A\n",
      "Transcribe: 100%|█████████▉| 282.75/282.91 [00:34<00:00,  8.09sec/s]\u001b[A\n"
     ]
    },
    {
     "name": "stdout",
     "output_type": "stream",
     "text": [
      "Saved: /home/arveloic/MASCOT/stable_ts_json/stable_ts_audio_1.json\n"
     ]
    },
    {
     "name": "stderr",
     "output_type": "stream",
     "text": [
      "\n",
      "                                      [00:00<?, ?sec/s]\u001b[A\n",
      "  0%|          | 0/33 [01:23<?, ?it/s]                 \n",
      "Transcribe:   0%|          | 0/424.33 [00:00<?, ?sec/s]\u001b[A"
     ]
    },
    {
     "name": "stdout",
     "output_type": "stream",
     "text": [
      "Detected language: english\n"
     ]
    },
    {
     "name": "stderr",
     "output_type": "stream",
     "text": [
      "\n",
      "Transcribe:   6%|▌         | 24.36/424.33 [00:04<01:06,  5.99sec/s]\u001b[A\n",
      "Transcribe:  13%|█▎        | 54.36/424.33 [00:07<00:48,  7.67sec/s]\u001b[A\n",
      "Transcribe:  19%|█▉        | 81.02/424.33 [00:11<00:48,  7.14sec/s]\u001b[A\n",
      "Transcribe:  26%|██▌       | 111.02/424.33 [00:15<00:43,  7.13sec/s]\u001b[A\n",
      "Transcribe:  33%|███▎      | 141.02/424.33 [00:19<00:40,  7.04sec/s]\u001b[A\n",
      "Transcribe:  40%|████      | 171.02/424.33 [00:23<00:33,  7.67sec/s]\u001b[A\n",
      "Transcribe:  47%|████▋     | 201.02/424.33 [00:27<00:29,  7.60sec/s]\u001b[A\n",
      "Transcribe:  54%|█████▍    | 230.02/424.33 [00:32<00:28,  6.94sec/s]\u001b[A\n",
      "Transcribe:  61%|██████▏   | 260.02/424.33 [00:35<00:21,  7.50sec/s]\u001b[A\n",
      "Transcribe:  68%|██████▊   | 290.02/424.33 [00:39<00:17,  7.59sec/s]\u001b[A\n",
      "Transcribe:  75%|███████▌  | 320.02/424.33 [00:43<00:14,  7.24sec/s]\u001b[A\n",
      "Transcribe:  82%|████████▏ | 350.02/424.33 [00:48<00:10,  7.02sec/s]\u001b[A\n",
      "Transcribe:  90%|████████▉ | 380.02/424.33 [00:52<00:06,  7.02sec/s]\u001b[A\n",
      "Transcribe:  97%|█████████▋| 410.02/424.33 [00:55<00:01,  7.96sec/s]\u001b[A\n",
      "Transcribe: 100%|█████████▉| 424.23/424.33 [00:57<00:00,  7.41sec/s]\u001b[A\n"
     ]
    },
    {
     "name": "stdout",
     "output_type": "stream",
     "text": [
      "Saved: /home/arveloic/MASCOT/stable_ts_json/stable_ts_audio_2.json\n"
     ]
    },
    {
     "name": "stderr",
     "output_type": "stream",
     "text": [
      "\n",
      "                                      [00:00<?, ?sec/s]\u001b[A\n",
      "  0%|          | 0/33 [02:20<?, ?it/s]                 \n",
      "Transcribe:   0%|          | 0/398.81 [00:00<?, ?sec/s]\u001b[A"
     ]
    },
    {
     "name": "stdout",
     "output_type": "stream",
     "text": [
      "Detected language: english\n"
     ]
    },
    {
     "name": "stderr",
     "output_type": "stream",
     "text": [
      "\n",
      "Transcribe:   7%|▋         | 29.0/398.81 [00:03<00:47,  7.84sec/s]\u001b[A\n",
      "Transcribe:  13%|█▎        | 52.88/398.81 [00:06<00:40,  8.50sec/s]\u001b[A\n",
      "Transcribe:  21%|██        | 82.88/398.81 [00:09<00:36,  8.74sec/s]\u001b[A\n",
      "Transcribe:  28%|██▊       | 112.88/398.81 [00:13<00:35,  8.00sec/s]\u001b[A\n",
      "Transcribe:  36%|███▌      | 142.88/398.81 [00:17<00:30,  8.30sec/s]\u001b[A\n",
      "Transcribe:  43%|████▎     | 172.88/398.81 [00:19<00:24,  9.10sec/s]\u001b[A\n",
      "Transcribe:  51%|█████     | 202.88/398.81 [00:24<00:23,  8.22sec/s]\u001b[A\n",
      "Transcribe:  58%|█████▊    | 232.88/398.81 [00:28<00:20,  8.12sec/s]\u001b[A\n",
      "Transcribe:  66%|██████▌   | 262.88/398.81 [00:31<00:16,  8.26sec/s]\u001b[A\n",
      "Transcribe:  73%|███████▎  | 292.88/398.81 [00:33<00:11,  9.51sec/s]\u001b[A\n",
      "Transcribe:  81%|████████  | 322.88/398.81 [00:36<00:07,  9.54sec/s]\u001b[A\n",
      "Transcribe:  88%|████████▊ | 352.88/398.81 [00:40<00:05,  9.08sec/s]\u001b[A\n",
      "Transcribe:  96%|█████████▌| 382.88/398.81 [00:43<00:01,  8.97sec/s]\u001b[A\n",
      "Transcribe: 100%|█████████▉| 398.77/398.81 [00:45<00:00,  8.74sec/s]\u001b[A\n"
     ]
    },
    {
     "name": "stdout",
     "output_type": "stream",
     "text": [
      "Saved: /home/arveloic/MASCOT/stable_ts_json/stable_ts_audio_3.json\n"
     ]
    },
    {
     "name": "stderr",
     "output_type": "stream",
     "text": [
      "  3%|▎         | 1/33 [03:06<1:39:29, 186.56s/it]\n",
      "                                                 ?sec/s]\u001b[A\n",
      "  3%|▎         | 1/33 [03:06<1:39:29, 186.56s/it]       \n",
      "Transcribe:   0%|          | 0/1039.42 [00:00<?, ?sec/s]\u001b[A"
     ]
    },
    {
     "name": "stdout",
     "output_type": "stream",
     "text": [
      "Detected language: english\n"
     ]
    },
    {
     "name": "stderr",
     "output_type": "stream",
     "text": [
      "\n",
      "Transcribe:   3%|▎         | 30.0/1039.42 [00:02<01:29, 11.23sec/s]\u001b[A\n",
      "Transcribe:   6%|▌         | 60.0/1039.42 [00:06<01:51,  8.78sec/s]\u001b[A\n",
      "Transcribe:   9%|▊         | 90.0/1039.42 [00:12<02:28,  6.38sec/s]\u001b[A\n",
      "Transcribe:  12%|█▏        | 120.0/1039.42 [00:17<02:24,  6.38sec/s]\u001b[A\n",
      "Transcribe:  14%|█▍        | 150.0/1039.42 [00:40<05:33,  2.67sec/s]\u001b[A\n",
      "Transcribe:  17%|█▋        | 180.0/1039.42 [00:55<05:55,  2.41sec/s]\u001b[A\n",
      "Transcribe:  20%|██        | 209.6/1039.42 [01:00<04:37,  2.99sec/s]\u001b[A\n",
      "Transcribe:  23%|██▎       | 239.6/1039.42 [01:06<03:58,  3.35sec/s]\u001b[A\n",
      "Transcribe:  26%|██▌       | 268.6/1039.42 [01:09<03:04,  4.17sec/s]\u001b[A\n",
      "Transcribe:  29%|██▊       | 298.6/1039.42 [01:27<04:16,  2.89sec/s]\u001b[A\n",
      "Transcribe:  32%|███▏      | 328.6/1039.42 [01:50<05:43,  2.07sec/s]\u001b[A\n",
      "Transcribe:  34%|███▍      | 357.9/1039.42 [01:55<04:22,  2.60sec/s]\u001b[A\n",
      "Transcribe:  37%|███▋      | 387.9/1039.42 [01:59<03:21,  3.23sec/s]\u001b[A\n",
      "Transcribe:  40%|████      | 417.9/1039.42 [02:11<03:26,  3.02sec/s]\u001b[A\n",
      "Transcribe:  43%|████▎     | 447.9/1039.42 [02:14<02:39,  3.71sec/s]\u001b[A\n",
      "Transcribe:  46%|████▌     | 476.9/1039.42 [02:20<02:21,  3.99sec/s]\u001b[A\n",
      "Transcribe:  49%|████▊     | 505.9/1039.42 [02:27<02:11,  4.06sec/s]\u001b[A\n",
      "Transcribe:  50%|█████     | 524.1/1039.42 [02:51<04:01,  2.13sec/s]\u001b[A\n",
      "Transcribe:  53%|█████▎    | 551.1/1039.42 [02:59<03:22,  2.41sec/s]\u001b[A\n",
      "Transcribe:  56%|█████▌    | 581.1/1039.42 [03:35<05:07,  1.49sec/s]\u001b[A\n",
      "Transcribe:  59%|█████▉    | 611.1/1039.42 [03:38<03:29,  2.04sec/s]\u001b[A\n",
      "Transcribe:  62%|██████▏   | 641.1/1039.42 [03:41<02:28,  2.69sec/s]\u001b[A\n",
      "Transcribe:  65%|██████▍   | 670.94/1039.42 [03:55<02:26,  2.51sec/s]\u001b[A\n",
      "Transcribe:  67%|██████▋   | 699.54/1039.42 [04:12<02:36,  2.17sec/s]\u001b[A\n",
      "Transcribe:  70%|███████   | 729.54/1039.42 [04:17<01:54,  2.70sec/s]\u001b[A\n",
      "Transcribe:  73%|███████▎  | 759.54/1039.42 [04:22<01:26,  3.24sec/s]\u001b[A\n",
      "Transcribe:  76%|███████▌  | 789.54/1039.42 [04:52<02:08,  1.94sec/s]\u001b[A\n",
      "Transcribe:  79%|███████▊  | 817.54/1039.42 [04:55<01:27,  2.53sec/s]\u001b[A\n",
      "Transcribe:  82%|████████▏ | 847.54/1039.42 [04:57<00:56,  3.37sec/s]\u001b[A\n",
      "Transcribe:  84%|████████▍ | 877.54/1039.42 [05:01<00:40,  3.98sec/s]\u001b[A\n",
      "Transcribe:  87%|████████▋ | 906.54/1039.42 [05:36<01:09,  1.90sec/s]\u001b[A\n",
      "Transcribe:  90%|█████████ | 935.68/1039.42 [05:40<00:42,  2.44sec/s]\u001b[A\n",
      "Transcribe:  93%|█████████▎| 965.68/1039.42 [05:43<00:23,  3.15sec/s]\u001b[A\n",
      "Transcribe:  96%|█████████▌| 995.68/1039.42 [06:06<00:19,  2.20sec/s]\u001b[A\n",
      "Transcribe:  99%|█████████▊| 1025.68/1039.42 [06:12<00:05,  2.62sec/s]\u001b[A\n",
      "Transcribe: 100%|██████████| 1039.42/1039.42 [06:26<00:00,  2.69sec/s]\u001b[A\n"
     ]
    },
    {
     "name": "stdout",
     "output_type": "stream",
     "text": [
      "Saved: /home/arveloic/MASCOT/stable_ts_json/stable_ts_audio_4.json\n"
     ]
    },
    {
     "name": "stderr",
     "output_type": "stream",
     "text": [
      "\n",
      "                                                 sec/s]\u001b[A\n",
      "  3%|▎         | 1/33 [09:33<1:39:29, 186.56s/it]      \n",
      "Transcribe:   0%|          | 0/301.77 [00:00<?, ?sec/s]\u001b[A"
     ]
    },
    {
     "name": "stdout",
     "output_type": "stream",
     "text": [
      "Detected language: english\n"
     ]
    },
    {
     "name": "stderr",
     "output_type": "stream",
     "text": [
      "\n",
      "Transcribe:   8%|▊         | 24.0/301.77 [00:04<00:51,  5.37sec/s]\u001b[A\n",
      "Transcribe:  16%|█▋        | 49.48/301.77 [00:22<02:08,  1.96sec/s]\u001b[A\n",
      "Transcribe:  26%|██▋       | 79.48/301.77 [00:26<01:10,  3.15sec/s]\u001b[A\n",
      "Transcribe:  36%|███▋      | 109.48/301.77 [00:29<00:42,  4.53sec/s]\u001b[A\n",
      "Transcribe:  46%|████▌     | 139.48/301.77 [00:33<00:30,  5.36sec/s]\u001b[A\n",
      "Transcribe:  56%|█████▌    | 169.48/301.77 [00:36<00:20,  6.38sec/s]\u001b[A\n",
      "Transcribe:  66%|██████▌   | 199.48/301.77 [00:39<00:14,  6.88sec/s]\u001b[A\n",
      "Transcribe:  76%|███████▌  | 229.48/301.77 [00:42<00:09,  7.85sec/s]\u001b[A\n",
      "Transcribe:  86%|████████▌ | 259.48/301.77 [00:45<00:04,  8.56sec/s]\u001b[A\n",
      "Transcribe:  96%|█████████▌| 289.48/301.77 [00:47<00:01,  9.62sec/s]\u001b[A\n",
      "Transcribe: 100%|█████████▉| 301.74/301.77 [00:48<00:00,  6.26sec/s]\u001b[A\n"
     ]
    },
    {
     "name": "stdout",
     "output_type": "stream",
     "text": [
      "Saved: /home/arveloic/MASCOT/stable_ts_json/stable_ts_audio_5.json\n"
     ]
    },
    {
     "name": "stderr",
     "output_type": "stream",
     "text": [
      "\n",
      "                                                 ?sec/s]\u001b[A\n",
      "  3%|▎         | 1/33 [10:22<1:39:29, 186.56s/it]       \n",
      "Transcribe:   0%|          | 0/1282.91 [00:00<?, ?sec/s]\u001b[A"
     ]
    },
    {
     "name": "stdout",
     "output_type": "stream",
     "text": [
      "Detected language: english\n"
     ]
    },
    {
     "name": "stderr",
     "output_type": "stream",
     "text": [
      "\n",
      "Transcribe:   2%|▏         | 24.16/1282.91 [00:02<02:14,  9.38sec/s]\u001b[A\n",
      "Transcribe:   4%|▍         | 54.16/1282.91 [00:05<02:13,  9.19sec/s]\u001b[A\n",
      "Transcribe:   7%|▋         | 84.16/1282.91 [00:09<02:17,  8.69sec/s]\u001b[A\n",
      "Transcribe:   8%|▊         | 102.44/1282.91 [00:12<02:30,  7.82sec/s]\u001b[A\n",
      "Transcribe:  10%|█         | 132.44/1282.91 [00:15<02:22,  8.07sec/s]\u001b[A\n",
      "Transcribe:  13%|█▎        | 162.44/1282.91 [00:18<02:00,  9.28sec/s]\u001b[A\n",
      "Transcribe:  15%|█▌        | 192.44/1282.91 [00:21<01:55,  9.44sec/s]\u001b[A\n",
      "Transcribe:  17%|█▋        | 222.44/1282.91 [00:24<01:53,  9.36sec/s]\u001b[A\n",
      "Transcribe:  20%|█▉        | 252.44/1282.91 [00:28<01:59,  8.65sec/s]\u001b[A\n",
      "Transcribe:  22%|██▏       | 282.44/1282.91 [00:31<01:50,  9.05sec/s]\u001b[A\n",
      "Transcribe:  24%|██▍       | 312.44/1282.91 [00:35<01:51,  8.68sec/s]\u001b[A\n",
      "Transcribe:  27%|██▋       | 342.44/1282.91 [00:53<04:12,  3.73sec/s]\u001b[A\n",
      "Transcribe:  29%|██▉       | 372.44/1282.91 [00:57<03:20,  4.55sec/s]\u001b[A\n",
      "Transcribe:  31%|███▏      | 402.44/1282.91 [00:59<02:39,  5.53sec/s]\u001b[A\n",
      "Transcribe:  34%|███▎      | 432.44/1282.91 [01:00<01:55,  7.39sec/s]\u001b[A\n",
      "Transcribe:  36%|███▌      | 462.44/1282.91 [01:04<01:48,  7.55sec/s]\u001b[A\n",
      "Transcribe:  38%|███▊      | 492.44/1282.91 [01:06<01:29,  8.82sec/s]\u001b[A\n",
      "Transcribe:  41%|████      | 520.94/1282.91 [01:08<01:12, 10.50sec/s]\u001b[A\n",
      "Transcribe:  43%|████▎     | 550.94/1282.91 [01:11<01:14,  9.87sec/s]\u001b[A\n",
      "Transcribe:  45%|████▌     | 580.94/1282.91 [01:13<01:05, 10.66sec/s]\u001b[A\n",
      "Transcribe:  48%|████▊     | 610.94/1282.91 [01:16<01:00, 11.18sec/s]\u001b[A\n",
      "Transcribe:  50%|████▉     | 640.94/1282.91 [01:17<00:50, 12.75sec/s]\u001b[A\n",
      "Transcribe:  52%|█████▏    | 664.4/1282.91 [01:19<00:47, 12.98sec/s] \u001b[A\n",
      "Transcribe:  52%|█████▏    | 664.4/1282.91 [01:38<00:47, 12.98sec/s]\u001b[A\n",
      "Transcribe:  54%|█████▍    | 693.56/1282.91 [01:48<03:33,  2.76sec/s]\u001b[A\n",
      "Transcribe:  55%|█████▌    | 710.56/1282.91 [01:52<03:08,  3.03sec/s]\u001b[A\n",
      "Transcribe:  57%|█████▋    | 737.56/1282.91 [01:53<02:10,  4.17sec/s]\u001b[A\n",
      "Transcribe:  58%|█████▊    | 744.76/1282.91 [02:02<03:11,  2.81sec/s]\u001b[A\n",
      "Transcribe:  60%|██████    | 770.22/1282.91 [02:05<02:15,  3.77sec/s]\u001b[A\n",
      "Transcribe:  62%|██████▏   | 800.22/1282.91 [02:07<01:34,  5.09sec/s]\u001b[A\n",
      "Transcribe:  65%|██████▍   | 830.22/1282.91 [02:11<01:15,  5.99sec/s]\u001b[A\n",
      "Transcribe:  67%|██████▋   | 860.22/1282.91 [02:13<00:57,  7.38sec/s]\u001b[A\n",
      "Transcribe:  68%|██████▊   | 877.86/1282.91 [02:15<00:53,  7.55sec/s]\u001b[A\n",
      "Transcribe:  71%|███████   | 907.86/1282.91 [02:18<00:44,  8.49sec/s]\u001b[A\n",
      "Transcribe:  73%|███████▎  | 937.86/1282.91 [02:20<00:36,  9.34sec/s]\u001b[A\n",
      "Transcribe:  73%|███████▎  | 937.86/1282.91 [02:38<00:36,  9.34sec/s]\u001b[A\n",
      "Transcribe:  75%|███████▌  | 967.86/1282.91 [02:38<01:22,  3.83sec/s]\u001b[A\n",
      "Transcribe:  78%|███████▊  | 997.86/1282.91 [02:48<01:21,  3.52sec/s]\u001b[A\n",
      "Transcribe:  80%|████████  | 1027.86/1282.91 [02:51<00:57,  4.42sec/s]\u001b[A\n",
      "Transcribe:  80%|████████  | 1027.86/1282.91 [03:08<00:57,  4.42sec/s]\u001b[A\n",
      "Transcribe:  82%|████████▏ | 1056.86/1282.91 [03:19<01:40,  2.25sec/s]\u001b[A\n",
      "Transcribe:  85%|████████▍ | 1084.86/1282.91 [03:22<01:09,  2.84sec/s]\u001b[A\n",
      "Transcribe:  87%|████████▋ | 1114.86/1282.91 [03:25<00:46,  3.65sec/s]\u001b[A\n",
      "Transcribe:  89%|████████▉ | 1142.0/1282.91 [03:28<00:31,  4.42sec/s] \u001b[A\n",
      "Transcribe:  91%|█████████▏| 1172.0/1282.91 [03:30<00:20,  5.51sec/s]\u001b[A\n",
      "Transcribe:  94%|█████████▎| 1202.0/1282.91 [03:33<00:12,  6.52sec/s]\u001b[A\n",
      "Transcribe:  96%|█████████▌| 1232.0/1282.91 [03:35<00:06,  8.16sec/s]\u001b[A\n",
      "Transcribe:  98%|█████████▊| 1254.0/1282.91 [03:37<00:03,  8.80sec/s]\u001b[A\n",
      "Transcribe: 100%|██████████| 1282.91/1282.91 [03:46<00:00,  5.66sec/s]\u001b[A\n"
     ]
    },
    {
     "name": "stdout",
     "output_type": "stream",
     "text": [
      "Saved: /home/arveloic/MASCOT/stable_ts_json/stable_ts_audio_6.json\n"
     ]
    },
    {
     "name": "stderr",
     "output_type": "stream",
     "text": [
      "\n",
      "                                                 sec/s]\u001b[A\n",
      "  3%|▎         | 1/33 [14:09<1:39:29, 186.56s/it]      \n",
      "Transcribe:   0%|          | 0/520.78 [00:00<?, ?sec/s]\u001b[A"
     ]
    },
    {
     "name": "stdout",
     "output_type": "stream",
     "text": [
      "Detected language: english\n"
     ]
    },
    {
     "name": "stderr",
     "output_type": "stream",
     "text": [
      "\n",
      "Transcribe:   6%|▌         | 30.0/520.78 [00:05<01:22,  5.92sec/s]\u001b[A\n",
      "Transcribe:  12%|█▏        | 60.0/520.78 [00:09<01:09,  6.61sec/s]\u001b[A\n",
      "Transcribe:  17%|█▋        | 90.0/520.78 [00:13<01:02,  6.89sec/s]\u001b[A\n",
      "Transcribe:  23%|██▎       | 120.0/520.78 [00:17<00:54,  7.36sec/s]\u001b[A\n",
      "Transcribe:  29%|██▉       | 150.0/520.78 [00:20<00:49,  7.57sec/s]\u001b[A\n",
      "Transcribe:  35%|███▍      | 180.0/520.78 [00:21<00:34,  9.93sec/s]\u001b[A\n",
      "Transcribe:  40%|████      | 210.0/520.78 [00:23<00:27, 11.46sec/s]\u001b[A\n",
      "Transcribe:  46%|████▌     | 240.0/520.78 [00:26<00:25, 10.93sec/s]\u001b[A\n",
      "Transcribe:  52%|█████▏    | 270.0/520.78 [00:30<00:25,  9.92sec/s]\u001b[A\n",
      "Transcribe:  58%|█████▊    | 300.0/520.78 [00:34<00:24,  9.05sec/s]\u001b[A\n",
      "Transcribe:  63%|██████▎   | 330.0/520.78 [00:38<00:22,  8.61sec/s]\u001b[A\n",
      "Transcribe:  69%|██████▉   | 360.0/520.78 [00:41<00:18,  8.73sec/s]\u001b[A\n",
      "Transcribe:  75%|███████▍  | 390.0/520.78 [00:44<00:14,  9.22sec/s]\u001b[A\n",
      "Transcribe:  81%|████████  | 420.0/520.78 [00:47<00:11,  9.15sec/s]\u001b[A\n",
      "Transcribe:  86%|████████▌ | 448.0/520.78 [00:52<00:09,  7.94sec/s]\u001b[A\n",
      "Transcribe:  92%|█████████▏| 478.0/520.78 [00:54<00:04,  9.02sec/s]\u001b[A\n",
      "Transcribe:  98%|█████████▊| 508.0/520.78 [00:58<00:01,  8.39sec/s]\u001b[A\n",
      "Transcribe: 100%|█████████▉| 520.65/520.78 [01:00<00:00,  8.64sec/s]\u001b[A\n"
     ]
    },
    {
     "name": "stdout",
     "output_type": "stream",
     "text": [
      "Saved: /home/arveloic/MASCOT/stable_ts_json/stable_ts_audio_7.json\n"
     ]
    },
    {
     "name": "stderr",
     "output_type": "stream",
     "text": [
      "  6%|▌         | 2/33 [15:09<4:19:23, 502.04s/it]\n",
      "                                                 ec/s]\u001b[A\n",
      "  6%|▌         | 2/33 [15:09<4:19:23, 502.04s/it]     \n",
      "Transcribe:   0%|          | 0/385.1 [00:00<?, ?sec/s]\u001b[A"
     ]
    },
    {
     "name": "stdout",
     "output_type": "stream",
     "text": [
      "Detected language: english\n"
     ]
    },
    {
     "name": "stderr",
     "output_type": "stream",
     "text": [
      "\n",
      "Transcribe:   6%|▋         | 24.68/385.1 [00:03<00:46,  7.80sec/s]\u001b[A\n",
      "Transcribe:  14%|█▍        | 54.68/385.1 [00:06<00:38,  8.67sec/s]\u001b[A\n",
      "Transcribe:  22%|██▏       | 84.68/385.1 [00:09<00:32,  9.18sec/s]\u001b[A\n",
      "Transcribe:  29%|██▉       | 112.68/385.1 [00:27<01:25,  3.20sec/s]\u001b[A\n",
      "Transcribe:  37%|███▋      | 142.68/385.1 [00:52<02:05,  1.94sec/s]\u001b[A\n",
      "Transcribe:  45%|████▍     | 172.68/385.1 [00:56<01:19,  2.68sec/s]\u001b[A\n",
      "Transcribe:  52%|█████▏    | 200.54/385.1 [01:00<00:55,  3.33sec/s]\u001b[A\n",
      "Transcribe:  60%|█████▉    | 230.54/385.1 [01:25<01:14,  2.07sec/s]\u001b[A\n",
      "Transcribe:  67%|██████▋   | 258.54/385.1 [01:29<00:48,  2.63sec/s]\u001b[A\n",
      "Transcribe:  73%|███████▎  | 282.96/385.1 [01:32<00:31,  3.26sec/s]\u001b[A\n",
      "Transcribe:  81%|████████▏ | 312.96/385.1 [01:35<00:16,  4.29sec/s]\u001b[A\n",
      "Transcribe:  89%|████████▉ | 342.96/385.1 [01:38<00:08,  5.10sec/s]\u001b[A\n",
      "Transcribe:  97%|█████████▋| 372.96/385.1 [01:42<00:02,  5.65sec/s]\u001b[A\n",
      "Transcribe: 100%|█████████▉| 385.07/385.1 [01:43<00:00,  3.72sec/s]\u001b[A\n"
     ]
    },
    {
     "name": "stdout",
     "output_type": "stream",
     "text": [
      "Saved: /home/arveloic/MASCOT/stable_ts_json/stable_ts_audio_8.json\n"
     ]
    },
    {
     "name": "stderr",
     "output_type": "stream",
     "text": [
      "\n",
      "                                                 sec/s]\u001b[A\n",
      "  6%|▌         | 2/33 [16:53<4:19:23, 502.04s/it]      \n",
      "Transcribe:   0%|          | 0/935.34 [00:00<?, ?sec/s]\u001b[A"
     ]
    },
    {
     "name": "stdout",
     "output_type": "stream",
     "text": [
      "Detected language: english\n"
     ]
    },
    {
     "name": "stderr",
     "output_type": "stream",
     "text": [
      "\n",
      "Transcribe:   2%|▏         | 23.22/935.34 [00:02<01:47,  8.50sec/s]\u001b[A\n",
      "Transcribe:   5%|▍         | 44.38/935.34 [00:05<01:45,  8.43sec/s]\u001b[A\n",
      "Transcribe:   8%|▊         | 74.38/935.34 [00:08<01:44,  8.27sec/s]\u001b[A\n",
      "Transcribe:  11%|█         | 104.38/935.34 [00:11<01:31,  9.12sec/s]\u001b[A\n",
      "Transcribe:  14%|█▍        | 134.38/935.34 [00:14<01:19, 10.07sec/s]\u001b[A\n",
      "Transcribe:  18%|█▊        | 164.38/935.34 [00:17<01:19,  9.74sec/s]\u001b[A\n",
      "Transcribe:  21%|██        | 194.38/935.34 [00:19<01:09, 10.62sec/s]\u001b[A\n",
      "Transcribe:  24%|██▎       | 221.68/935.34 [00:22<01:04, 11.00sec/s]\u001b[A\n",
      "Transcribe:  27%|██▋       | 251.68/935.34 [00:24<00:58, 11.71sec/s]\u001b[A\n",
      "Transcribe:  30%|███       | 281.68/935.34 [00:28<01:07,  9.72sec/s]\u001b[A\n",
      "Transcribe:  33%|███▎      | 311.68/935.34 [00:31<01:02,  9.92sec/s]\u001b[A\n",
      "Transcribe:  37%|███▋      | 341.68/935.34 [00:35<01:05,  9.11sec/s]\u001b[A\n",
      "Transcribe:  39%|███▉      | 368.08/935.34 [00:38<01:03,  8.87sec/s]\u001b[A\n",
      "Transcribe:  43%|████▎     | 398.08/935.34 [00:42<01:02,  8.53sec/s]\u001b[A\n",
      "Transcribe:  46%|████▌     | 428.08/935.34 [00:45<00:59,  8.46sec/s]\u001b[A\n",
      "Transcribe:  49%|████▉     | 458.08/935.34 [00:49<00:53,  8.84sec/s]\u001b[A\n",
      "Transcribe:  52%|█████▏    | 488.08/935.34 [00:51<00:48,  9.28sec/s]\u001b[A\n",
      "Transcribe:  55%|█████▌    | 518.08/935.34 [00:54<00:44,  9.39sec/s]\u001b[A\n",
      "Transcribe:  59%|█████▊    | 548.08/935.34 [00:57<00:39,  9.87sec/s]\u001b[A\n",
      "Transcribe:  62%|██████▏   | 578.08/935.34 [01:01<00:37,  9.50sec/s]\u001b[A\n",
      "Transcribe:  65%|██████▌   | 608.08/935.34 [01:03<00:33,  9.83sec/s]\u001b[A\n",
      "Transcribe:  68%|██████▊   | 638.08/935.34 [01:06<00:28, 10.51sec/s]\u001b[A\n",
      "Transcribe:  71%|███████▏  | 668.08/935.34 [01:09<00:26, 10.22sec/s]\u001b[A\n",
      "Transcribe:  75%|███████▍  | 698.08/935.34 [01:12<00:22, 10.43sec/s]\u001b[A\n",
      "Transcribe:  78%|███████▊  | 728.08/935.34 [01:15<00:20, 10.09sec/s]\u001b[A\n",
      "Transcribe:  81%|████████  | 758.08/935.34 [01:19<00:19,  9.19sec/s]\u001b[A\n",
      "Transcribe:  84%|████████▍ | 788.08/935.34 [01:22<00:15,  9.53sec/s]\u001b[A\n",
      "Transcribe:  87%|████████▋ | 818.08/935.34 [01:26<00:13,  8.94sec/s]\u001b[A\n",
      "Transcribe:  90%|█████████ | 845.56/935.34 [01:29<00:10,  8.75sec/s]\u001b[A\n",
      "Transcribe:  94%|█████████▎| 875.56/935.34 [01:33<00:07,  8.16sec/s]\u001b[A\n",
      "Transcribe:  97%|█████████▋| 905.56/935.34 [01:36<00:03,  8.39sec/s]\u001b[A\n",
      "Transcribe: 100%|█████████▉| 935.21/935.34 [01:40<00:00,  9.33sec/s]\u001b[A\n"
     ]
    },
    {
     "name": "stdout",
     "output_type": "stream",
     "text": [
      "Saved: /home/arveloic/MASCOT/stable_ts_json/stable_ts_audio_9.json\n"
     ]
    },
    {
     "name": "stderr",
     "output_type": "stream",
     "text": [
      "\n",
      "                                                 sec/s]\u001b[A\n",
      "  6%|▌         | 2/33 [18:34<4:19:23, 502.04s/it]      \n",
      "Transcribe:   0%|          | 0/963.29 [00:00<?, ?sec/s]\u001b[A"
     ]
    },
    {
     "name": "stdout",
     "output_type": "stream",
     "text": [
      "Detected language: english\n"
     ]
    },
    {
     "name": "stderr",
     "output_type": "stream",
     "text": [
      "\n",
      "Transcribe:   2%|▏         | 15.04/963.29 [00:06<07:00,  2.25sec/s]\u001b[A\n",
      "Transcribe:   5%|▍         | 45.04/963.29 [00:07<02:14,  6.84sec/s]\u001b[A\n",
      "Transcribe:   8%|▊         | 75.04/963.29 [00:12<02:06,  7.05sec/s]\u001b[A\n",
      "Transcribe:  11%|█         | 105.04/963.29 [00:15<01:56,  7.35sec/s]\u001b[A\n",
      "Transcribe:  14%|█▍        | 135.04/963.29 [00:19<01:50,  7.50sec/s]\u001b[A\n",
      "Transcribe:  17%|█▋        | 163.54/963.29 [00:22<01:38,  8.09sec/s]\u001b[A\n",
      "Transcribe:  20%|██        | 193.54/963.29 [00:25<01:30,  8.47sec/s]\u001b[A\n",
      "Transcribe:  23%|██▎       | 223.54/963.29 [00:29<01:26,  8.52sec/s]\u001b[A\n",
      "Transcribe:  26%|██▋       | 253.54/963.29 [00:30<01:04, 11.01sec/s]\u001b[A\n",
      "Transcribe:  29%|██▉       | 283.54/963.29 [00:33<01:02, 10.96sec/s]\u001b[A\n",
      "Transcribe:  33%|███▎      | 313.54/963.29 [00:37<01:07,  9.69sec/s]\u001b[A\n",
      "Transcribe:  36%|███▌      | 343.54/963.29 [00:40<01:07,  9.24sec/s]\u001b[A\n",
      "Transcribe:  39%|███▉      | 373.54/963.29 [00:44<01:09,  8.46sec/s]\u001b[A\n",
      "Transcribe:  42%|████▏     | 403.54/963.29 [00:48<01:05,  8.53sec/s]\u001b[A\n",
      "Transcribe:  45%|████▌     | 433.54/963.29 [00:51<01:02,  8.48sec/s]\u001b[A\n",
      "Transcribe:  48%|████▊     | 463.54/963.29 [00:55<01:01,  8.16sec/s]\u001b[A\n",
      "Transcribe:  51%|█████     | 493.54/963.29 [01:23<02:48,  2.79sec/s]\u001b[A\n",
      "Transcribe:  54%|█████▍    | 522.92/963.29 [01:27<02:10,  3.36sec/s]\u001b[A\n",
      "Transcribe:  57%|█████▋    | 545.1/963.29 [01:30<01:47,  3.90sec/s] \u001b[A\n",
      "Transcribe:  60%|█████▉    | 575.1/963.29 [01:32<01:17,  5.02sec/s]\u001b[A\n",
      "Transcribe:  63%|██████▎   | 605.1/963.29 [01:35<01:00,  5.93sec/s]\u001b[A\n",
      "Transcribe:  66%|██████▌   | 635.1/963.29 [01:38<00:46,  7.03sec/s]\u001b[A\n",
      "Transcribe:  69%|██████▉   | 665.1/963.29 [01:39<00:33,  8.98sec/s]\u001b[A\n",
      "Transcribe:  69%|██████▉   | 665.1/963.29 [01:56<00:33,  8.98sec/s]\u001b[A\n",
      "Transcribe:  72%|███████▏  | 695.1/963.29 [01:58<01:12,  3.69sec/s]\u001b[A\n",
      "Transcribe:  75%|███████▌  | 725.1/963.29 [02:02<00:53,  4.45sec/s]\u001b[A\n",
      "Transcribe:  78%|███████▊  | 755.1/963.29 [02:06<00:40,  5.11sec/s]\u001b[A\n",
      "Transcribe:  82%|████████▏ | 785.1/963.29 [02:10<00:32,  5.56sec/s]\u001b[A\n",
      "Transcribe:  84%|████████▍ | 811.76/963.29 [02:13<00:24,  6.06sec/s]\u001b[A\n",
      "Transcribe:  87%|████████▋ | 841.76/963.29 [02:17<00:18,  6.70sec/s]\u001b[A\n",
      "Transcribe:  90%|█████████ | 871.76/963.29 [02:20<00:12,  7.15sec/s]\u001b[A\n",
      "Transcribe:  94%|█████████▎| 901.76/963.29 [02:24<00:08,  7.51sec/s]\u001b[A\n",
      "Transcribe:  97%|█████████▋| 931.76/963.29 [02:28<00:04,  7.57sec/s]\u001b[A\n",
      "Transcribe: 100%|█████████▉| 961.76/963.29 [02:51<00:00,  3.06sec/s]\u001b[A\n",
      "Transcribe: 100%|██████████| 963.29/963.29 [02:52<00:00,  5.60sec/s]\u001b[A\n"
     ]
    },
    {
     "name": "stdout",
     "output_type": "stream",
     "text": [
      "Saved: /home/arveloic/MASCOT/stable_ts_json/stable_ts_audio_10.json\n"
     ]
    },
    {
     "name": "stderr",
     "output_type": "stream",
     "text": [
      "\n",
      "                                                 sec/s]\u001b[A\n",
      "  6%|▌         | 2/33 [21:26<4:19:23, 502.04s/it]      \n",
      "Transcribe:   0%|          | 0/474.59 [00:00<?, ?sec/s]\u001b[A"
     ]
    },
    {
     "name": "stdout",
     "output_type": "stream",
     "text": [
      "Detected language: english\n"
     ]
    },
    {
     "name": "stderr",
     "output_type": "stream",
     "text": [
      "\n",
      "Transcribe:   5%|▌         | 26.0/474.59 [00:02<00:46,  9.61sec/s]\u001b[A\n",
      "Transcribe:  11%|█         | 51.28/474.59 [00:21<03:22,  2.09sec/s]\u001b[A\n",
      "Transcribe:  17%|█▋        | 81.28/474.59 [00:25<01:57,  3.36sec/s]\u001b[A\n",
      "Transcribe:  23%|██▎       | 111.28/474.59 [00:27<01:15,  4.82sec/s]\u001b[A\n",
      "Transcribe:  30%|██▉       | 141.28/474.59 [00:29<00:51,  6.44sec/s]\u001b[A\n",
      "Transcribe:  36%|███▌      | 171.28/474.59 [00:31<00:38,  7.96sec/s]\u001b[A\n",
      "Transcribe:  42%|████▏     | 201.28/474.59 [00:34<00:30,  8.83sec/s]\u001b[A\n",
      "Transcribe:  48%|████▊     | 227.36/474.59 [00:39<00:34,  7.25sec/s]\u001b[A\n",
      "Transcribe:  54%|█████▍    | 257.36/474.59 [00:43<00:30,  7.15sec/s]\u001b[A\n",
      "Transcribe:  61%|██████    | 287.36/474.59 [00:48<00:27,  6.87sec/s]\u001b[A\n",
      "Transcribe:  67%|██████▋   | 317.36/474.59 [00:51<00:21,  7.41sec/s]\u001b[A\n",
      "Transcribe:  73%|███████▎  | 347.36/474.59 [00:54<00:15,  8.29sec/s]\u001b[A\n",
      "Transcribe:  80%|███████▉  | 377.36/474.59 [00:57<00:11,  8.51sec/s]\u001b[A\n",
      "Transcribe:  86%|████████▌ | 407.36/474.59 [01:01<00:08,  8.32sec/s]\u001b[A\n",
      "Transcribe:  92%|█████████▏| 437.36/474.59 [01:05<00:04,  8.09sec/s]\u001b[A\n",
      "Transcribe:  98%|█████████▊| 467.36/474.59 [01:08<00:00,  8.77sec/s]\u001b[A\n",
      "Transcribe: 100%|█████████▉| 474.56/474.59 [01:09<00:00,  6.81sec/s]\u001b[A\n"
     ]
    },
    {
     "name": "stdout",
     "output_type": "stream",
     "text": [
      "Saved: /home/arveloic/MASCOT/stable_ts_json/stable_ts_audio_11.json\n"
     ]
    },
    {
     "name": "stderr",
     "output_type": "stream",
     "text": [
      "  9%|▉         | 3/33 [22:36<3:58:24, 476.81s/it]\n",
      "                                                 sec/s]\u001b[A\n",
      "  9%|▉         | 3/33 [22:36<3:58:24, 476.81s/it]      \n",
      "Transcribe:   0%|          | 0/908.96 [00:00<?, ?sec/s]\u001b[A"
     ]
    },
    {
     "name": "stdout",
     "output_type": "stream",
     "text": [
      "Detected language: english\n"
     ]
    },
    {
     "name": "stderr",
     "output_type": "stream",
     "text": [
      "\n",
      "Transcribe:   3%|▎         | 26.0/908.96 [00:04<02:21,  6.22sec/s]\u001b[A\n",
      "Transcribe:   6%|▌         | 56.0/908.96 [00:07<01:54,  7.47sec/s]\u001b[A\n",
      "Transcribe:   8%|▊         | 74.02/908.96 [00:10<01:53,  7.34sec/s]\u001b[A\n",
      "Transcribe:  11%|█▏        | 104.0/908.96 [00:20<03:06,  4.32sec/s]\u001b[A\n",
      "Transcribe:  15%|█▍        | 134.0/908.96 [00:23<02:15,  5.73sec/s]\u001b[A\n",
      "Transcribe:  18%|█▊        | 164.0/908.96 [00:28<02:08,  5.81sec/s]\u001b[A\n",
      "Transcribe:  21%|██▏       | 194.0/908.96 [00:32<01:59,  5.99sec/s]\u001b[A\n",
      "Transcribe:  25%|██▍       | 224.0/908.96 [00:36<01:42,  6.67sec/s]\u001b[A\n",
      "Transcribe:  28%|██▊       | 252.66/908.96 [00:40<01:34,  6.96sec/s]\u001b[A\n",
      "Transcribe:  31%|███       | 282.66/908.96 [01:03<03:38,  2.87sec/s]\u001b[A\n",
      "Transcribe:  34%|███▍      | 312.66/908.96 [01:21<04:12,  2.36sec/s]\u001b[A\n",
      "Transcribe:  38%|███▊      | 341.66/908.96 [01:26<03:18,  2.86sec/s]\u001b[A\n",
      "Transcribe:  41%|████      | 370.66/908.96 [02:10<06:16,  1.43sec/s]\u001b[A\n",
      "Transcribe:  44%|████▍     | 398.64/908.96 [02:14<04:31,  1.88sec/s]\u001b[A\n",
      "Transcribe:  47%|████▋     | 428.64/908.96 [02:17<03:10,  2.52sec/s]\u001b[A\n",
      "Transcribe:  50%|█████     | 458.64/908.96 [02:22<02:27,  3.06sec/s]\u001b[A\n",
      "Transcribe:  54%|█████▍    | 488.64/908.96 [02:27<01:56,  3.61sec/s]\u001b[A\n",
      "Transcribe:  57%|█████▋    | 518.14/908.96 [02:56<03:13,  2.01sec/s]\u001b[A\n",
      "Transcribe:  60%|█████▉    | 545.14/908.96 [03:00<02:24,  2.52sec/s]\u001b[A\n",
      "Transcribe:  63%|██████▎   | 574.74/908.96 [03:04<01:46,  3.13sec/s]\u001b[A\n",
      "Transcribe:  67%|██████▋   | 604.52/908.96 [03:07<01:16,  3.96sec/s]\u001b[A\n",
      "Transcribe:  70%|██████▉   | 634.52/908.96 [03:11<00:57,  4.73sec/s]\u001b[A\n",
      "Transcribe:  73%|███████▎  | 662.96/908.96 [03:44<02:00,  2.04sec/s]\u001b[A\n",
      "Transcribe:  76%|███████▌  | 690.24/908.96 [03:48<01:24,  2.58sec/s]\u001b[A\n",
      "Transcribe:  79%|███████▉  | 720.24/908.96 [03:50<00:55,  3.38sec/s]\u001b[A\n",
      "Transcribe:  83%|████████▎ | 750.24/908.96 [03:54<00:38,  4.16sec/s]\u001b[A\n",
      "Transcribe:  86%|████████▌ | 780.24/908.96 [03:57<00:26,  4.95sec/s]\u001b[A\n",
      "Transcribe:  89%|████████▉ | 810.24/908.96 [04:01<00:17,  5.61sec/s]\u001b[A\n",
      "Transcribe:  92%|█████████▏| 840.14/908.96 [04:05<00:11,  5.98sec/s]\u001b[A\n",
      "Transcribe:  96%|█████████▌| 869.98/908.96 [04:09<00:06,  6.37sec/s]\u001b[A\n",
      "Transcribe:  99%|█████████▉| 899.98/908.96 [04:13<00:01,  6.90sec/s]\u001b[A\n",
      "Transcribe: 100%|██████████| 908.96/908.96 [04:15<00:00,  3.56sec/s]\u001b[A\n"
     ]
    },
    {
     "name": "stdout",
     "output_type": "stream",
     "text": [
      "Saved: /home/arveloic/MASCOT/stable_ts_json/stable_ts_audio_12.json\n"
     ]
    },
    {
     "name": "stderr",
     "output_type": "stream",
     "text": [
      "\n",
      "                                                 ec/s]\u001b[A\n",
      "  9%|▉         | 3/33 [26:52<3:58:24, 476.81s/it]     \n",
      "Transcribe:   0%|          | 0/945.2 [00:00<?, ?sec/s]\u001b[A"
     ]
    },
    {
     "name": "stdout",
     "output_type": "stream",
     "text": [
      "Detected language: english\n"
     ]
    },
    {
     "name": "stderr",
     "output_type": "stream",
     "text": [
      "\n",
      "Transcribe:   1%|▏         | 12.0/945.2 [00:02<02:40,  5.82sec/s]\u001b[A\n",
      "Transcribe:   4%|▍         | 37.66/945.2 [00:03<01:28, 10.27sec/s]\u001b[A\n",
      "Transcribe:   6%|▋         | 60.48/945.2 [00:06<01:32,  9.57sec/s]\u001b[A\n",
      "Transcribe:  10%|▉         | 90.48/945.2 [00:10<01:36,  8.84sec/s]\u001b[A\n",
      "Transcribe:  13%|█▎        | 120.48/945.2 [00:13<01:30,  9.13sec/s]\u001b[A\n",
      "Transcribe:  16%|█▌        | 150.48/945.2 [00:16<01:29,  8.87sec/s]\u001b[A\n",
      "Transcribe:  19%|█▉        | 179.92/945.2 [00:20<01:26,  8.89sec/s]\u001b[A\n",
      "Transcribe:  21%|██▏       | 203.14/945.2 [00:22<01:19,  9.28sec/s]\u001b[A\n",
      "Transcribe:  24%|██▍       | 230.28/945.2 [00:25<01:16,  9.30sec/s]\u001b[A\n",
      "Transcribe:  26%|██▌       | 247.04/945.2 [00:27<01:15,  9.20sec/s]\u001b[A\n",
      "Transcribe:  29%|██▊       | 271.1/945.2 [00:28<01:03, 10.57sec/s] \u001b[A\n",
      "Transcribe:  32%|███▏      | 301.1/945.2 [00:31<00:58, 11.08sec/s]\u001b[A\n",
      "Transcribe:  34%|███▍      | 320.64/945.2 [00:32<00:54, 11.52sec/s]\u001b[A\n",
      "Transcribe:  37%|███▋      | 348.0/945.2 [00:34<00:50, 11.77sec/s] \u001b[A\n",
      "Transcribe:  40%|███▉      | 378.0/945.2 [00:36<00:43, 12.97sec/s]\u001b[A\n",
      "Transcribe:  43%|████▎     | 408.0/945.2 [00:39<00:42, 12.66sec/s]\u001b[A\n",
      "Transcribe:  46%|████▋     | 438.0/945.2 [00:41<00:38, 13.05sec/s]\u001b[A\n",
      "Transcribe:  50%|████▉     | 468.0/945.2 [00:43<00:34, 14.00sec/s]\u001b[A\n",
      "Transcribe:  53%|█████▎    | 498.0/945.2 [00:44<00:30, 14.90sec/s]\u001b[A\n",
      "Transcribe:  55%|█████▌    | 524.46/945.2 [00:48<00:34, 12.27sec/s]\u001b[A\n",
      "Transcribe:  59%|█████▊    | 554.46/945.2 [00:50<00:32, 12.15sec/s]\u001b[A\n",
      "Transcribe:  62%|██████▏   | 584.46/945.2 [00:53<00:31, 11.34sec/s]\u001b[A\n",
      "Transcribe:  65%|██████▌   | 614.46/945.2 [00:54<00:22, 14.60sec/s]\u001b[A\n",
      "Transcribe:  68%|██████▊   | 641.06/945.2 [00:57<00:24, 12.55sec/s]\u001b[A\n",
      "Transcribe:  71%|███████   | 671.06/945.2 [00:59<00:21, 12.80sec/s]\u001b[A\n",
      "Transcribe:  74%|███████▍  | 701.06/945.2 [01:00<00:15, 15.50sec/s]\u001b[A\n",
      "Transcribe:  77%|███████▋  | 731.06/945.2 [01:03<00:16, 13.16sec/s]\u001b[A\n",
      "Transcribe:  81%|████████  | 761.06/945.2 [01:04<00:11, 15.81sec/s]\u001b[A\n",
      "Transcribe:  83%|████████▎ | 783.74/945.2 [01:05<00:10, 15.83sec/s]\u001b[A\n",
      "Transcribe:  85%|████████▍ | 802.64/945.2 [01:07<00:09, 15.01sec/s]\u001b[A\n",
      "Transcribe:  87%|████████▋ | 825.52/945.2 [01:10<00:09, 12.40sec/s]\u001b[A\n",
      "Transcribe:  91%|█████████ | 855.52/945.2 [01:12<00:07, 12.65sec/s]\u001b[A\n",
      "Transcribe:  93%|█████████▎| 877.14/945.2 [01:13<00:04, 14.28sec/s]\u001b[A\n",
      "Transcribe:  96%|█████████▌| 906.18/945.2 [01:17<00:03, 10.83sec/s]\u001b[A\n",
      "Transcribe:  99%|█████████▉| 936.18/945.2 [01:18<00:00, 12.45sec/s]\u001b[A\n",
      "Transcribe: 100%|██████████| 945.2/945.2 [01:19<00:00, 11.85sec/s] \u001b[A\n"
     ]
    },
    {
     "name": "stdout",
     "output_type": "stream",
     "text": [
      "Saved: /home/arveloic/MASCOT/stable_ts_json/stable_ts_audio_13.json\n"
     ]
    },
    {
     "name": "stderr",
     "output_type": "stream",
     "text": [
      "\n",
      "                                                 ec/s]\u001b[A\n",
      "  9%|▉         | 3/33 [28:12<3:58:24, 476.81s/it]     \n",
      "Transcribe:   0%|          | 0/371.2 [00:00<?, ?sec/s]\u001b[A"
     ]
    },
    {
     "name": "stdout",
     "output_type": "stream",
     "text": [
      "Detected language: english\n"
     ]
    },
    {
     "name": "stderr",
     "output_type": "stream",
     "text": [
      "\n",
      "Transcribe:   8%|▊         | 30.0/371.2 [00:06<01:11,  4.76sec/s]\u001b[A\n",
      "Transcribe:  16%|█▌        | 60.0/371.2 [00:11<00:56,  5.53sec/s]\u001b[A\n",
      "Transcribe:  24%|██▍       | 88.96/371.2 [00:14<00:44,  6.31sec/s]\u001b[A\n",
      "Transcribe:  32%|███▏      | 118.96/371.2 [00:19<00:38,  6.51sec/s]\u001b[A\n",
      "Transcribe:  40%|████      | 148.96/371.2 [00:22<00:31,  7.15sec/s]\u001b[A\n",
      "Transcribe:  48%|████▊     | 178.96/371.2 [00:27<00:28,  6.86sec/s]\u001b[A\n",
      "Transcribe:  56%|█████▋    | 208.96/371.2 [00:30<00:20,  7.86sec/s]\u001b[A\n",
      "Transcribe:  64%|██████▍   | 238.96/371.2 [00:32<00:15,  8.71sec/s]\u001b[A\n",
      "Transcribe:  72%|███████▏  | 268.96/371.2 [00:36<00:11,  8.56sec/s]\u001b[A\n",
      "Transcribe:  81%|████████  | 298.96/371.2 [00:39<00:07,  9.27sec/s]\u001b[A\n",
      "Transcribe:  89%|████████▊ | 328.96/371.2 [00:41<00:04, 10.17sec/s]\u001b[A\n",
      "Transcribe:  97%|█████████▋| 358.96/371.2 [00:43<00:01, 11.03sec/s]\u001b[A\n",
      "Transcribe: 100%|█████████▉| 371.09/371.2 [00:44<00:00,  8.32sec/s]\u001b[A\n"
     ]
    },
    {
     "name": "stdout",
     "output_type": "stream",
     "text": [
      "Saved: /home/arveloic/MASCOT/stable_ts_json/stable_ts_audio_14.json\n"
     ]
    },
    {
     "name": "stderr",
     "output_type": "stream",
     "text": [
      "\n",
      "                                                 ?sec/s]\u001b[A\n",
      "  9%|▉         | 3/33 [28:56<3:58:24, 476.81s/it]       \n",
      "Transcribe:   0%|          | 0/1222.67 [00:00<?, ?sec/s]\u001b[A"
     ]
    },
    {
     "name": "stdout",
     "output_type": "stream",
     "text": [
      "Detected language: english\n"
     ]
    },
    {
     "name": "stderr",
     "output_type": "stream",
     "text": [
      "\n",
      "Transcribe:   2%|▏         | 20.0/1222.67 [00:02<02:56,  6.80sec/s]\u001b[A\n",
      "Transcribe:   3%|▎         | 42.0/1222.67 [00:08<04:16,  4.61sec/s]\u001b[A\n",
      "Transcribe:   6%|▌         | 70.16/1222.67 [00:12<03:25,  5.61sec/s]\u001b[A\n",
      "Transcribe:   8%|▊         | 94.22/1222.67 [00:15<02:47,  6.74sec/s]\u001b[A\n",
      "Transcribe:  10%|▉         | 120.64/1222.67 [00:17<02:23,  7.66sec/s]\u001b[A\n",
      "Transcribe:  12%|█▏        | 144.32/1222.67 [00:21<02:23,  7.51sec/s]\u001b[A\n",
      "Transcribe:  13%|█▎        | 162.86/1222.67 [00:23<02:14,  7.91sec/s]\u001b[A\n",
      "Transcribe:  16%|█▌        | 192.86/1222.67 [00:25<01:53,  9.10sec/s]\u001b[A\n",
      "Transcribe:  18%|█▊        | 222.86/1222.67 [00:28<01:45,  9.44sec/s]\u001b[A\n",
      "Transcribe:  21%|██        | 252.86/1222.67 [00:31<01:34, 10.25sec/s]\u001b[A\n",
      "Transcribe:  23%|██▎       | 282.86/1222.67 [00:34<01:33, 10.05sec/s]\u001b[A\n",
      "Transcribe:  26%|██▌       | 312.86/1222.67 [00:37<01:32,  9.78sec/s]\u001b[A\n",
      "Transcribe:  28%|██▊       | 342.86/1222.67 [00:40<01:31,  9.67sec/s]\u001b[A\n",
      "Transcribe:  30%|███       | 372.86/1222.67 [00:43<01:22, 10.36sec/s]\u001b[A\n",
      "Transcribe:  33%|███▎      | 402.86/1222.67 [00:46<01:20, 10.14sec/s]\u001b[A\n",
      "Transcribe:  35%|███▌      | 432.86/1222.67 [00:49<01:18, 10.01sec/s]\u001b[A\n",
      "Transcribe:  38%|███▊      | 462.86/1222.67 [00:52<01:17,  9.82sec/s]\u001b[A\n",
      "Transcribe:  40%|████      | 489.22/1222.67 [00:55<01:16,  9.64sec/s]\u001b[A\n",
      "Transcribe:  42%|████▏     | 517.96/1222.67 [00:58<01:14,  9.42sec/s]\u001b[A\n",
      "Transcribe:  45%|████▍     | 547.96/1222.67 [01:01<01:07,  9.92sec/s]\u001b[A\n",
      "Transcribe:  47%|████▋     | 577.96/1222.67 [01:03<01:03, 10.20sec/s]\u001b[A\n",
      "Transcribe:  50%|████▉     | 607.96/1222.67 [01:08<01:12,  8.50sec/s]\u001b[A\n",
      "Transcribe:  52%|█████▏    | 637.96/1222.67 [01:11<01:05,  8.93sec/s]\u001b[A\n",
      "Transcribe:  55%|█████▍    | 667.96/1222.67 [01:14<00:59,  9.25sec/s]\u001b[A\n",
      "Transcribe:  57%|█████▋    | 697.96/1222.67 [01:17<00:53,  9.88sec/s]\u001b[A\n",
      "Transcribe:  60%|█████▉    | 727.96/1222.67 [01:21<00:55,  8.95sec/s]\u001b[A\n",
      "Transcribe:  62%|██████▏   | 757.96/1222.67 [01:24<00:49,  9.41sec/s]\u001b[A\n",
      "Transcribe:  64%|██████▍   | 787.96/1222.67 [01:27<00:45,  9.47sec/s]\u001b[A\n",
      "Transcribe:  67%|██████▋   | 817.96/1222.67 [01:38<01:13,  5.51sec/s]\u001b[A\n",
      "Transcribe:  69%|██████▉   | 847.96/1222.67 [01:40<00:56,  6.61sec/s]\u001b[A\n",
      "Transcribe:  72%|███████▏  | 877.96/1222.67 [01:43<00:47,  7.27sec/s]\u001b[A\n",
      "Transcribe:  74%|███████▍  | 907.96/1222.67 [01:45<00:37,  8.43sec/s]\u001b[A\n",
      "Transcribe:  77%|███████▋  | 937.96/1222.67 [01:48<00:30,  9.47sec/s]\u001b[A\n",
      "Transcribe:  79%|███████▉  | 967.96/1222.67 [01:51<00:26,  9.65sec/s]\u001b[A\n",
      "Transcribe:  82%|████████▏ | 997.96/1222.67 [01:53<00:22, 10.08sec/s]\u001b[A\n",
      "Transcribe:  84%|████████▍ | 1027.96/1222.67 [01:55<00:16, 11.54sec/s]\u001b[A\n",
      "Transcribe:  87%|████████▋ | 1057.96/1222.67 [01:59<00:16, 10.17sec/s]\u001b[A\n",
      "Transcribe:  89%|████████▉ | 1087.96/1222.67 [02:09<00:23,  5.68sec/s]\u001b[A\n",
      "Transcribe:  91%|█████████▏| 1117.96/1222.67 [02:14<00:17,  5.94sec/s]\u001b[A\n",
      "Transcribe:  94%|█████████▍| 1147.96/1222.67 [02:17<00:10,  6.93sec/s]\u001b[A\n",
      "Transcribe:  96%|█████████▋| 1177.96/1222.67 [02:20<00:05,  7.64sec/s]\u001b[A\n",
      "Transcribe:  99%|█████████▉| 1207.96/1222.67 [02:24<00:02,  7.18sec/s]\u001b[A\n",
      "Transcribe: 100%|██████████| 1222.67/1222.67 [02:26<00:00,  8.32sec/s]\u001b[A\n"
     ]
    },
    {
     "name": "stdout",
     "output_type": "stream",
     "text": [
      "Saved: /home/arveloic/MASCOT/stable_ts_json/stable_ts_audio_15.json\n"
     ]
    },
    {
     "name": "stderr",
     "output_type": "stream",
     "text": [
      " 12%|█▏        | 4/33 [31:27<4:00:46, 498.15s/it]\n",
      "                                                 sec/s]\u001b[A\n",
      " 12%|█▏        | 4/33 [31:27<4:00:46, 498.15s/it]      \n",
      "Transcribe:   0%|          | 0/376.32 [00:00<?, ?sec/s]\u001b[A"
     ]
    },
    {
     "name": "stdout",
     "output_type": "stream",
     "text": [
      "Detected language: english\n"
     ]
    },
    {
     "name": "stderr",
     "output_type": "stream",
     "text": [
      "\n",
      "Transcribe:   7%|▋         | 26.6/376.32 [00:04<00:54,  6.47sec/s]\u001b[A\n",
      "Transcribe:  15%|█▌        | 56.6/376.32 [00:06<00:33,  9.43sec/s]\u001b[A\n",
      "Transcribe:  15%|█▌        | 56.6/376.32 [00:22<00:33,  9.43sec/s]\u001b[A\n",
      "Transcribe:  22%|██▏       | 81.6/376.32 [00:24<01:46,  2.77sec/s]\u001b[A\n",
      "Transcribe:  29%|██▉       | 110.12/376.32 [00:27<01:08,  3.91sec/s]\u001b[A\n",
      "Transcribe:  36%|███▌      | 136.12/376.32 [00:29<00:48,  4.99sec/s]\u001b[A\n",
      "Transcribe:  44%|████▍     | 166.12/376.32 [00:32<00:33,  6.20sec/s]\u001b[A\n",
      "Transcribe:  52%|█████▏    | 196.12/376.32 [00:35<00:25,  7.10sec/s]\u001b[A\n",
      "Transcribe:  60%|██████    | 226.12/376.32 [00:39<00:20,  7.16sec/s]\u001b[A\n",
      "Transcribe:  68%|██████▊   | 256.12/376.32 [00:42<00:15,  7.58sec/s]\u001b[A\n",
      "Transcribe:  76%|███████▌  | 286.12/376.32 [00:46<00:11,  8.16sec/s]\u001b[A\n",
      "Transcribe:  84%|████████▍ | 316.12/376.32 [00:48<00:06,  9.34sec/s]\u001b[A\n",
      "Transcribe:  89%|████████▉ | 336.44/376.32 [00:51<00:04,  8.27sec/s]\u001b[A\n",
      "Transcribe:  97%|█████████▋| 366.44/376.32 [00:57<00:01,  7.01sec/s]\u001b[A\n",
      "Transcribe: 100%|█████████▉| 376.27/376.32 [00:58<00:00,  6.45sec/s]\u001b[A\n"
     ]
    },
    {
     "name": "stdout",
     "output_type": "stream",
     "text": [
      "Saved: /home/arveloic/MASCOT/stable_ts_json/stable_ts_audio_16.json\n"
     ]
    },
    {
     "name": "stderr",
     "output_type": "stream",
     "text": [
      "\n",
      "                                                 ec/s]\u001b[A\n",
      " 12%|█▏        | 4/33 [32:25<4:00:46, 498.15s/it]     \n",
      "Transcribe:   0%|          | 0/959.2 [00:00<?, ?sec/s]\u001b[A"
     ]
    },
    {
     "name": "stdout",
     "output_type": "stream",
     "text": [
      "Detected language: english\n"
     ]
    },
    {
     "name": "stderr",
     "output_type": "stream",
     "text": [
      "\n",
      "Transcribe:   3%|▎         | 27.68/959.2 [00:02<01:40,  9.23sec/s]\u001b[A\n",
      "Transcribe:   6%|▌         | 56.68/959.2 [00:21<06:15,  2.40sec/s]\u001b[A\n",
      "Transcribe:   9%|▊         | 83.9/959.2 [00:24<04:18,  3.39sec/s] \u001b[A\n",
      "Transcribe:  12%|█▏        | 113.9/959.2 [00:27<02:58,  4.73sec/s]\u001b[A\n",
      "Transcribe:  15%|█▌        | 143.9/959.2 [00:30<02:17,  5.94sec/s]\u001b[A\n",
      "Transcribe:  18%|█▊        | 173.9/959.2 [00:33<01:56,  6.75sec/s]\u001b[A\n",
      "Transcribe:  21%|██▏       | 203.9/959.2 [00:36<01:40,  7.52sec/s]\u001b[A\n",
      "Transcribe:  24%|██▍       | 233.9/959.2 [00:48<02:33,  4.71sec/s]\u001b[A\n",
      "Transcribe:  28%|██▊       | 263.9/959.2 [00:51<02:01,  5.74sec/s]\u001b[A\n",
      "Transcribe:  31%|███       | 293.9/959.2 [00:54<01:46,  6.27sec/s]\u001b[A\n",
      "Transcribe:  34%|███▍      | 323.9/959.2 [01:06<02:24,  4.41sec/s]\u001b[A\n",
      "Transcribe:  37%|███▋      | 353.9/959.2 [01:09<01:56,  5.20sec/s]\u001b[A\n",
      "Transcribe:  40%|████      | 383.9/959.2 [01:28<03:09,  3.04sec/s]\u001b[A\n",
      "Transcribe:  43%|████▎     | 411.6/959.2 [01:32<02:30,  3.63sec/s]\u001b[A\n",
      "Transcribe:  46%|████▌     | 441.6/959.2 [01:37<02:02,  4.21sec/s]\u001b[A\n",
      "Transcribe:  49%|████▉     | 471.6/959.2 [01:40<01:37,  4.98sec/s]\u001b[A\n",
      "Transcribe:  52%|█████▏    | 501.6/959.2 [01:44<01:19,  5.78sec/s]\u001b[A\n",
      "Transcribe:  55%|█████▌    | 531.6/959.2 [01:46<01:02,  6.86sec/s]\u001b[A\n",
      "Transcribe:  58%|█████▊    | 558.24/959.2 [01:49<00:53,  7.48sec/s]\u001b[A\n",
      "Transcribe:  61%|██████▏   | 588.24/959.2 [01:53<00:48,  7.63sec/s]\u001b[A\n",
      "Transcribe:  64%|██████▍   | 618.24/959.2 [01:56<00:41,  8.22sec/s]\u001b[A\n",
      "Transcribe:  68%|██████▊   | 648.24/959.2 [01:58<00:34,  9.11sec/s]\u001b[A\n",
      "Transcribe:  71%|███████   | 678.24/959.2 [02:01<00:30,  9.13sec/s]\u001b[A\n",
      "Transcribe:  74%|███████▍  | 708.24/959.2 [02:04<00:26,  9.34sec/s]\u001b[A\n",
      "Transcribe:  77%|███████▋  | 738.24/959.2 [02:09<00:25,  8.65sec/s]\u001b[A\n",
      "Transcribe:  80%|████████  | 768.24/959.2 [02:20<00:37,  5.14sec/s]\u001b[A\n",
      "Transcribe:  83%|████████▎ | 798.24/959.2 [02:24<00:28,  5.69sec/s]\u001b[A\n",
      "Transcribe:  86%|████████▋ | 828.24/959.2 [02:27<00:20,  6.37sec/s]\u001b[A\n",
      "Transcribe:  89%|████████▉ | 858.24/959.2 [02:30<00:13,  7.23sec/s]\u001b[A\n",
      "Transcribe:  93%|█████████▎| 888.24/959.2 [02:33<00:09,  7.88sec/s]\u001b[A\n",
      "Transcribe:  96%|█████████▌| 918.24/959.2 [02:37<00:05,  7.91sec/s]\u001b[A\n",
      "Transcribe:  99%|█████████▉| 948.24/959.2 [02:41<00:01,  7.72sec/s]\u001b[A\n",
      "Transcribe: 100%|██████████| 959.2/959.2 [02:42<00:00,  5.90sec/s] \u001b[A\n"
     ]
    },
    {
     "name": "stdout",
     "output_type": "stream",
     "text": [
      "Saved: /home/arveloic/MASCOT/stable_ts_json/stable_ts_audio_17.json\n"
     ]
    },
    {
     "name": "stderr",
     "output_type": "stream",
     "text": [
      "\n",
      "                                                 sec/s]\u001b[A\n",
      " 12%|█▏        | 4/33 [35:08<4:00:46, 498.15s/it]      \n",
      "Transcribe:   0%|          | 0/658.05 [00:00<?, ?sec/s]\u001b[A"
     ]
    },
    {
     "name": "stdout",
     "output_type": "stream",
     "text": [
      "Detected language: english\n"
     ]
    },
    {
     "name": "stderr",
     "output_type": "stream",
     "text": [
      "\n",
      "Transcribe:   4%|▍         | 28.0/658.05 [00:02<00:45, 13.91sec/s]\u001b[A\n",
      "Transcribe:   8%|▊         | 54.0/658.05 [00:04<00:55, 10.97sec/s]\u001b[A\n",
      "Transcribe:   8%|▊         | 54.0/658.05 [00:21<00:55, 10.97sec/s]\u001b[A\n",
      "Transcribe:  13%|█▎        | 84.0/658.05 [00:30<04:24,  2.17sec/s]\u001b[A\n",
      "Transcribe:  16%|█▌        | 104.58/658.05 [00:33<03:16,  2.82sec/s]\u001b[A\n",
      "Transcribe:  20%|██        | 134.58/658.05 [00:35<02:07,  4.12sec/s]\u001b[A\n",
      "Transcribe:  24%|██▎       | 155.58/658.05 [00:37<01:39,  5.04sec/s]\u001b[A\n",
      "Transcribe:  27%|██▋       | 180.88/658.05 [00:39<01:14,  6.36sec/s]\u001b[A\n",
      "Transcribe:  32%|███▏      | 210.88/658.05 [00:40<00:51,  8.65sec/s]\u001b[A\n",
      "Transcribe:  37%|███▋      | 240.88/658.05 [00:43<00:45,  9.17sec/s]\u001b[A\n",
      "Transcribe:  41%|████      | 270.88/658.05 [00:45<00:36, 10.49sec/s]\u001b[A\n",
      "Transcribe:  46%|████▌     | 300.88/658.05 [00:48<00:35, 10.19sec/s]\u001b[A\n",
      "Transcribe:  50%|█████     | 330.88/658.05 [00:50<00:31, 10.50sec/s]\u001b[A\n",
      "Transcribe:  55%|█████▍    | 360.88/658.05 [00:52<00:25, 11.56sec/s]\u001b[A\n",
      "Transcribe:  59%|█████▉    | 390.88/658.05 [00:56<00:26, 10.21sec/s]\u001b[A\n",
      "Transcribe:  64%|██████▍   | 420.88/658.05 [01:00<00:25,  9.13sec/s]\u001b[A\n",
      "Transcribe:  69%|██████▊   | 450.88/658.05 [01:05<00:24,  8.41sec/s]\u001b[A\n",
      "Transcribe:  73%|███████▎  | 480.88/658.05 [01:09<00:23,  7.58sec/s]\u001b[A\n",
      "Transcribe:  78%|███████▊  | 510.88/658.05 [01:11<00:16,  8.91sec/s]\u001b[A\n",
      "Transcribe:  82%|████████▏ | 540.88/658.05 [01:15<00:13,  8.98sec/s]\u001b[A\n",
      "Transcribe:  87%|████████▋ | 570.88/658.05 [01:17<00:08,  9.94sec/s]\u001b[A\n",
      "Transcribe:  91%|█████████▏| 600.88/658.05 [01:19<00:05, 11.03sec/s]\u001b[A\n",
      "Transcribe:  96%|█████████▌| 630.88/658.05 [01:22<00:02, 10.51sec/s]\u001b[A\n",
      "Transcribe: 100%|██████████| 658.05/658.05 [01:24<00:00,  7.76sec/s]\u001b[A\n"
     ]
    },
    {
     "name": "stdout",
     "output_type": "stream",
     "text": [
      "Saved: /home/arveloic/MASCOT/stable_ts_json/stable_ts_audio_18.json\n"
     ]
    },
    {
     "name": "stderr",
     "output_type": "stream",
     "text": [
      "\n",
      "                                                 sec/s]\u001b[A\n",
      " 12%|█▏        | 4/33 [36:33<4:00:46, 498.15s/it]      \n",
      "Transcribe:   0%|          | 0/995.75 [00:00<?, ?sec/s]\u001b[A"
     ]
    },
    {
     "name": "stdout",
     "output_type": "stream",
     "text": [
      "Detected language: english\n"
     ]
    },
    {
     "name": "stderr",
     "output_type": "stream",
     "text": [
      "\n",
      "Transcribe:   3%|▎         | 30.0/995.75 [00:02<01:30, 10.67sec/s]\u001b[A\n",
      "Transcribe:   4%|▍         | 42.36/995.75 [00:04<01:39,  9.55sec/s]\u001b[A\n",
      "Transcribe:   7%|▋         | 71.38/995.75 [00:06<01:19, 11.68sec/s]\u001b[A\n",
      "Transcribe:  10%|█         | 101.38/995.75 [00:08<01:11, 12.53sec/s]\u001b[A\n",
      "Transcribe:  13%|█▎        | 131.38/995.75 [00:11<01:17, 11.15sec/s]\u001b[A\n",
      "Transcribe:  16%|█▌        | 159.6/995.75 [00:14<01:16, 10.91sec/s] \u001b[A\n",
      "Transcribe:  19%|█▉        | 189.6/995.75 [00:16<01:12, 11.18sec/s]\u001b[A\n",
      "Transcribe:  22%|██▏       | 214.46/995.75 [00:18<01:05, 11.99sec/s]\u001b[A\n",
      "Transcribe:  22%|██▏       | 221.2/995.75 [00:19<01:10, 10.96sec/s] \u001b[A\n",
      "Transcribe:  25%|██▌       | 250.0/995.75 [00:20<00:52, 14.19sec/s]\u001b[A\n",
      "Transcribe:  28%|██▊       | 276.08/995.75 [00:22<00:53, 13.39sec/s]\u001b[A\n",
      "Transcribe:  30%|███       | 298.84/995.75 [00:24<00:54, 12.82sec/s]\u001b[A\n",
      "Transcribe:  32%|███▏      | 321.04/995.75 [00:26<00:55, 12.16sec/s]\u001b[A\n",
      "Transcribe:  35%|███▌      | 351.04/995.75 [00:27<00:41, 15.64sec/s]\u001b[A\n",
      "Transcribe:  38%|███▊      | 381.04/995.75 [00:30<00:43, 14.08sec/s]\u001b[A\n",
      "Transcribe:  41%|████      | 409.74/995.75 [00:33<00:45, 12.96sec/s]\u001b[A\n",
      "Transcribe:  44%|████▍     | 439.74/995.75 [00:34<00:39, 14.03sec/s]\u001b[A\n",
      "Transcribe:  47%|████▋     | 469.74/995.75 [00:38<00:45, 11.57sec/s]\u001b[A\n",
      "Transcribe:  50%|█████     | 499.74/995.75 [00:41<00:47, 10.40sec/s]\u001b[A\n",
      "Transcribe:  52%|█████▏    | 521.08/995.75 [00:43<00:42, 11.12sec/s]\u001b[A\n",
      "Transcribe:  55%|█████▌    | 551.08/995.75 [00:44<00:33, 13.29sec/s]\u001b[A\n",
      "Transcribe:  58%|█████▊    | 581.08/995.75 [00:47<00:31, 13.01sec/s]\u001b[A\n",
      "Transcribe:  61%|██████▏   | 611.08/995.75 [00:50<00:34, 11.15sec/s]\u001b[A\n",
      "Transcribe:  64%|██████▍   | 641.08/995.75 [00:52<00:29, 11.94sec/s]\u001b[A\n",
      "Transcribe:  67%|██████▋   | 671.08/995.75 [00:55<00:28, 11.23sec/s]\u001b[A\n",
      "Transcribe:  70%|███████   | 697.84/995.75 [00:58<00:27, 10.85sec/s]\u001b[A\n",
      "Transcribe:  73%|███████▎  | 727.84/995.75 [01:01<00:24, 10.89sec/s]\u001b[A\n",
      "Transcribe:  76%|███████▌  | 757.84/995.75 [01:03<00:21, 11.04sec/s]\u001b[A\n",
      "Transcribe:  79%|███████▉  | 787.84/995.75 [01:05<00:17, 12.20sec/s]\u001b[A\n",
      "Transcribe:  82%|████████▏ | 817.84/995.75 [01:07<00:13, 13.16sec/s]\u001b[A\n",
      "Transcribe:  85%|████████▌ | 847.84/995.75 [01:11<00:12, 11.42sec/s]\u001b[A\n",
      "Transcribe:  88%|████████▊ | 877.84/995.75 [01:15<00:11,  9.94sec/s]\u001b[A\n",
      "Transcribe:  91%|█████████ | 907.84/995.75 [01:16<00:07, 11.27sec/s]\u001b[A\n",
      "Transcribe:  94%|█████████▍| 937.84/995.75 [01:18<00:04, 12.32sec/s]\u001b[A\n",
      "Transcribe:  97%|█████████▋| 967.84/995.75 [01:20<00:02, 12.80sec/s]\u001b[A\n",
      "Transcribe: 100%|██████████| 995.75/995.75 [01:23<00:00, 11.92sec/s]\u001b[A\n"
     ]
    },
    {
     "name": "stdout",
     "output_type": "stream",
     "text": [
      "Saved: /home/arveloic/MASCOT/stable_ts_json/stable_ts_audio_19.json\n"
     ]
    },
    {
     "name": "stderr",
     "output_type": "stream",
     "text": [
      " 15%|█▌        | 5/33 [37:57<3:34:20, 459.29s/it]\n",
      "                                                 sec/s]\u001b[A\n",
      " 15%|█▌        | 5/33 [37:57<3:34:20, 459.29s/it]      \n",
      "Transcribe:   0%|          | 0/866.01 [00:00<?, ?sec/s]\u001b[A"
     ]
    },
    {
     "name": "stdout",
     "output_type": "stream",
     "text": [
      "Detected language: english\n"
     ]
    },
    {
     "name": "stderr",
     "output_type": "stream",
     "text": [
      "\n",
      "Transcribe:   3%|▎         | 27.6/866.01 [00:02<01:20, 10.40sec/s]\u001b[A\n",
      "Transcribe:   6%|▌         | 53.6/866.01 [00:04<01:11, 11.43sec/s]\u001b[A\n",
      "Transcribe:   9%|▉         | 81.84/866.01 [00:08<01:21,  9.57sec/s]\u001b[A\n",
      "Transcribe:  13%|█▎        | 109.44/866.01 [00:12<01:38,  7.69sec/s]\u001b[A\n",
      "Transcribe:  16%|█▌        | 139.44/866.01 [00:17<01:40,  7.23sec/s]\u001b[A\n",
      "Transcribe:  19%|█▉        | 165.88/866.01 [00:21<01:35,  7.30sec/s]\u001b[A\n",
      "Transcribe:  23%|██▎       | 195.88/866.01 [00:24<01:23,  8.04sec/s]\u001b[A\n",
      "Transcribe:  26%|██▌       | 225.88/866.01 [00:28<01:23,  7.65sec/s]\u001b[A\n",
      "Transcribe:  30%|██▉       | 255.88/866.01 [00:32<01:19,  7.68sec/s]\u001b[A\n",
      "Transcribe:  33%|███▎      | 285.88/866.01 [00:33<00:59,  9.77sec/s]\u001b[A\n",
      "Transcribe:  36%|███▋      | 315.88/866.01 [00:34<00:44, 12.36sec/s]\u001b[A\n",
      "Transcribe:  40%|███▉      | 345.88/866.01 [00:38<00:50, 10.29sec/s]\u001b[A\n",
      "Transcribe:  43%|████▎     | 375.88/866.01 [00:39<00:38, 12.61sec/s]\u001b[A\n",
      "Transcribe:  47%|████▋     | 405.88/866.01 [00:41<00:34, 13.17sec/s]\u001b[A\n",
      "Transcribe:  50%|█████     | 435.88/866.01 [00:44<00:34, 12.33sec/s]\u001b[A\n",
      "Transcribe:  50%|█████     | 435.88/866.01 [01:02<00:34, 12.33sec/s]\u001b[A\n",
      "Transcribe:  54%|█████▍    | 465.88/866.01 [01:07<01:54,  3.48sec/s]\u001b[A\n",
      "Transcribe:  57%|█████▋    | 495.88/866.01 [01:11<01:27,  4.21sec/s]\u001b[A\n",
      "Transcribe:  61%|██████    | 525.88/866.01 [01:13<01:04,  5.27sec/s]\u001b[A\n",
      "Transcribe:  64%|██████▍   | 555.88/866.01 [01:14<00:45,  6.77sec/s]\u001b[A\n",
      "Transcribe:  68%|██████▊   | 585.88/866.01 [01:15<00:31,  8.93sec/s]\u001b[A\n",
      "Transcribe:  69%|██████▉   | 599.92/866.01 [01:16<00:27,  9.77sec/s]\u001b[A\n",
      "Transcribe:  73%|███████▎  | 629.92/866.01 [01:18<00:22, 10.50sec/s]\u001b[A\n",
      "Transcribe:  76%|███████▌  | 659.92/866.01 [01:21<00:19, 10.76sec/s]\u001b[A\n",
      "Transcribe:  76%|███████▌  | 659.92/866.01 [01:32<00:19, 10.76sec/s]\u001b[A\n",
      "Transcribe:  80%|███████▉  | 689.92/866.01 [01:36<00:38,  4.59sec/s]\u001b[A\n",
      "Transcribe:  81%|████████▏ | 704.92/866.01 [01:37<00:31,  5.17sec/s]\u001b[A\n",
      "Transcribe:  84%|████████▍ | 729.92/866.01 [01:39<00:21,  6.47sec/s]\u001b[A\n",
      "Transcribe:  88%|████████▊ | 759.92/866.01 [01:40<00:12,  8.71sec/s]\u001b[A\n",
      "Transcribe:  91%|█████████ | 787.92/866.01 [01:44<00:09,  8.34sec/s]\u001b[A\n",
      "Transcribe:  94%|█████████▍| 817.92/866.01 [01:45<00:04,  9.84sec/s]\u001b[A\n",
      "Transcribe:  98%|█████████▊| 845.92/866.01 [01:50<00:02,  8.31sec/s]\u001b[A\n",
      "Transcribe: 100%|██████████| 866.01/866.01 [01:51<00:00,  7.78sec/s]\u001b[A\n"
     ]
    },
    {
     "name": "stdout",
     "output_type": "stream",
     "text": [
      "Saved: /home/arveloic/MASCOT/stable_ts_json/stable_ts_audio_20.json\n"
     ]
    },
    {
     "name": "stderr",
     "output_type": "stream",
     "text": [
      "\n",
      "                                                 ec/s]\u001b[A\n",
      " 15%|█▌        | 5/33 [39:49<3:34:20, 459.29s/it]     \n",
      "Transcribe:   0%|          | 0/813.9 [00:00<?, ?sec/s]\u001b[A"
     ]
    },
    {
     "name": "stdout",
     "output_type": "stream",
     "text": [
      "Detected language: english\n"
     ]
    },
    {
     "name": "stderr",
     "output_type": "stream",
     "text": [
      "\n",
      "Transcribe:   3%|▎         | 25.0/813.9 [00:02<01:13, 10.70sec/s]\u001b[A\n",
      "Transcribe:   7%|▋         | 55.0/813.9 [00:06<01:26,  8.75sec/s]\u001b[A\n",
      "Transcribe:  10%|▉         | 78.24/813.9 [00:08<01:17,  9.48sec/s]\u001b[A\n",
      "Transcribe:  13%|█▎        | 108.24/813.9 [00:12<01:21,  8.68sec/s]\u001b[A\n",
      "Transcribe:  17%|█▋        | 138.24/813.9 [00:15<01:14,  9.08sec/s]\u001b[A\n",
      "Transcribe:  21%|██        | 168.24/813.9 [00:17<01:05,  9.88sec/s]\u001b[A\n",
      "Transcribe:  24%|██▍       | 198.24/813.9 [00:20<01:02,  9.92sec/s]\u001b[A\n",
      "Transcribe:  28%|██▊       | 228.24/813.9 [00:24<01:01,  9.46sec/s]\u001b[A\n",
      "Transcribe:  32%|███▏      | 258.24/813.9 [00:26<00:52, 10.65sec/s]\u001b[A\n",
      "Transcribe:  35%|███▌      | 288.24/813.9 [00:29<00:51, 10.15sec/s]\u001b[A\n",
      "Transcribe:  39%|███▉      | 318.24/813.9 [00:32<00:47, 10.40sec/s]\u001b[A\n",
      "Transcribe:  43%|████▎     | 348.24/813.9 [00:50<01:59,  3.89sec/s]\u001b[A\n",
      "Transcribe:  46%|████▋     | 378.24/813.9 [00:53<01:30,  4.81sec/s]\u001b[A\n",
      "Transcribe:  50%|█████     | 408.24/813.9 [00:57<01:14,  5.42sec/s]\u001b[A\n",
      "Transcribe:  54%|█████▍    | 438.24/813.9 [01:00<01:00,  6.20sec/s]\u001b[A\n",
      "Transcribe:  58%|█████▊    | 468.24/813.9 [01:11<01:16,  4.51sec/s]\u001b[A\n",
      "Transcribe:  61%|██████    | 498.24/813.9 [01:14<00:58,  5.43sec/s]\u001b[A\n",
      "Transcribe:  65%|██████▍   | 528.24/813.9 [01:49<02:17,  2.08sec/s]\u001b[A\n",
      "Transcribe:  66%|██████▋   | 541.2/813.9 [01:51<01:56,  2.34sec/s] \u001b[A\n",
      "Transcribe:  70%|██████▉   | 568.44/813.9 [02:09<02:03,  1.99sec/s]\u001b[A\n",
      "Transcribe:  73%|███████▎  | 590.38/813.9 [02:11<01:26,  2.57sec/s]\u001b[A\n",
      "Transcribe:  76%|███████▌  | 620.38/813.9 [02:13<00:54,  3.53sec/s]\u001b[A\n",
      "Transcribe:  80%|███████▉  | 650.38/813.9 [02:16<00:36,  4.49sec/s]\u001b[A\n",
      "Transcribe:  83%|████████▎ | 678.62/813.9 [02:18<00:23,  5.86sec/s]\u001b[A\n",
      "Transcribe:  87%|████████▋ | 708.62/813.9 [02:19<00:13,  7.81sec/s]\u001b[A\n",
      "Transcribe:  91%|█████████ | 738.62/813.9 [02:22<00:08,  8.41sec/s]\u001b[A\n",
      "Transcribe:  94%|█████████▍| 768.62/813.9 [02:25<00:05,  8.65sec/s]\u001b[A\n",
      "Transcribe:  98%|█████████▊| 798.62/813.9 [02:28<00:01,  9.14sec/s]\u001b[A\n",
      "Transcribe: 100%|██████████| 813.9/813.9 [02:29<00:00,  5.43sec/s] \u001b[A\n"
     ]
    },
    {
     "name": "stdout",
     "output_type": "stream",
     "text": [
      "Saved: /home/arveloic/MASCOT/stable_ts_json/stable_ts_audio_21.json\n"
     ]
    },
    {
     "name": "stderr",
     "output_type": "stream",
     "text": [
      "\n",
      "                                                 sec/s]\u001b[A\n",
      " 15%|█▌        | 5/33 [42:19<3:34:20, 459.29s/it]      \n",
      "Transcribe:   0%|          | 0/913.87 [00:00<?, ?sec/s]\u001b[A"
     ]
    },
    {
     "name": "stdout",
     "output_type": "stream",
     "text": [
      "Detected language: english\n"
     ]
    },
    {
     "name": "stderr",
     "output_type": "stream",
     "text": [
      "\n",
      "Transcribe:   3%|▎         | 28.44/913.87 [00:04<02:11,  6.73sec/s]\u001b[A\n",
      "Transcribe:   6%|▋         | 58.44/913.87 [00:08<02:09,  6.63sec/s]\u001b[A\n",
      "Transcribe:  10%|▉         | 87.44/913.87 [00:12<01:58,  6.98sec/s]\u001b[A\n",
      "Transcribe:  13%|█▎        | 117.44/913.87 [00:15<01:41,  7.88sec/s]\u001b[A\n",
      "Transcribe:  16%|█▌        | 147.44/913.87 [00:19<01:40,  7.59sec/s]\u001b[A\n",
      "Transcribe:  19%|█▉        | 177.44/913.87 [00:22<01:28,  8.28sec/s]\u001b[A\n",
      "Transcribe:  23%|██▎       | 207.44/913.87 [00:27<01:29,  7.89sec/s]\u001b[A\n",
      "Transcribe:  26%|██▌       | 237.44/913.87 [00:30<01:24,  8.03sec/s]\u001b[A\n",
      "Transcribe:  29%|██▉       | 267.44/913.87 [00:34<01:17,  8.31sec/s]\u001b[A\n",
      "Transcribe:  33%|███▎      | 297.44/913.87 [00:37<01:14,  8.27sec/s]\u001b[A\n",
      "Transcribe:  36%|███▌      | 327.44/913.87 [00:41<01:14,  7.90sec/s]\u001b[A\n",
      "Transcribe:  39%|███▉      | 357.44/913.87 [00:45<01:11,  7.78sec/s]\u001b[A\n",
      "Transcribe:  42%|████▏     | 387.44/913.87 [00:49<01:05,  8.00sec/s]\u001b[A\n",
      "Transcribe:  46%|████▌     | 417.44/913.87 [00:53<01:03,  7.81sec/s]\u001b[A\n",
      "Transcribe:  49%|████▉     | 447.44/913.87 [00:56<00:54,  8.55sec/s]\u001b[A\n",
      "Transcribe:  52%|█████▏    | 477.44/913.87 [01:00<00:52,  8.24sec/s]\u001b[A\n",
      "Transcribe:  56%|█████▌    | 507.44/913.87 [01:04<00:50,  8.06sec/s]\u001b[A\n",
      "Transcribe:  59%|█████▉    | 537.44/913.87 [01:07<00:47,  7.98sec/s]\u001b[A\n",
      "Transcribe:  62%|██████▏   | 567.44/913.87 [01:10<00:39,  8.68sec/s]\u001b[A\n",
      "Transcribe:  65%|██████▌   | 597.44/913.87 [01:15<00:41,  7.68sec/s]\u001b[A\n",
      "Transcribe:  69%|██████▊   | 627.44/913.87 [01:19<00:37,  7.62sec/s]\u001b[A\n",
      "Transcribe:  72%|███████▏  | 657.44/913.87 [01:22<00:31,  8.21sec/s]\u001b[A\n",
      "Transcribe:  75%|███████▌  | 687.44/913.87 [01:26<00:27,  8.31sec/s]\u001b[A\n",
      "Transcribe:  79%|███████▊  | 717.44/913.87 [01:30<00:24,  7.90sec/s]\u001b[A\n",
      "Transcribe:  82%|████████▏ | 747.44/913.87 [01:32<00:18,  8.95sec/s]\u001b[A\n",
      "Transcribe:  85%|████████▌ | 777.44/913.87 [01:38<00:19,  7.16sec/s]\u001b[A\n",
      "Transcribe:  88%|████████▊ | 807.44/913.87 [01:44<00:16,  6.45sec/s]\u001b[A\n",
      "Transcribe:  92%|█████████▏| 837.44/913.87 [01:50<00:12,  6.08sec/s]\u001b[A\n",
      "Transcribe:  95%|█████████▍| 867.44/913.87 [01:55<00:07,  6.05sec/s]\u001b[A\n",
      "Transcribe:  98%|█████████▊| 897.44/913.87 [01:58<00:02,  6.51sec/s]\u001b[A\n",
      "Transcribe: 100%|█████████▉| 913.72/913.87 [02:01<00:00,  7.49sec/s]\u001b[A\n"
     ]
    },
    {
     "name": "stdout",
     "output_type": "stream",
     "text": [
      "Saved: /home/arveloic/MASCOT/stable_ts_json/stable_ts_audio_22.json\n"
     ]
    },
    {
     "name": "stderr",
     "output_type": "stream",
     "text": [
      "\n",
      "                                                 sec/s]\u001b[A\n",
      " 15%|█▌        | 5/33 [44:21<3:34:20, 459.29s/it]      \n",
      "Transcribe:   0%|          | 0/952.25 [00:00<?, ?sec/s]\u001b[A"
     ]
    },
    {
     "name": "stdout",
     "output_type": "stream",
     "text": [
      "Detected language: english\n"
     ]
    },
    {
     "name": "stderr",
     "output_type": "stream",
     "text": [
      "\n",
      "Transcribe:   2%|▏         | 17.0/952.25 [00:02<02:06,  7.41sec/s]\u001b[A\n",
      "Transcribe:   5%|▍         | 47.0/952.25 [00:06<02:03,  7.34sec/s]\u001b[A\n",
      "Transcribe:   8%|▊         | 77.0/952.25 [00:11<02:17,  6.37sec/s]\u001b[A\n",
      "Transcribe:  11%|█         | 107.0/952.25 [00:15<02:03,  6.87sec/s]\u001b[A\n",
      "Transcribe:  14%|█▍        | 137.0/952.25 [00:17<01:33,  8.70sec/s]\u001b[A\n",
      "Transcribe:  18%|█▊        | 167.0/952.25 [00:21<01:31,  8.57sec/s]\u001b[A\n",
      "Transcribe:  21%|██        | 197.0/952.25 [00:25<01:36,  7.82sec/s]\u001b[A\n",
      "Transcribe:  24%|██▍       | 227.0/952.25 [00:29<01:35,  7.60sec/s]\u001b[A\n",
      "Transcribe:  27%|██▋       | 257.0/952.25 [00:34<01:37,  7.12sec/s]\u001b[A\n",
      "Transcribe:  30%|███       | 287.0/952.25 [00:37<01:27,  7.63sec/s]\u001b[A\n",
      "Transcribe:  33%|███▎      | 317.0/952.25 [00:40<01:17,  8.18sec/s]\u001b[A\n",
      "Transcribe:  36%|███▋      | 347.0/952.25 [00:44<01:10,  8.54sec/s]\u001b[A\n",
      "Transcribe:  40%|███▉      | 377.0/952.25 [00:57<02:04,  4.63sec/s]\u001b[A\n",
      "Transcribe:  43%|████▎     | 407.0/952.25 [01:00<01:37,  5.59sec/s]\u001b[A\n",
      "Transcribe:  46%|████▌     | 437.0/952.25 [01:03<01:23,  6.20sec/s]\u001b[A\n",
      "Transcribe:  49%|████▉     | 467.0/952.25 [01:06<01:06,  7.34sec/s]\u001b[A\n",
      "Transcribe:  52%|█████▏    | 497.0/952.25 [01:17<01:35,  4.78sec/s]\u001b[A\n",
      "Transcribe:  55%|█████▌    | 527.0/952.25 [01:19<01:12,  5.89sec/s]\u001b[A\n",
      "Transcribe:  58%|█████▊    | 557.0/952.25 [01:21<00:53,  7.35sec/s]\u001b[A\n",
      "Transcribe:  62%|██████▏   | 587.0/952.25 [01:24<00:45,  7.98sec/s]\u001b[A\n",
      "Transcribe:  62%|██████▏   | 587.0/952.25 [01:38<00:45,  7.98sec/s]\u001b[A\n",
      "Transcribe:  65%|██████▍   | 617.0/952.25 [01:44<01:34,  3.55sec/s]\u001b[A\n",
      "Transcribe:  68%|██████▊   | 647.0/952.25 [01:47<01:11,  4.26sec/s]\u001b[A\n",
      "Transcribe:  71%|███████   | 677.0/952.25 [01:50<00:52,  5.22sec/s]\u001b[A\n",
      "Transcribe:  74%|███████▍  | 707.0/952.25 [01:53<00:40,  6.11sec/s]\u001b[A\n",
      "Transcribe:  77%|███████▋  | 737.0/952.25 [01:56<00:30,  7.01sec/s]\u001b[A\n",
      "Transcribe:  81%|████████  | 767.0/952.25 [01:59<00:24,  7.63sec/s]\u001b[A\n",
      "Transcribe:  84%|████████▎ | 797.0/952.25 [02:01<00:17,  9.03sec/s]\u001b[A\n",
      "Transcribe:  87%|████████▋ | 827.0/952.25 [02:04<00:13,  9.49sec/s]\u001b[A\n",
      "Transcribe:  90%|████████▉ | 857.0/952.25 [02:06<00:09, 10.12sec/s]\u001b[A\n",
      "Transcribe:  93%|█████████▎| 887.0/952.25 [02:07<00:05, 12.19sec/s]\u001b[A\n",
      "Transcribe:  96%|█████████▋| 917.0/952.25 [02:10<00:03, 11.35sec/s]\u001b[A\n",
      "Transcribe:  99%|█████████▉| 947.0/952.25 [02:12<00:00, 12.78sec/s]\u001b[A\n",
      "Transcribe: 100%|██████████| 952.25/952.25 [02:13<00:00,  7.16sec/s]\u001b[A\n"
     ]
    },
    {
     "name": "stdout",
     "output_type": "stream",
     "text": [
      "Saved: /home/arveloic/MASCOT/stable_ts_json/stable_ts_audio_23.json\n"
     ]
    },
    {
     "name": "stderr",
     "output_type": "stream",
     "text": [
      " 18%|█▊        | 6/33 [46:35<3:35:36, 479.11s/it]\n",
      "                                                 sec/s]\u001b[A\n",
      " 18%|█▊        | 6/33 [46:36<3:35:36, 479.11s/it]      \n",
      "Transcribe:   0%|          | 0/758.28 [00:00<?, ?sec/s]\u001b[A"
     ]
    },
    {
     "name": "stdout",
     "output_type": "stream",
     "text": [
      "Detected language: english\n"
     ]
    },
    {
     "name": "stderr",
     "output_type": "stream",
     "text": [
      "\n",
      "Transcribe:   4%|▍         | 30.0/758.28 [00:03<01:25,  8.49sec/s]\u001b[A\n",
      "Transcribe:   8%|▊         | 60.0/758.28 [00:08<01:38,  7.06sec/s]\u001b[A\n",
      "Transcribe:  12%|█▏        | 90.0/758.28 [00:12<01:39,  6.74sec/s]\u001b[A\n",
      "Transcribe:  16%|█▌        | 120.0/758.28 [00:32<03:40,  2.89sec/s]\u001b[A\n",
      "Transcribe:  20%|█▉        | 150.0/758.28 [00:36<02:41,  3.76sec/s]\u001b[A\n",
      "Transcribe:  24%|██▎       | 180.0/758.28 [00:39<02:03,  4.67sec/s]\u001b[A\n",
      "Transcribe:  28%|██▊       | 210.0/758.28 [00:44<01:50,  4.97sec/s]\u001b[A\n",
      "Transcribe:  32%|███▏      | 240.0/758.28 [00:49<01:38,  5.25sec/s]\u001b[A\n",
      "Transcribe:  36%|███▌      | 270.0/758.28 [00:54<01:26,  5.65sec/s]\u001b[A\n",
      "Transcribe:  40%|███▉      | 300.0/758.28 [00:59<01:19,  5.73sec/s]\u001b[A\n",
      "Transcribe:  43%|████▎     | 328.5/758.28 [01:01<01:04,  6.69sec/s]\u001b[A\n",
      "Transcribe:  47%|████▋     | 358.34/758.28 [01:06<00:58,  6.83sec/s]\u001b[A\n",
      "Transcribe:  51%|█████     | 386.94/758.28 [01:08<00:49,  7.53sec/s]\u001b[A\n",
      "Transcribe:  55%|█████▍    | 416.94/758.28 [01:15<00:53,  6.35sec/s]\u001b[A\n",
      "Transcribe:  59%|█████▉    | 446.94/758.28 [01:40<01:53,  2.74sec/s]\u001b[A\n",
      "Transcribe:  63%|██████▎   | 476.94/758.28 [01:45<01:25,  3.31sec/s]\u001b[A\n",
      "Transcribe:  67%|██████▋   | 506.94/758.28 [01:48<01:02,  4.03sec/s]\u001b[A\n",
      "Transcribe:  70%|███████   | 533.44/758.28 [01:56<00:58,  3.84sec/s]\u001b[A\n",
      "Transcribe:  74%|███████▍  | 563.44/758.28 [02:02<00:47,  4.11sec/s]\u001b[A\n",
      "Transcribe:  78%|███████▊  | 593.44/758.28 [02:10<00:40,  4.10sec/s]\u001b[A\n",
      "Transcribe:  82%|████████▏ | 623.34/758.28 [02:53<01:22,  1.64sec/s]\u001b[A\n",
      "Transcribe:  86%|████████▌ | 650.28/758.28 [02:56<00:50,  2.14sec/s]\u001b[A\n",
      "Transcribe:  90%|████████▉ | 680.28/758.28 [02:58<00:26,  2.90sec/s]\u001b[A\n",
      "Transcribe:  94%|█████████▎| 710.28/758.28 [03:02<00:13,  3.59sec/s]\u001b[A\n",
      "Transcribe:  97%|█████████▋| 738.84/758.28 [03:38<00:11,  1.76sec/s]\u001b[A\n",
      "Transcribe: 100%|██████████| 758.28/758.28 [03:41<00:00,  3.43sec/s]\u001b[A\n"
     ]
    },
    {
     "name": "stdout",
     "output_type": "stream",
     "text": [
      "Saved: /home/arveloic/MASCOT/stable_ts_json/stable_ts_audio_24.json\n"
     ]
    },
    {
     "name": "stderr",
     "output_type": "stream",
     "text": [
      "\n",
      "                                                 sec/s]\u001b[A\n",
      " 18%|█▊        | 6/33 [50:17<3:35:36, 479.11s/it]      \n",
      "Transcribe:   0%|          | 0/532.31 [00:00<?, ?sec/s]\u001b[A"
     ]
    },
    {
     "name": "stdout",
     "output_type": "stream",
     "text": [
      "Detected language: english\n"
     ]
    },
    {
     "name": "stderr",
     "output_type": "stream",
     "text": [
      "\n",
      "Transcribe:   5%|▌         | 28.16/532.31 [00:04<01:23,  6.04sec/s]\u001b[A\n",
      "Transcribe:  10%|█         | 54.58/532.31 [00:07<01:01,  7.77sec/s]\u001b[A\n",
      "Transcribe:  15%|█▍        | 78.84/532.31 [00:09<00:53,  8.50sec/s]\u001b[A\n",
      "Transcribe:  20%|██        | 108.84/532.31 [00:13<00:49,  8.56sec/s]\u001b[A\n",
      "Transcribe:  26%|██▌       | 138.84/532.31 [00:16<00:42,  9.25sec/s]\u001b[A\n",
      "Transcribe:  32%|███▏      | 168.84/532.31 [00:19<00:38,  9.36sec/s]\u001b[A\n",
      "Transcribe:  37%|███▋      | 198.84/532.31 [00:23<00:39,  8.39sec/s]\u001b[A\n",
      "Transcribe:  43%|████▎     | 228.84/532.31 [00:26<00:34,  8.83sec/s]\u001b[A\n",
      "Transcribe:  49%|████▊     | 258.84/532.31 [00:30<00:32,  8.54sec/s]\u001b[A\n",
      "Transcribe:  54%|█████▍    | 288.84/532.31 [00:33<00:26,  9.13sec/s]\u001b[A\n",
      "Transcribe:  60%|█████▉    | 318.84/532.31 [00:35<00:21, 10.15sec/s]\u001b[A\n",
      "Transcribe:  66%|██████▌   | 348.84/532.31 [00:39<00:20,  9.04sec/s]\u001b[A\n",
      "Transcribe:  71%|███████   | 378.84/532.31 [00:43<00:17,  8.74sec/s]\u001b[A\n",
      "Transcribe:  77%|███████▋  | 408.84/532.31 [00:46<00:14,  8.57sec/s]\u001b[A\n",
      "Transcribe:  82%|████████▏ | 438.84/532.31 [00:50<00:10,  8.55sec/s]\u001b[A\n",
      "Transcribe:  88%|████████▊ | 467.78/532.31 [00:53<00:07,  8.71sec/s]\u001b[A\n",
      "Transcribe:  94%|█████████▎| 497.78/532.31 [00:55<00:03,  9.63sec/s]\u001b[A\n",
      "Transcribe:  99%|█████████▉| 527.78/532.31 [00:59<00:00,  9.26sec/s]\u001b[A\n",
      "Transcribe: 100%|██████████| 532.31/532.31 [01:11<00:00,  7.46sec/s]\u001b[A\n"
     ]
    },
    {
     "name": "stdout",
     "output_type": "stream",
     "text": [
      "Saved: /home/arveloic/MASCOT/stable_ts_json/stable_ts_audio_25.json\n"
     ]
    },
    {
     "name": "stderr",
     "output_type": "stream",
     "text": [
      "\n",
      "                                                 sec/s]\u001b[A\n",
      " 18%|█▊        | 6/33 [51:29<3:35:36, 479.11s/it]      \n",
      "Transcribe:   0%|          | 0/341.52 [00:00<?, ?sec/s]\u001b[A"
     ]
    },
    {
     "name": "stdout",
     "output_type": "stream",
     "text": [
      "Detected language: english\n"
     ]
    },
    {
     "name": "stderr",
     "output_type": "stream",
     "text": [
      "\n",
      "Transcribe:   9%|▉         | 30.0/341.52 [00:02<00:27, 11.45sec/s]\u001b[A\n",
      "Transcribe:  17%|█▋        | 56.68/341.52 [00:06<00:34,  8.21sec/s]\u001b[A\n",
      "Transcribe:  22%|██▏       | 76.6/341.52 [00:09<00:34,  7.59sec/s] \u001b[A\n",
      "Transcribe:  29%|██▊       | 97.72/341.52 [00:11<00:30,  8.00sec/s]\u001b[A\n",
      "Transcribe:  36%|███▌      | 122.9/341.52 [00:13<00:23,  9.44sec/s]\u001b[A\n",
      "Transcribe:  42%|████▏     | 144.82/341.52 [00:15<00:19, 10.09sec/s]\u001b[A\n",
      "Transcribe:  51%|█████     | 174.82/341.52 [00:17<00:13, 12.68sec/s]\u001b[A\n",
      "Transcribe:  60%|█████▉    | 204.82/341.52 [00:20<00:11, 11.50sec/s]\u001b[A\n",
      "Transcribe:  69%|██████▉   | 234.82/341.52 [00:22<00:08, 12.36sec/s]\u001b[A\n",
      "Transcribe:  78%|███████▊  | 264.82/341.52 [00:25<00:06, 11.65sec/s]\u001b[A\n",
      "Transcribe:  86%|████████▋ | 294.82/341.52 [00:27<00:03, 11.84sec/s]\u001b[A\n",
      "Transcribe:  95%|█████████▌| 324.82/341.52 [00:30<00:01, 11.30sec/s]\u001b[A\n",
      "Transcribe: 100%|█████████▉| 341.48/341.52 [00:32<00:00, 10.53sec/s]\u001b[A\n"
     ]
    },
    {
     "name": "stdout",
     "output_type": "stream",
     "text": [
      "Saved: /home/arveloic/MASCOT/stable_ts_json/stable_ts_audio_26.json\n"
     ]
    },
    {
     "name": "stderr",
     "output_type": "stream",
     "text": [
      "\n",
      "                                                 sec/s]\u001b[A\n",
      " 18%|█▊        | 6/33 [52:02<3:35:36, 479.11s/it]      \n",
      "Transcribe:   0%|          | 0/593.73 [00:00<?, ?sec/s]\u001b[A"
     ]
    },
    {
     "name": "stdout",
     "output_type": "stream",
     "text": [
      "Detected language: english\n"
     ]
    },
    {
     "name": "stderr",
     "output_type": "stream",
     "text": [
      "\n",
      "Transcribe:   4%|▎         | 22.18/593.73 [00:02<01:01,  9.36sec/s]\u001b[A\n",
      "Transcribe:   8%|▊         | 48.18/593.73 [00:04<00:56,  9.69sec/s]\u001b[A\n",
      "Transcribe:  13%|█▎        | 78.18/593.73 [00:08<00:54,  9.46sec/s]\u001b[A\n",
      "Transcribe:  18%|█▊        | 108.18/593.73 [00:11<00:54,  8.89sec/s]\u001b[A\n",
      "Transcribe:  23%|██▎       | 138.18/593.73 [00:15<00:51,  8.89sec/s]\u001b[A\n",
      "Transcribe:  28%|██▊       | 168.18/593.73 [00:18<00:48,  8.74sec/s]\u001b[A\n",
      "Transcribe:  33%|███▎      | 198.18/593.73 [00:53<03:02,  2.17sec/s]\u001b[A\n",
      "Transcribe:  38%|███▊      | 227.78/593.73 [00:56<02:08,  2.86sec/s]\u001b[A\n",
      "Transcribe:  43%|████▎     | 257.78/593.73 [00:59<01:29,  3.74sec/s]\u001b[A\n",
      "Transcribe:  48%|████▊     | 287.78/593.73 [01:02<01:05,  4.64sec/s]\u001b[A\n",
      "Transcribe:  54%|█████▎    | 317.78/593.73 [01:14<01:14,  3.72sec/s]\u001b[A\n",
      "Transcribe:  58%|█████▊    | 346.78/593.73 [01:25<01:14,  3.31sec/s]\u001b[A\n",
      "Transcribe:  63%|██████▎   | 376.78/593.73 [01:29<00:54,  4.01sec/s]\u001b[A\n",
      "Transcribe:  68%|██████▊   | 405.78/593.73 [01:55<01:24,  2.23sec/s]\u001b[A\n",
      "Transcribe:  73%|███████▎  | 435.78/593.73 [01:59<00:55,  2.83sec/s]\u001b[A\n",
      "Transcribe:  78%|███████▊  | 465.78/593.73 [02:04<00:37,  3.43sec/s]\u001b[A\n",
      "Transcribe:  84%|████████▎ | 495.78/593.73 [02:10<00:25,  3.78sec/s]\u001b[A\n",
      "Transcribe:  89%|████████▊ | 525.78/593.73 [02:15<00:16,  4.25sec/s]\u001b[A\n",
      "Transcribe:  94%|█████████▎| 555.78/593.73 [02:56<00:21,  1.74sec/s]\u001b[A\n",
      "Transcribe:  99%|█████████▊| 585.78/593.73 [03:00<00:03,  2.28sec/s]\u001b[A\n",
      "Transcribe: 100%|██████████| 593.73/593.73 [03:00<00:00,  3.28sec/s]\u001b[A\n"
     ]
    },
    {
     "name": "stdout",
     "output_type": "stream",
     "text": [
      "Saved: /home/arveloic/MASCOT/stable_ts_json/stable_ts_audio_27.json\n"
     ]
    },
    {
     "name": "stderr",
     "output_type": "stream",
     "text": [
      " 21%|██        | 7/33 [55:03<3:31:43, 488.59s/it]\n",
      "                                                 sec/s]\u001b[A\n",
      " 21%|██        | 7/33 [55:03<3:31:43, 488.59s/it]      \n",
      "Transcribe:   0%|          | 0/163.32 [00:00<?, ?sec/s]\u001b[A"
     ]
    },
    {
     "name": "stdout",
     "output_type": "stream",
     "text": [
      "Detected language: english\n"
     ]
    },
    {
     "name": "stderr",
     "output_type": "stream",
     "text": [
      "\n",
      "Transcribe:  17%|█▋        | 28.0/163.32 [00:03<00:19,  7.06sec/s]\u001b[A\n",
      "Transcribe:  28%|██▊       | 45.66/163.32 [00:06<00:16,  7.24sec/s]\u001b[A\n",
      "Transcribe:  43%|████▎     | 70.66/163.32 [00:10<00:13,  6.79sec/s]\u001b[A\n",
      "Transcribe:  62%|██████▏   | 100.66/163.32 [00:13<00:08,  7.51sec/s]\u001b[A\n",
      "Transcribe:  80%|████████  | 130.66/163.32 [00:16<00:03,  8.83sec/s]\u001b[A\n",
      "Transcribe:  98%|█████████▊| 160.66/163.32 [00:20<00:00,  8.21sec/s]\u001b[A\n",
      "Transcribe: 100%|█████████▉| 163.19/163.32 [00:20<00:00,  7.86sec/s]\u001b[A\n"
     ]
    },
    {
     "name": "stdout",
     "output_type": "stream",
     "text": [
      "Saved: /home/arveloic/MASCOT/stable_ts_json/stable_ts_audio_28.json\n"
     ]
    },
    {
     "name": "stderr",
     "output_type": "stream",
     "text": [
      "\n",
      "                                                 sec/s]\u001b[A\n",
      " 21%|██        | 7/33 [55:24<3:31:43, 488.59s/it]      \n",
      "Transcribe:   0%|          | 0/1090.6 [00:00<?, ?sec/s]\u001b[A"
     ]
    },
    {
     "name": "stdout",
     "output_type": "stream",
     "text": [
      "Detected language: english\n"
     ]
    },
    {
     "name": "stderr",
     "output_type": "stream",
     "text": [
      "\n",
      "Transcribe:   3%|▎         | 30.0/1090.6 [00:03<01:58,  8.95sec/s]\u001b[A\n",
      "Transcribe:   4%|▍         | 49.0/1090.6 [00:04<01:29, 11.66sec/s]\u001b[A\n",
      "Transcribe:   7%|▋         | 79.0/1090.6 [00:07<01:36, 10.54sec/s]\u001b[A\n",
      "Transcribe:  10%|▉         | 108.0/1090.6 [00:12<02:07,  7.69sec/s]\u001b[A\n",
      "Transcribe:  13%|█▎        | 137.0/1090.6 [00:16<02:06,  7.53sec/s]\u001b[A\n",
      "Transcribe:  15%|█▌        | 166.0/1090.6 [00:21<02:14,  6.88sec/s]\u001b[A\n",
      "Transcribe:  18%|█▊        | 195.0/1090.6 [00:25<02:08,  6.97sec/s]\u001b[A\n",
      "Transcribe:  21%|██        | 224.0/1090.6 [00:30<02:09,  6.67sec/s]\u001b[A\n",
      "Transcribe:  23%|██▎       | 254.0/1090.6 [00:37<02:25,  5.74sec/s]\u001b[A\n",
      "Transcribe:  26%|██▌       | 283.0/1090.6 [01:05<05:42,  2.36sec/s]\u001b[A\n",
      "Transcribe:  29%|██▊       | 311.7/1090.6 [01:10<04:27,  2.91sec/s]\u001b[A\n",
      "Transcribe:  31%|███▏      | 341.7/1090.6 [01:15<03:38,  3.43sec/s]\u001b[A\n",
      "Transcribe:  34%|███▍      | 371.7/1090.6 [01:35<04:51,  2.47sec/s]\u001b[A\n",
      "Transcribe:  37%|███▋      | 400.62/1090.6 [01:40<03:51,  2.97sec/s]\u001b[A\n",
      "Transcribe:  39%|███▉      | 430.62/1090.6 [01:46<03:14,  3.39sec/s]\u001b[A\n",
      "Transcribe:  42%|████▏     | 460.62/1090.6 [01:51<02:39,  3.95sec/s]\u001b[A\n",
      "Transcribe:  45%|████▍     | 490.62/1090.6 [01:56<02:17,  4.37sec/s]\u001b[A\n",
      "Transcribe:  48%|████▊     | 520.62/1090.6 [01:59<01:48,  5.26sec/s]\u001b[A\n",
      "Transcribe:  50%|█████     | 550.46/1090.6 [02:04<01:38,  5.46sec/s]\u001b[A\n",
      "Transcribe:  53%|█████▎    | 579.94/1090.6 [02:08<01:24,  6.05sec/s]\u001b[A\n",
      "Transcribe:  56%|█████▌    | 609.94/1090.6 [02:13<01:23,  5.72sec/s]\u001b[A\n",
      "Transcribe:  59%|█████▊    | 639.94/1090.6 [02:19<01:20,  5.58sec/s]\u001b[A\n",
      "Transcribe:  61%|██████▏   | 669.94/1090.6 [02:23<01:10,  5.94sec/s]\u001b[A\n",
      "Transcribe:  64%|██████▍   | 699.94/1090.6 [02:27<00:59,  6.58sec/s]\u001b[A\n",
      "Transcribe:  67%|██████▋   | 729.94/1090.6 [02:30<00:49,  7.30sec/s]\u001b[A\n",
      "Transcribe:  70%|██████▉   | 759.94/1090.6 [02:39<01:01,  5.37sec/s]\u001b[A\n",
      "Transcribe:  72%|███████▏  | 788.04/1090.6 [02:42<00:50,  6.05sec/s]\u001b[A\n",
      "Transcribe:  75%|███████▌  | 818.04/1090.6 [02:47<00:44,  6.15sec/s]\u001b[A\n",
      "Transcribe:  78%|███████▊  | 847.82/1090.6 [02:52<00:39,  6.19sec/s]\u001b[A\n",
      "Transcribe:  80%|████████  | 877.82/1090.6 [02:57<00:35,  6.01sec/s]\u001b[A\n",
      "Transcribe:  83%|████████▎ | 906.82/1090.6 [03:00<00:28,  6.51sec/s]\u001b[A\n",
      "Transcribe:  85%|████████▌ | 931.82/1090.6 [03:31<01:10,  2.25sec/s]\u001b[A\n",
      "Transcribe:  88%|████████▊ | 961.82/1090.6 [03:34<00:42,  3.02sec/s]\u001b[A\n",
      "Transcribe:  91%|█████████ | 991.82/1090.6 [03:38<00:26,  3.67sec/s]\u001b[A\n",
      "Transcribe:  94%|█████████▎| 1021.82/1090.6 [03:43<00:16,  4.23sec/s]\u001b[A\n",
      "Transcribe:  96%|█████████▋| 1049.82/1090.6 [03:48<00:08,  4.56sec/s]\u001b[A\n",
      "Transcribe:  99%|█████████▉| 1079.82/1090.6 [03:53<00:02,  4.98sec/s]\u001b[A\n",
      "Transcribe: 100%|██████████| 1090.6/1090.6 [03:54<00:00,  4.64sec/s] \u001b[A\n"
     ]
    },
    {
     "name": "stdout",
     "output_type": "stream",
     "text": [
      "Saved: /home/arveloic/MASCOT/stable_ts_json/stable_ts_audio_29.json\n"
     ]
    },
    {
     "name": "stderr",
     "output_type": "stream",
     "text": [
      "\n",
      "                                                 sec/s]\u001b[A\n",
      " 21%|██        | 7/33 [59:19<3:31:43, 488.59s/it]      \n",
      "Transcribe:   0%|          | 0/385.99 [00:00<?, ?sec/s]\u001b[A"
     ]
    },
    {
     "name": "stdout",
     "output_type": "stream",
     "text": [
      "Detected language: english\n"
     ]
    },
    {
     "name": "stderr",
     "output_type": "stream",
     "text": [
      "\n",
      "Transcribe:   7%|▋         | 27.0/385.99 [00:04<00:53,  6.73sec/s]\u001b[A\n",
      "Transcribe:  12%|█▏        | 46.0/385.99 [00:06<00:48,  6.97sec/s]\u001b[A\n",
      "Transcribe:  20%|█▉        | 76.0/385.99 [00:07<00:25, 12.19sec/s]\u001b[A\n",
      "Transcribe:  27%|██▋       | 106.0/385.99 [00:09<00:22, 12.48sec/s]\u001b[A\n",
      "Transcribe:  35%|███▌      | 136.0/385.99 [00:14<00:27,  9.12sec/s]\u001b[A\n",
      "Transcribe:  43%|████▎     | 166.0/385.99 [00:18<00:26,  8.27sec/s]\u001b[A\n",
      "Transcribe:  47%|████▋     | 182.66/385.99 [00:19<00:21,  9.29sec/s]\u001b[A\n",
      "Transcribe:  55%|█████▍    | 212.0/385.99 [00:27<00:28,  6.20sec/s] \u001b[A\n",
      "Transcribe:  61%|██████▏   | 237.0/385.99 [00:30<00:21,  6.78sec/s]\u001b[A\n",
      "Transcribe:  69%|██████▊   | 265.0/385.99 [00:34<00:18,  6.69sec/s]\u001b[A\n",
      "Transcribe:  73%|███████▎  | 283.64/385.99 [00:48<00:29,  3.50sec/s]\u001b[A\n",
      "Transcribe:  81%|████████▏ | 313.64/385.99 [01:08<00:30,  2.37sec/s]\u001b[A\n",
      "Transcribe:  89%|████████▉ | 343.64/385.99 [01:10<00:13,  3.25sec/s]\u001b[A\n",
      "Transcribe:  95%|█████████▌| 368.1/385.99 [01:13<00:04,  3.89sec/s] \u001b[A\n",
      "Transcribe: 100%|█████████▉| 385.94/385.99 [01:14<00:00,  5.16sec/s]\u001b[A\n"
     ]
    },
    {
     "name": "stdout",
     "output_type": "stream",
     "text": [
      "Saved: /home/arveloic/MASCOT/stable_ts_json/stable_ts_audio_30.json\n"
     ]
    },
    {
     "name": "stderr",
     "output_type": "stream",
     "text": [
      "\n",
      "                                                 sec/s]\u001b[A\n",
      " 21%|██        | 7/33 [1:00:35<3:31:43, 488.59s/it]    \n",
      "Transcribe:   0%|          | 0/690.45 [00:00<?, ?sec/s]\u001b[A"
     ]
    },
    {
     "name": "stdout",
     "output_type": "stream",
     "text": [
      "Detected language: english\n"
     ]
    },
    {
     "name": "stderr",
     "output_type": "stream",
     "text": [
      "\n",
      "Transcribe:   4%|▍         | 29.44/690.45 [00:02<00:47, 14.06sec/s]\u001b[A\n",
      "Transcribe:   8%|▊         | 56.44/690.45 [00:04<00:52, 12.02sec/s]\u001b[A\n",
      "Transcribe:  13%|█▎        | 86.44/690.45 [00:06<00:49, 12.27sec/s]\u001b[A\n",
      "Transcribe:  17%|█▋        | 116.44/690.45 [00:09<00:49, 11.60sec/s]\u001b[A\n",
      "Transcribe:  21%|██        | 146.44/690.45 [00:19<01:35,  5.67sec/s]\u001b[A\n",
      "Transcribe:  26%|██▌       | 176.44/690.45 [00:53<04:17,  1.99sec/s]\u001b[A\n",
      "Transcribe:  30%|██▉       | 204.56/690.45 [00:56<03:03,  2.64sec/s]\u001b[A\n",
      "Transcribe:  32%|███▏      | 221.92/690.45 [00:57<02:26,  3.19sec/s]\u001b[A\n",
      "Transcribe:  36%|███▋      | 251.92/690.45 [01:00<01:41,  4.33sec/s]\u001b[A\n",
      "Transcribe:  41%|████      | 281.92/690.45 [01:03<01:16,  5.36sec/s]\u001b[A\n",
      "Transcribe:  45%|████▌     | 311.92/690.45 [01:06<00:59,  6.32sec/s]\u001b[A\n",
      "Transcribe:  50%|████▉     | 341.92/690.45 [01:09<00:49,  7.01sec/s]\u001b[A\n",
      "Transcribe:  54%|█████▍    | 371.92/690.45 [01:12<00:42,  7.52sec/s]\u001b[A\n",
      "Transcribe:  58%|█████▊    | 401.92/690.45 [01:15<00:34,  8.29sec/s]\u001b[A\n",
      "Transcribe:  61%|██████    | 420.44/690.45 [01:17<00:32,  8.35sec/s]\u001b[A\n",
      "Transcribe:  65%|██████▌   | 449.44/690.45 [01:20<00:28,  8.59sec/s]\u001b[A\n",
      "Transcribe:  69%|██████▉   | 479.44/690.45 [01:23<00:22,  9.46sec/s]\u001b[A\n",
      "Transcribe:  74%|███████▍  | 509.44/690.45 [01:25<00:16, 10.81sec/s]\u001b[A\n",
      "Transcribe:  78%|███████▊  | 539.44/690.45 [01:27<00:13, 10.99sec/s]\u001b[A\n",
      "Transcribe:  82%|████████▏ | 569.44/690.45 [01:30<00:10, 11.76sec/s]\u001b[A\n",
      "Transcribe:  87%|████████▋ | 598.92/690.45 [01:31<00:07, 12.82sec/s]\u001b[A\n",
      "Transcribe:  91%|█████████ | 628.92/690.45 [01:34<00:05, 11.98sec/s]\u001b[A\n",
      "Transcribe:  95%|█████████▌| 658.92/690.45 [01:37<00:02, 12.15sec/s]\u001b[A\n",
      "Transcribe: 100%|█████████▉| 688.92/690.45 [01:39<00:00, 13.09sec/s]\u001b[A\n",
      "Transcribe: 100%|██████████| 690.45/690.45 [01:39<00:00,  6.93sec/s]\u001b[A\n",
      " 24%|██▍       | 8/33 [1:02:14<3:16:01, 470.46s/it]"
     ]
    },
    {
     "name": "stdout",
     "output_type": "stream",
     "text": [
      "Saved: /home/arveloic/MASCOT/stable_ts_json/stable_ts_audio_31.json\n"
     ]
    },
    {
     "name": "stderr",
     "output_type": "stream",
     "text": [
      "\n",
      "                                                   c/s]\u001b[A\n",
      " 24%|██▍       | 8/33 [1:02:15<3:16:01, 470.46s/it]    \n",
      "Transcribe:   0%|          | 0/123.92 [00:00<?, ?sec/s]\u001b[A"
     ]
    },
    {
     "name": "stdout",
     "output_type": "stream",
     "text": [
      "Detected language: english\n"
     ]
    },
    {
     "name": "stderr",
     "output_type": "stream",
     "text": [
      "\n",
      "Transcribe:  23%|██▎       | 28.5/123.92 [00:03<00:11,  8.20sec/s]\u001b[A\n",
      "Transcribe:  47%|████▋     | 58.5/123.92 [00:07<00:08,  8.05sec/s]\u001b[A\n",
      "Transcribe:  71%|███████▏  | 88.5/123.92 [00:09<00:03, 10.10sec/s]\u001b[A\n",
      "Transcribe:  96%|█████████▌| 118.5/123.92 [00:12<00:00,  9.82sec/s]\u001b[A\n",
      "Transcribe: 100%|█████████▉| 123.79/123.92 [00:13<00:00,  9.20sec/s]\u001b[A\n"
     ]
    },
    {
     "name": "stdout",
     "output_type": "stream",
     "text": [
      "Saved: /home/arveloic/MASCOT/stable_ts_json/stable_ts_audio_32.json\n"
     ]
    },
    {
     "name": "stderr",
     "output_type": "stream",
     "text": [
      "\n",
      "                                                   ec/s]\u001b[A\n",
      " 24%|██▍       | 8/33 [1:02:28<3:16:01, 470.46s/it]     \n",
      "Transcribe:   0%|          | 0/1067.52 [00:00<?, ?sec/s]\u001b[A"
     ]
    },
    {
     "name": "stdout",
     "output_type": "stream",
     "text": [
      "Detected language: english\n"
     ]
    },
    {
     "name": "stderr",
     "output_type": "stream",
     "text": [
      "\n",
      "Transcribe:   3%|▎         | 30.0/1067.52 [00:03<02:08,  8.10sec/s]\u001b[A\n",
      "Transcribe:   6%|▌         | 59.38/1067.52 [00:07<02:06,  7.95sec/s]\u001b[A\n",
      "Transcribe:   8%|▊         | 86.46/1067.52 [00:10<01:57,  8.35sec/s]\u001b[A\n",
      "Transcribe:  11%|█         | 116.46/1067.52 [00:15<02:08,  7.41sec/s]\u001b[A\n",
      "Transcribe:  14%|█▎        | 146.46/1067.52 [00:19<02:02,  7.53sec/s]\u001b[A\n",
      "Transcribe:  17%|█▋        | 176.46/1067.52 [00:22<01:54,  7.80sec/s]\u001b[A\n",
      "Transcribe:  19%|█▉        | 206.46/1067.52 [00:25<01:43,  8.28sec/s]\u001b[A\n",
      "Transcribe:  22%|██▏       | 236.46/1067.52 [00:27<01:24,  9.83sec/s]\u001b[A\n",
      "Transcribe:  25%|██▍       | 265.56/1067.52 [00:30<01:24,  9.50sec/s]\u001b[A\n",
      "Transcribe:  28%|██▊       | 295.56/1067.52 [00:33<01:20,  9.62sec/s]\u001b[A\n",
      "Transcribe:  30%|███       | 325.56/1067.52 [00:37<01:21,  9.10sec/s]\u001b[A\n",
      "Transcribe:  33%|███▎      | 355.56/1067.52 [00:40<01:12,  9.81sec/s]\u001b[A\n",
      "Transcribe:  36%|███▌      | 382.32/1067.52 [00:42<01:08, 10.03sec/s]\u001b[A\n",
      "Transcribe:  39%|███▊      | 412.32/1067.52 [00:45<01:02, 10.51sec/s]\u001b[A\n",
      "Transcribe:  41%|████▏     | 442.32/1067.52 [00:48<01:02, 10.06sec/s]\u001b[A\n",
      "Transcribe:  44%|████▎     | 464.92/1067.52 [00:51<01:03,  9.48sec/s]\u001b[A\n",
      "Transcribe:  46%|████▋     | 494.92/1067.52 [00:54<01:00,  9.42sec/s]\u001b[A\n",
      "Transcribe:  49%|████▉     | 524.92/1067.52 [00:57<00:54,  9.89sec/s]\u001b[A\n",
      "Transcribe:  52%|█████▏    | 554.92/1067.52 [01:00<00:54,  9.36sec/s]\u001b[A\n",
      "Transcribe:  55%|█████▍    | 583.24/1067.52 [01:04<00:55,  8.78sec/s]\u001b[A\n",
      "Transcribe:  57%|█████▋    | 613.24/1067.52 [01:08<00:54,  8.31sec/s]\u001b[A\n",
      "Transcribe:  60%|██████    | 643.24/1067.52 [01:12<00:51,  8.30sec/s]\u001b[A\n",
      "Transcribe:  63%|██████▎   | 673.24/1067.52 [01:15<00:47,  8.26sec/s]\u001b[A\n",
      "Transcribe:  66%|██████▌   | 702.14/1067.52 [01:19<00:45,  7.99sec/s]\u001b[A\n",
      "Transcribe:  69%|██████▊   | 732.14/1067.52 [01:22<00:39,  8.41sec/s]\u001b[A\n",
      "Transcribe:  71%|███████▏  | 762.14/1067.52 [01:26<00:35,  8.57sec/s]\u001b[A\n",
      "Transcribe:  74%|███████▍  | 792.14/1067.52 [01:29<00:32,  8.47sec/s]\u001b[A\n",
      "Transcribe:  77%|███████▋  | 822.14/1067.52 [01:32<00:27,  8.89sec/s]\u001b[A\n",
      "Transcribe:  80%|███████▉  | 852.14/1067.52 [01:35<00:22,  9.67sec/s]\u001b[A\n",
      "Transcribe:  83%|████████▎ | 882.14/1067.52 [01:38<00:19,  9.35sec/s]\u001b[A\n",
      "Transcribe:  85%|████████▌ | 912.14/1067.52 [01:41<00:16,  9.53sec/s]\u001b[A\n",
      "Transcribe:  88%|████████▊ | 942.14/1067.52 [01:46<00:14,  8.38sec/s]\u001b[A\n",
      "Transcribe:  91%|█████████ | 972.14/1067.52 [01:48<00:10,  9.19sec/s]\u001b[A\n",
      "Transcribe:  94%|█████████▎| 1000.7/1067.52 [01:51<00:07,  9.34sec/s]\u001b[A\n",
      "Transcribe:  97%|█████████▋| 1030.7/1067.52 [01:54<00:03, 10.01sec/s]\u001b[A\n",
      "Transcribe:  99%|█████████▉| 1060.7/1067.52 [01:56<00:00, 10.48sec/s]\u001b[A\n",
      "Transcribe: 100%|█████████▉| 1067.4/1067.52 [01:57<00:00,  9.07sec/s]\u001b[A\n"
     ]
    },
    {
     "name": "stdout",
     "output_type": "stream",
     "text": [
      "Saved: /home/arveloic/MASCOT/stable_ts_json/stable_ts_audio_33.json\n"
     ]
    },
    {
     "name": "stderr",
     "output_type": "stream",
     "text": [
      "\n",
      "                                                   /s]\u001b[A\n",
      " 24%|██▍       | 8/33 [1:04:26<3:16:01, 470.46s/it]   \n",
      "Transcribe:   0%|          | 0/820.8 [00:00<?, ?sec/s]\u001b[A"
     ]
    },
    {
     "name": "stdout",
     "output_type": "stream",
     "text": [
      "Detected language: english\n"
     ]
    },
    {
     "name": "stderr",
     "output_type": "stream",
     "text": [
      "\n",
      "Transcribe:   3%|▎         | 24.0/820.8 [00:03<01:54,  6.98sec/s]\u001b[A\n",
      "Transcribe:   6%|▌         | 49.0/820.8 [00:06<01:44,  7.39sec/s]\u001b[A\n",
      "Transcribe:   9%|▉         | 75.0/820.8 [00:10<01:49,  6.82sec/s]\u001b[A\n",
      "Transcribe:  12%|█▏        | 101.0/820.8 [00:14<01:41,  7.11sec/s]\u001b[A\n",
      "Transcribe:  16%|█▌        | 131.0/820.8 [00:17<01:24,  8.21sec/s]\u001b[A\n",
      "Transcribe:  20%|█▉        | 161.0/820.8 [00:20<01:21,  8.05sec/s]\u001b[A\n",
      "Transcribe:  23%|██▎       | 191.0/820.8 [00:22<01:04,  9.75sec/s]\u001b[A\n",
      "Transcribe:  27%|██▋       | 221.0/820.8 [00:25<00:59, 10.01sec/s]\u001b[A\n",
      "Transcribe:  31%|███       | 251.0/820.8 [00:27<00:52, 10.82sec/s]\u001b[A\n",
      "Transcribe:  34%|███▍      | 281.0/820.8 [00:32<00:57,  9.34sec/s]\u001b[A\n",
      "Transcribe:  37%|███▋      | 303.7/820.8 [00:35<00:59,  8.72sec/s]\u001b[A\n",
      "Transcribe:  40%|████      | 330.24/820.8 [00:36<00:45, 10.81sec/s]\u001b[A\n",
      "Transcribe:  40%|████      | 330.24/820.8 [00:53<00:45, 10.81sec/s]\u001b[A\n",
      "Transcribe:  44%|████▍     | 360.22/820.8 [00:59<02:23,  3.21sec/s]\u001b[A\n",
      "Transcribe:  47%|████▋     | 388.22/820.8 [01:02<01:51,  3.88sec/s]\u001b[A\n",
      "Transcribe:  51%|█████     | 417.2/820.8 [01:07<01:30,  4.47sec/s] \u001b[A\n",
      "Transcribe:  54%|█████▍    | 446.24/820.8 [01:10<01:09,  5.42sec/s]\u001b[A\n",
      "Transcribe:  57%|█████▋    | 470.06/820.8 [01:12<00:56,  6.22sec/s]\u001b[A\n",
      "Transcribe:  60%|██████    | 495.12/820.8 [01:14<00:45,  7.08sec/s]\u001b[A\n",
      "Transcribe:  64%|██████▍   | 525.12/820.8 [01:18<00:40,  7.37sec/s]\u001b[A\n",
      "Transcribe:  68%|██████▊   | 555.12/820.8 [01:22<00:36,  7.31sec/s]\u001b[A\n",
      "Transcribe:  71%|███████▏  | 585.12/820.8 [01:24<00:27,  8.59sec/s]\u001b[A\n",
      "Transcribe:  75%|███████▍  | 615.12/820.8 [01:28<00:24,  8.44sec/s]\u001b[A\n",
      "Transcribe:  79%|███████▊  | 645.12/820.8 [01:29<00:16, 10.36sec/s]\u001b[A\n",
      "Transcribe:  82%|████████▏ | 675.12/820.8 [01:33<00:15,  9.53sec/s]\u001b[A\n",
      "Transcribe:  86%|████████▌ | 705.12/820.8 [01:38<00:14,  7.98sec/s]\u001b[A\n",
      "Transcribe:  90%|████████▉ | 735.12/820.8 [01:43<00:11,  7.22sec/s]\u001b[A\n",
      "Transcribe:  93%|█████████▎| 765.12/820.8 [01:48<00:07,  7.09sec/s]\u001b[A\n",
      "Transcribe:  97%|█████████▋| 795.12/820.8 [01:53<00:03,  6.58sec/s]\u001b[A\n",
      "Transcribe: 100%|██████████| 820.8/820.8 [01:56<00:00,  7.06sec/s] \u001b[A\n"
     ]
    },
    {
     "name": "stdout",
     "output_type": "stream",
     "text": [
      "Saved: /home/arveloic/MASCOT/stable_ts_json/stable_ts_audio_34.json\n"
     ]
    },
    {
     "name": "stderr",
     "output_type": "stream",
     "text": [
      "\n",
      "                                                   c/s]\u001b[A\n",
      " 24%|██▍       | 8/33 [1:06:23<3:16:01, 470.46s/it]    \n",
      "Transcribe:   0%|          | 0/392.65 [00:00<?, ?sec/s]\u001b[A"
     ]
    },
    {
     "name": "stdout",
     "output_type": "stream",
     "text": [
      "Detected language: english\n"
     ]
    },
    {
     "name": "stderr",
     "output_type": "stream",
     "text": [
      "\n",
      "Transcribe:   6%|▋         | 24.96/392.65 [00:02<00:38,  9.49sec/s]\u001b[A\n",
      "Transcribe:  14%|█▍        | 54.96/392.65 [00:05<00:33,  9.99sec/s]\u001b[A\n",
      "Transcribe:  22%|██▏       | 84.96/392.65 [00:08<00:29, 10.27sec/s]\u001b[A\n",
      "Transcribe:  29%|██▉       | 114.96/392.65 [00:11<00:28,  9.87sec/s]\u001b[A\n",
      "Transcribe:  37%|███▋      | 144.96/392.65 [00:14<00:24, 10.00sec/s]\u001b[A\n",
      "Transcribe:  45%|████▍     | 174.96/392.65 [00:17<00:22,  9.86sec/s]\u001b[A\n",
      "Transcribe:  52%|█████▏    | 204.96/392.65 [00:20<00:17, 10.53sec/s]\u001b[A\n",
      "Transcribe:  60%|█████▉    | 234.96/392.65 [00:24<00:17,  8.85sec/s]\u001b[A\n",
      "Transcribe:  67%|██████▋   | 261.72/392.65 [00:28<00:16,  7.94sec/s]\u001b[A\n",
      "Transcribe:  74%|███████▍  | 291.72/392.65 [00:33<00:13,  7.70sec/s]\u001b[A\n",
      "Transcribe:  82%|████████▏ | 321.72/392.65 [00:35<00:07,  9.01sec/s]\u001b[A\n",
      "Transcribe:  90%|████████▉ | 351.72/392.65 [00:38<00:04,  9.25sec/s]\u001b[A\n",
      "Transcribe:  97%|█████████▋| 381.72/392.65 [00:40<00:01, 10.18sec/s]\u001b[A\n",
      "Transcribe: 100%|█████████▉| 392.59/392.65 [00:41<00:00,  9.45sec/s]\u001b[A\n"
     ]
    },
    {
     "name": "stdout",
     "output_type": "stream",
     "text": [
      "Saved: /home/arveloic/MASCOT/stable_ts_json/stable_ts_audio_35.json\n"
     ]
    },
    {
     "name": "stderr",
     "output_type": "stream",
     "text": [
      " 27%|██▋       | 9/33 [1:07:04<2:45:38, 414.10s/it]\n",
      "                                                   c/s]\u001b[A\n",
      " 27%|██▋       | 9/33 [1:07:05<2:45:38, 414.10s/it]    \n",
      "Transcribe:   0%|          | 0/248.79 [00:00<?, ?sec/s]\u001b[A"
     ]
    },
    {
     "name": "stdout",
     "output_type": "stream",
     "text": [
      "Detected language: english\n"
     ]
    },
    {
     "name": "stderr",
     "output_type": "stream",
     "text": [
      "\n",
      "Transcribe:  12%|█▏        | 29.02/248.79 [00:05<00:39,  5.58sec/s]\u001b[A\n",
      "Transcribe:  24%|██▎       | 59.02/248.79 [00:09<00:28,  6.76sec/s]\u001b[A\n",
      "Transcribe:  36%|███▌      | 89.02/248.79 [00:35<01:17,  2.05sec/s]\u001b[A\n",
      "Transcribe:  47%|████▋     | 118.02/248.79 [00:38<00:43,  3.03sec/s]\u001b[A\n",
      "Transcribe:  57%|█████▋    | 142.98/248.79 [00:42<00:29,  3.63sec/s]\u001b[A\n",
      "Transcribe:  69%|██████▉   | 171.48/248.79 [00:45<00:17,  4.54sec/s]\u001b[A\n",
      "Transcribe:  81%|████████  | 201.48/248.79 [00:48<00:08,  5.57sec/s]\u001b[A\n",
      "Transcribe:  93%|█████████▎| 231.48/248.79 [00:51<00:02,  6.59sec/s]\u001b[A\n",
      "Transcribe: 100%|█████████▉| 248.68/248.79 [00:52<00:00,  4.76sec/s]\u001b[A\n"
     ]
    },
    {
     "name": "stdout",
     "output_type": "stream",
     "text": [
      "Saved: /home/arveloic/MASCOT/stable_ts_json/stable_ts_audio_36.json\n"
     ]
    },
    {
     "name": "stderr",
     "output_type": "stream",
     "text": [
      "\n",
      "                                                   c/s]\u001b[A\n",
      " 27%|██▋       | 9/33 [1:07:57<2:45:38, 414.10s/it]    \n",
      "Transcribe:   0%|          | 0/367.73 [00:00<?, ?sec/s]\u001b[A"
     ]
    },
    {
     "name": "stdout",
     "output_type": "stream",
     "text": [
      "Detected language: english\n"
     ]
    },
    {
     "name": "stderr",
     "output_type": "stream",
     "text": [
      "\n",
      "Transcribe:   8%|▊         | 29.38/367.73 [00:03<00:42,  8.04sec/s]\u001b[A\n",
      "Transcribe:  16%|█▌        | 59.38/367.73 [00:05<00:29, 10.38sec/s]\u001b[A\n",
      "Transcribe:  24%|██▍       | 89.38/367.73 [00:08<00:24, 11.37sec/s]\u001b[A\n",
      "Transcribe:  32%|███▏      | 119.38/367.73 [00:10<00:21, 11.35sec/s]\u001b[A\n",
      "Transcribe:  41%|████      | 149.38/367.73 [00:13<00:20, 10.79sec/s]\u001b[A\n",
      "Transcribe:  49%|████▉     | 179.38/367.73 [00:16<00:17, 11.01sec/s]\u001b[A\n",
      "Transcribe:  57%|█████▋    | 209.38/367.73 [00:19<00:14, 10.93sec/s]\u001b[A\n",
      "Transcribe:  65%|██████▌   | 239.38/367.73 [00:21<00:10, 12.27sec/s]\u001b[A\n",
      "Transcribe:  68%|██████▊   | 249.34/367.73 [00:22<00:10, 10.91sec/s]\u001b[A\n",
      "Transcribe:  75%|███████▍  | 275.68/367.73 [00:24<00:07, 12.93sec/s]\u001b[A\n",
      "Transcribe:  83%|████████▎ | 305.68/367.73 [00:26<00:05, 12.25sec/s]\u001b[A\n",
      "Transcribe:  91%|█████████▏| 335.68/367.73 [00:29<00:02, 11.16sec/s]\u001b[A\n",
      "Transcribe: 100%|█████████▉| 367.7/367.73 [00:32<00:00, 11.42sec/s] \u001b[A\n"
     ]
    },
    {
     "name": "stdout",
     "output_type": "stream",
     "text": [
      "Saved: /home/arveloic/MASCOT/stable_ts_json/stable_ts_audio_37.json\n"
     ]
    },
    {
     "name": "stderr",
     "output_type": "stream",
     "text": [
      "\n",
      "                                                   c/s]\u001b[A\n",
      " 27%|██▋       | 9/33 [1:08:30<2:45:38, 414.10s/it]    \n",
      "Transcribe:   0%|          | 0/128.68 [00:00<?, ?sec/s]\u001b[A"
     ]
    },
    {
     "name": "stdout",
     "output_type": "stream",
     "text": [
      "Detected language: english\n"
     ]
    },
    {
     "name": "stderr",
     "output_type": "stream",
     "text": [
      "\n",
      "Transcribe:  21%|██▏       | 27.62/128.68 [00:04<00:17,  5.93sec/s]\u001b[A\n",
      "Transcribe:  45%|████▍     | 57.62/128.68 [00:06<00:07,  8.98sec/s]\u001b[A\n",
      "Transcribe:  66%|██████▌   | 84.86/128.68 [00:09<00:04,  8.95sec/s]\u001b[A\n",
      "Transcribe:  89%|████████▉ | 114.86/128.68 [00:13<00:01,  8.57sec/s]\u001b[A\n",
      "Transcribe: 100%|█████████▉| 128.55/128.68 [00:14<00:00,  8.95sec/s]\u001b[A\n"
     ]
    },
    {
     "name": "stdout",
     "output_type": "stream",
     "text": [
      "Saved: /home/arveloic/MASCOT/stable_ts_json/stable_ts_audio_38.json\n"
     ]
    },
    {
     "name": "stderr",
     "output_type": "stream",
     "text": [
      "\n",
      "                                                   c/s]\u001b[A\n",
      " 27%|██▋       | 9/33 [1:08:44<2:45:38, 414.10s/it]    \n",
      "Transcribe:   0%|          | 0/782.18 [00:00<?, ?sec/s]\u001b[A"
     ]
    },
    {
     "name": "stdout",
     "output_type": "stream",
     "text": [
      "Detected language: english\n"
     ]
    },
    {
     "name": "stderr",
     "output_type": "stream",
     "text": [
      "\n",
      "Transcribe:   4%|▎         | 27.38/782.18 [00:04<01:51,  6.74sec/s]\u001b[A\n",
      "Transcribe:   7%|▋         | 54.14/782.18 [00:07<01:42,  7.10sec/s]\u001b[A\n",
      "Transcribe:  11%|█         | 84.14/782.18 [00:10<01:25,  8.20sec/s]\u001b[A\n",
      "Transcribe:  15%|█▍        | 114.14/782.18 [00:13<01:11,  9.30sec/s]\u001b[A\n",
      "Transcribe:  18%|█▊        | 144.14/782.18 [00:17<01:14,  8.56sec/s]\u001b[A\n",
      "Transcribe:  22%|██▏       | 169.7/782.18 [00:19<01:08,  8.96sec/s] \u001b[A\n",
      "Transcribe:  26%|██▌       | 199.7/782.18 [00:23<01:08,  8.51sec/s]\u001b[A\n",
      "Transcribe:  29%|██▉       | 229.7/782.18 [00:27<01:05,  8.44sec/s]\u001b[A\n",
      "Transcribe:  33%|███▎      | 259.7/782.18 [00:30<01:01,  8.45sec/s]\u001b[A\n",
      "Transcribe:  37%|███▋      | 289.7/782.18 [00:34<01:00,  8.17sec/s]\u001b[A\n",
      "Transcribe:  41%|████      | 319.7/782.18 [00:37<00:50,  9.10sec/s]\u001b[A\n",
      "Transcribe:  45%|████▍     | 349.7/782.18 [00:39<00:43,  9.97sec/s]\u001b[A\n",
      "Transcribe:  49%|████▊     | 379.7/782.18 [00:42<00:41,  9.81sec/s]\u001b[A\n",
      "Transcribe:  52%|█████▏    | 409.7/782.18 [00:46<00:39,  9.50sec/s]\u001b[A\n",
      "Transcribe:  56%|█████▌    | 439.7/782.18 [00:48<00:33, 10.09sec/s]\u001b[A\n",
      "Transcribe:  60%|█████▉    | 467.2/782.18 [00:52<00:35,  8.95sec/s]\u001b[A\n",
      "Transcribe:  64%|██████▎   | 497.2/782.18 [01:03<00:54,  5.23sec/s]\u001b[A\n",
      "Transcribe:  67%|██████▋   | 527.2/782.18 [01:07<00:43,  5.89sec/s]\u001b[A\n",
      "Transcribe:  71%|███████   | 557.2/782.18 [01:10<00:34,  6.52sec/s]\u001b[A\n",
      "Transcribe:  75%|███████▌  | 587.2/782.18 [01:15<00:29,  6.70sec/s]\u001b[A\n",
      "Transcribe:  79%|███████▉  | 617.2/782.18 [01:20<00:25,  6.46sec/s]\u001b[A\n",
      "Transcribe:  82%|████████▏ | 641.24/782.18 [01:22<00:19,  7.22sec/s]\u001b[A\n",
      "Transcribe:  86%|████████▌ | 671.24/782.18 [01:26<00:14,  7.48sec/s]\u001b[A\n",
      "Transcribe:  90%|████████▉ | 701.24/782.18 [01:30<00:10,  7.43sec/s]\u001b[A\n",
      "Transcribe:  93%|█████████▎| 731.24/782.18 [01:33<00:06,  7.71sec/s]\u001b[A\n",
      "Transcribe:  97%|█████████▋| 760.64/782.18 [01:36<00:02,  8.20sec/s]\u001b[A\n",
      "Transcribe: 100%|█████████▉| 782.14/782.18 [01:40<00:00,  7.80sec/s]\u001b[A\n"
     ]
    },
    {
     "name": "stdout",
     "output_type": "stream",
     "text": [
      "Saved: /home/arveloic/MASCOT/stable_ts_json/stable_ts_audio_39.json\n"
     ]
    },
    {
     "name": "stderr",
     "output_type": "stream",
     "text": [
      " 30%|███       | 10/33 [1:10:25<2:13:26, 348.13s/it]\n",
      "                                                    c/s]\u001b[A\n",
      " 30%|███       | 10/33 [1:10:25<2:13:26, 348.13s/it]    \n",
      "Transcribe:   0%|          | 0/1065.72 [00:00<?, ?sec/s]\u001b[A"
     ]
    },
    {
     "name": "stdout",
     "output_type": "stream",
     "text": [
      "Detected language: english\n"
     ]
    },
    {
     "name": "stderr",
     "output_type": "stream",
     "text": [
      "\n",
      "Transcribe:   2%|▏         | 21.92/1065.72 [00:02<01:49,  9.52sec/s]\u001b[A\n",
      "Transcribe:   3%|▎         | 36.92/1065.72 [00:03<01:38, 10.43sec/s]\u001b[A\n",
      "Transcribe:   6%|▋         | 66.92/1065.72 [00:07<01:54,  8.69sec/s]\u001b[A\n",
      "Transcribe:   9%|▊         | 92.92/1065.72 [00:10<01:45,  9.22sec/s]\u001b[A\n",
      "Transcribe:  12%|█▏        | 122.92/1065.72 [00:12<01:35,  9.84sec/s]\u001b[A\n",
      "Transcribe:  14%|█▍        | 152.92/1065.72 [00:15<01:30, 10.13sec/s]\u001b[A\n",
      "Transcribe:  17%|█▋        | 182.92/1065.72 [00:18<01:28,  9.99sec/s]\u001b[A\n",
      "Transcribe:  20%|█▉        | 212.92/1065.72 [00:21<01:27,  9.77sec/s]\u001b[A\n",
      "Transcribe:  23%|██▎       | 242.92/1065.72 [00:24<01:20, 10.28sec/s]\u001b[A\n",
      "Transcribe:  26%|██▌       | 272.92/1065.72 [00:27<01:18, 10.08sec/s]\u001b[A\n",
      "Transcribe:  28%|██▊       | 302.92/1065.72 [00:30<01:17,  9.83sec/s]\u001b[A\n",
      "Transcribe:  31%|███       | 332.92/1065.72 [00:34<01:15,  9.65sec/s]\u001b[A\n",
      "Transcribe:  34%|███▍      | 362.92/1065.72 [00:37<01:13,  9.59sec/s]\u001b[A\n",
      "Transcribe:  37%|███▋      | 392.92/1065.72 [00:55<02:49,  3.96sec/s]\u001b[A\n",
      "Transcribe:  40%|███▉      | 422.92/1065.72 [00:56<02:03,  5.22sec/s]\u001b[A\n",
      "Transcribe:  42%|████▏     | 452.92/1065.72 [00:59<01:37,  6.30sec/s]\u001b[A\n",
      "Transcribe:  45%|████▌     | 482.92/1065.72 [01:02<01:23,  6.98sec/s]\u001b[A\n",
      "Transcribe:  48%|████▊     | 512.92/1065.72 [01:05<01:13,  7.54sec/s]\u001b[A\n",
      "Transcribe:  51%|█████     | 542.92/1065.72 [01:08<01:04,  8.12sec/s]\u001b[A\n",
      "Transcribe:  54%|█████▍    | 572.92/1065.72 [01:12<01:02,  7.92sec/s]\u001b[A\n",
      "Transcribe:  57%|█████▋    | 602.92/1065.72 [01:16<01:01,  7.58sec/s]\u001b[A\n",
      "Transcribe:  59%|█████▉    | 632.92/1065.72 [01:20<00:55,  7.77sec/s]\u001b[A\n",
      "Transcribe:  62%|██████▏   | 662.92/1065.72 [01:21<00:40,  9.90sec/s]\u001b[A\n",
      "Transcribe:  65%|██████▌   | 692.92/1065.72 [01:23<00:33, 11.12sec/s]\u001b[A\n",
      "Transcribe:  68%|██████▊   | 722.92/1065.72 [01:26<00:32, 10.62sec/s]\u001b[A\n",
      "Transcribe:  71%|███████   | 752.92/1065.72 [01:30<00:31,  9.81sec/s]\u001b[A\n",
      "Transcribe:  73%|███████▎  | 782.92/1065.72 [01:32<00:26, 10.77sec/s]\u001b[A\n",
      "Transcribe:  76%|███████▋  | 812.92/1065.72 [01:32<00:17, 14.29sec/s]\u001b[A\n",
      "Transcribe:  79%|███████▉  | 839.66/1065.72 [01:44<00:37,  5.98sec/s]\u001b[A\n",
      "Transcribe:  81%|████████▏ | 867.78/1065.72 [01:47<00:29,  6.77sec/s]\u001b[A\n",
      "Transcribe:  83%|████████▎ | 882.14/1065.72 [01:48<00:26,  7.03sec/s]\u001b[A\n",
      "Transcribe:  84%|████████▍ | 900.38/1065.72 [01:50<00:21,  7.78sec/s]\u001b[A\n",
      "Transcribe:  87%|████████▋ | 930.38/1065.72 [01:50<00:12, 11.25sec/s]\u001b[A\n",
      "Transcribe:  90%|█████████ | 960.38/1065.72 [01:54<00:11,  9.48sec/s]\u001b[A\n",
      "Transcribe:  93%|█████████▎| 987.38/1065.72 [01:56<00:07, 10.68sec/s]\u001b[A\n",
      "Transcribe:  95%|█████████▌| 1016.38/1065.72 [02:00<00:05,  9.65sec/s]\u001b[A\n",
      "Transcribe:  98%|█████████▊| 1046.12/1065.72 [02:04<00:02,  9.04sec/s]\u001b[A\n",
      "Transcribe: 100%|█████████▉| 1065.69/1065.72 [02:06<00:00,  8.40sec/s]\u001b[A\n"
     ]
    },
    {
     "name": "stdout",
     "output_type": "stream",
     "text": [
      "Saved: /home/arveloic/MASCOT/stable_ts_json/stable_ts_audio_40.json\n"
     ]
    },
    {
     "name": "stderr",
     "output_type": "stream",
     "text": [
      "\n",
      "                                                    /s]\u001b[A\n",
      " 30%|███       | 10/33 [1:12:32<2:13:26, 348.13s/it]   \n",
      "Transcribe:   0%|          | 0/170.55 [00:00<?, ?sec/s]\u001b[A"
     ]
    },
    {
     "name": "stdout",
     "output_type": "stream",
     "text": [
      "Detected language: english\n"
     ]
    },
    {
     "name": "stderr",
     "output_type": "stream",
     "text": [
      "\n",
      "Transcribe:  17%|█▋        | 29.0/170.55 [00:06<00:30,  4.68sec/s]\u001b[A\n",
      "Transcribe:  28%|██▊       | 48.18/170.55 [00:10<00:26,  4.59sec/s]\u001b[A\n",
      "Transcribe:  45%|████▍     | 76.28/170.55 [00:14<00:16,  5.59sec/s]\u001b[A\n",
      "Transcribe:  62%|██████▏   | 106.28/170.55 [00:19<00:11,  5.84sec/s]\u001b[A\n",
      "Transcribe:  80%|███████▉  | 136.28/170.55 [00:38<00:12,  2.83sec/s]\u001b[A\n",
      "Transcribe:  97%|█████████▋| 166.28/170.55 [00:41<00:01,  3.76sec/s]\u001b[A\n",
      "Transcribe: 100%|█████████▉| 170.52/170.55 [00:43<00:00,  3.96sec/s]\u001b[A\n"
     ]
    },
    {
     "name": "stdout",
     "output_type": "stream",
     "text": [
      "Saved: /home/arveloic/MASCOT/stable_ts_json/stable_ts_audio_41.json\n"
     ]
    },
    {
     "name": "stderr",
     "output_type": "stream",
     "text": [
      "\n",
      "                                                    /s]\u001b[A\n",
      " 30%|███       | 10/33 [1:13:16<2:13:26, 348.13s/it]   \n",
      "Transcribe:   0%|          | 0/300.41 [00:00<?, ?sec/s]\u001b[A"
     ]
    },
    {
     "name": "stdout",
     "output_type": "stream",
     "text": [
      "Detected language: english\n"
     ]
    },
    {
     "name": "stderr",
     "output_type": "stream",
     "text": [
      "\n",
      "Transcribe:   9%|▉         | 27.0/300.41 [00:04<00:49,  5.57sec/s]\u001b[A\n",
      "Transcribe:  18%|█▊        | 54.62/300.41 [00:06<00:28,  8.61sec/s]\u001b[A\n",
      "Transcribe:  25%|██▌       | 76.04/300.41 [00:08<00:24,  9.31sec/s]\u001b[A\n",
      "Transcribe:  35%|███▌      | 106.04/300.41 [00:13<00:23,  8.25sec/s]\u001b[A\n",
      "Transcribe:  45%|████▌     | 136.04/300.41 [00:16<00:18,  8.84sec/s]\u001b[A\n",
      "Transcribe:  55%|█████▌    | 166.04/300.41 [00:18<00:13,  9.99sec/s]\u001b[A\n",
      "Transcribe:  65%|██████▌   | 196.04/300.41 [00:21<00:10,  9.58sec/s]\u001b[A\n",
      "Transcribe:  75%|███████▌  | 226.04/300.41 [00:25<00:07,  9.39sec/s]\u001b[A\n",
      "Transcribe:  85%|████████▌ | 256.04/300.41 [00:28<00:04,  9.49sec/s]\u001b[A\n",
      "Transcribe:  95%|█████████▌| 286.04/300.41 [00:30<00:01, 10.41sec/s]\u001b[A\n",
      "Transcribe: 100%|█████████▉| 300.29/300.41 [00:31<00:00,  9.53sec/s]\u001b[A\n"
     ]
    },
    {
     "name": "stdout",
     "output_type": "stream",
     "text": [
      "Saved: /home/arveloic/MASCOT/stable_ts_json/stable_ts_audio_42.json\n"
     ]
    },
    {
     "name": "stderr",
     "output_type": "stream",
     "text": [
      "\n",
      "                                                    /s]\u001b[A\n",
      " 30%|███       | 10/33 [1:13:48<2:13:26, 348.13s/it]   \n",
      "Transcribe:   0%|          | 0/585.01 [00:00<?, ?sec/s]\u001b[A"
     ]
    },
    {
     "name": "stdout",
     "output_type": "stream",
     "text": [
      "Detected language: english\n"
     ]
    },
    {
     "name": "stderr",
     "output_type": "stream",
     "text": [
      "\n",
      "Transcribe:   5%|▍         | 26.86/585.01 [00:04<01:40,  5.53sec/s]\u001b[A\n",
      "Transcribe:   8%|▊         | 45.16/585.01 [00:07<01:21,  6.63sec/s]\u001b[A\n",
      "Transcribe:  13%|█▎        | 75.16/585.01 [00:09<01:00,  8.43sec/s]\u001b[A\n",
      "Transcribe:  18%|█▊        | 105.16/585.01 [00:12<00:52,  9.07sec/s]\u001b[A\n",
      "Transcribe:  23%|██▎       | 135.16/585.01 [00:16<00:50,  8.96sec/s]\u001b[A\n",
      "Transcribe:  28%|██▊       | 165.16/585.01 [00:34<02:01,  3.45sec/s]\u001b[A\n",
      "Transcribe:  33%|███▎      | 195.16/585.01 [00:37<01:27,  4.47sec/s]\u001b[A\n",
      "Transcribe:  38%|███▊      | 225.16/585.01 [00:41<01:10,  5.08sec/s]\u001b[A\n",
      "Transcribe:  44%|████▎     | 255.16/585.01 [00:44<00:55,  5.98sec/s]\u001b[A\n",
      "Transcribe:  49%|████▊     | 285.16/585.01 [00:49<00:48,  6.24sec/s]\u001b[A\n",
      "Transcribe:  54%|█████▍    | 315.16/585.01 [00:53<00:41,  6.51sec/s]\u001b[A\n",
      "Transcribe:  59%|█████▉    | 345.16/585.01 [00:56<00:33,  7.10sec/s]\u001b[A\n",
      "Transcribe:  64%|██████▍   | 375.16/585.01 [00:59<00:27,  7.72sec/s]\u001b[A\n",
      "Transcribe:  69%|██████▉   | 405.16/585.01 [01:04<00:25,  7.10sec/s]\u001b[A\n",
      "Transcribe:  74%|███████▍  | 435.16/585.01 [01:07<00:19,  7.68sec/s]\u001b[A\n",
      "Transcribe:  79%|███████▊  | 460.38/585.01 [01:11<00:16,  7.37sec/s]\u001b[A\n",
      "Transcribe:  84%|████████▎ | 488.58/585.01 [01:15<00:13,  7.18sec/s]\u001b[A\n",
      "Transcribe:  89%|████████▊ | 518.58/585.01 [01:19<00:08,  7.77sec/s]\u001b[A\n",
      "Transcribe:  94%|█████████▍| 548.58/585.01 [01:20<00:03,  9.77sec/s]\u001b[A\n",
      "Transcribe:  94%|█████████▍| 548.58/585.01 [01:32<00:03,  9.77sec/s]\u001b[A\n",
      "Transcribe:  99%|█████████▉| 578.58/585.01 [01:39<00:01,  3.82sec/s]\u001b[A\n",
      "Transcribe: 100%|█████████▉| 584.97/585.01 [01:39<00:00,  5.88sec/s]\u001b[A\n"
     ]
    },
    {
     "name": "stdout",
     "output_type": "stream",
     "text": [
      "Saved: /home/arveloic/MASCOT/stable_ts_json/stable_ts_audio_43.json\n"
     ]
    },
    {
     "name": "stderr",
     "output_type": "stream",
     "text": [
      " 33%|███▎      | 11/33 [1:15:27<2:02:30, 334.10s/it]\n",
      "                                                    /s]\u001b[A\n",
      " 33%|███▎      | 11/33 [1:15:28<2:02:30, 334.10s/it]   \n",
      "Transcribe:   0%|          | 0/603.25 [00:00<?, ?sec/s]\u001b[A"
     ]
    },
    {
     "name": "stdout",
     "output_type": "stream",
     "text": [
      "Detected language: english\n"
     ]
    },
    {
     "name": "stderr",
     "output_type": "stream",
     "text": [
      "\n",
      "Transcribe:   5%|▍         | 28.72/603.25 [00:02<00:59,  9.59sec/s]\u001b[A\n",
      "Transcribe:   9%|▉         | 57.1/603.25 [00:06<01:07,  8.08sec/s] \u001b[A\n",
      "Transcribe:  14%|█▍        | 87.1/603.25 [00:09<00:58,  8.81sec/s]\u001b[A\n",
      "Transcribe:  19%|█▉        | 117.1/603.25 [00:12<00:50,  9.59sec/s]\u001b[A\n",
      "Transcribe:  24%|██▍       | 147.1/603.25 [00:16<00:49,  9.31sec/s]\u001b[A\n",
      "Transcribe:  29%|██▉       | 177.1/603.25 [00:19<00:45,  9.33sec/s]\u001b[A\n",
      "Transcribe:  34%|███▍      | 207.1/603.25 [00:22<00:42,  9.32sec/s]\u001b[A\n",
      "Transcribe:  39%|███▉      | 237.1/603.25 [00:26<00:43,  8.47sec/s]\u001b[A\n",
      "Transcribe:  44%|████▍     | 267.1/603.25 [00:30<00:40,  8.35sec/s]\u001b[A\n",
      "Transcribe:  49%|████▉     | 297.1/603.25 [00:34<00:36,  8.31sec/s]\u001b[A\n",
      "Transcribe:  54%|█████▍    | 327.1/603.25 [00:36<00:29,  9.37sec/s]\u001b[A\n",
      "Transcribe:  59%|█████▉    | 357.1/603.25 [00:40<00:28,  8.78sec/s]\u001b[A\n",
      "Transcribe:  63%|██████▎   | 381.1/603.25 [00:43<00:27,  8.21sec/s]\u001b[A\n",
      "Transcribe:  68%|██████▊   | 411.1/603.25 [00:46<00:22,  8.59sec/s]\u001b[A\n",
      "Transcribe:  73%|███████▎  | 441.1/603.25 [00:49<00:17,  9.48sec/s]\u001b[A\n",
      "Transcribe:  77%|███████▋  | 467.36/603.25 [00:50<00:12, 10.85sec/s]\u001b[A\n",
      "Transcribe:  82%|████████▏ | 497.36/603.25 [00:53<00:09, 11.21sec/s]\u001b[A\n",
      "Transcribe:  87%|████████▋ | 527.36/603.25 [00:56<00:07, 10.10sec/s]\u001b[A\n",
      "Transcribe:  91%|█████████▏| 551.1/603.25 [01:01<00:06,  8.21sec/s] \u001b[A\n",
      "Transcribe:  96%|█████████▋| 581.1/603.25 [01:05<00:02,  7.86sec/s]\u001b[A\n",
      "Transcribe: 100%|█████████▉| 603.2/603.25 [01:07<00:00,  8.94sec/s]\u001b[A\n"
     ]
    },
    {
     "name": "stdout",
     "output_type": "stream",
     "text": [
      "Saved: /home/arveloic/MASCOT/stable_ts_json/stable_ts_audio_44.json\n"
     ]
    },
    {
     "name": "stderr",
     "output_type": "stream",
     "text": [
      "\n",
      "                                                    /s]\u001b[A\n",
      " 33%|███▎      | 11/33 [1:16:35<2:02:30, 334.10s/it]   \n",
      "Transcribe:   0%|          | 0/569.81 [00:00<?, ?sec/s]\u001b[A"
     ]
    },
    {
     "name": "stdout",
     "output_type": "stream",
     "text": [
      "Detected language: english\n"
     ]
    },
    {
     "name": "stderr",
     "output_type": "stream",
     "text": [
      "\n",
      "Transcribe:   5%|▌         | 28.56/569.81 [00:02<00:51, 10.41sec/s]\u001b[A\n",
      "Transcribe:  10%|▉         | 54.56/569.81 [00:04<00:43, 11.92sec/s]\u001b[A\n",
      "Transcribe:  15%|█▍        | 84.56/569.81 [00:07<00:46, 10.50sec/s]\u001b[A\n",
      "Transcribe:  20%|██        | 114.56/569.81 [00:08<00:32, 14.12sec/s]\u001b[A\n",
      "Transcribe:  25%|██▌       | 144.56/569.81 [00:10<00:27, 15.20sec/s]\u001b[A\n",
      "Transcribe:  31%|███       | 174.56/569.81 [00:12<00:27, 14.41sec/s]\u001b[A\n",
      "Transcribe:  36%|███▌      | 204.56/569.81 [00:15<00:25, 14.22sec/s]\u001b[A\n",
      "Transcribe:  41%|████      | 234.56/569.81 [00:17<00:22, 14.73sec/s]\u001b[A\n",
      "Transcribe:  43%|████▎     | 247.74/569.81 [00:18<00:24, 13.35sec/s]\u001b[A\n",
      "Transcribe:  46%|████▌     | 262.74/569.81 [00:20<00:25, 12.15sec/s]\u001b[A\n",
      "Transcribe:  51%|█████▏    | 292.74/569.81 [00:22<00:24, 11.53sec/s]\u001b[A\n",
      "Transcribe:  57%|█████▋    | 322.74/569.81 [00:23<00:15, 16.07sec/s]\u001b[A\n",
      "Transcribe:  62%|██████▏   | 352.74/569.81 [00:25<00:13, 15.85sec/s]\u001b[A\n",
      "Transcribe:  65%|██████▌   | 371.06/569.81 [00:26<00:12, 15.99sec/s]\u001b[A\n",
      "Transcribe:  65%|██████▌   | 371.06/569.81 [00:44<00:12, 15.99sec/s]\u001b[A\n",
      "Transcribe:  70%|███████   | 401.06/569.81 [00:51<00:55,  3.06sec/s]\u001b[A\n",
      "Transcribe:  75%|███████▌  | 429.06/569.81 [00:53<00:35,  3.96sec/s]\u001b[A\n",
      "Transcribe:  80%|████████  | 457.06/569.81 [00:56<00:23,  4.84sec/s]\u001b[A\n",
      "Transcribe:  85%|████████▌ | 487.06/569.81 [01:00<00:14,  5.65sec/s]\u001b[A\n",
      "Transcribe:  91%|█████████ | 517.06/569.81 [01:01<00:07,  7.48sec/s]\u001b[A\n",
      "Transcribe:  96%|█████████▌| 547.06/569.81 [01:03<00:02,  9.22sec/s]\u001b[A\n",
      "Transcribe: 100%|██████████| 569.81/569.81 [01:13<00:00,  7.80sec/s]\u001b[A\n"
     ]
    },
    {
     "name": "stdout",
     "output_type": "stream",
     "text": [
      "Saved: /home/arveloic/MASCOT/stable_ts_json/stable_ts_audio_45.json\n"
     ]
    },
    {
     "name": "stderr",
     "output_type": "stream",
     "text": [
      "\n",
      "                                                    /s]\u001b[A\n",
      " 33%|███▎      | 11/33 [1:17:49<2:02:30, 334.10s/it]   \n",
      "Transcribe:   0%|          | 0/1198.5 [00:00<?, ?sec/s]\u001b[A"
     ]
    },
    {
     "name": "stdout",
     "output_type": "stream",
     "text": [
      "Detected language: english\n"
     ]
    },
    {
     "name": "stderr",
     "output_type": "stream",
     "text": [
      "\n",
      "Transcribe:   2%|▏         | 29.0/1198.5 [00:04<03:21,  5.80sec/s]\u001b[A\n",
      "Transcribe:   4%|▍         | 48.48/1198.5 [00:07<02:50,  6.73sec/s]\u001b[A\n",
      "Transcribe:   6%|▌         | 74.48/1198.5 [00:10<02:20,  8.00sec/s]\u001b[A\n",
      "Transcribe:   9%|▊         | 104.48/1198.5 [00:12<01:56,  9.38sec/s]\u001b[A\n",
      "Transcribe:  11%|█         | 134.48/1198.5 [00:15<01:50,  9.64sec/s]\u001b[A\n",
      "Transcribe:  14%|█▎        | 164.48/1198.5 [00:19<01:55,  8.95sec/s]\u001b[A\n",
      "Transcribe:  16%|█▌        | 194.48/1198.5 [00:22<01:50,  9.06sec/s]\u001b[A\n",
      "Transcribe:  19%|█▊        | 224.48/1198.5 [00:26<01:50,  8.82sec/s]\u001b[A\n",
      "Transcribe:  21%|██        | 254.48/1198.5 [00:29<01:48,  8.67sec/s]\u001b[A\n",
      "Transcribe:  24%|██▎       | 284.48/1198.5 [00:32<01:38,  9.32sec/s]\u001b[A\n",
      "Transcribe:  26%|██▌       | 314.48/1198.5 [00:53<04:13,  3.48sec/s]\u001b[A\n",
      "Transcribe:  29%|██▊       | 344.48/1198.5 [01:03<04:24,  3.23sec/s]\u001b[A\n",
      "Transcribe:  31%|███       | 368.48/1198.5 [01:06<03:36,  3.84sec/s]\u001b[A\n",
      "Transcribe:  33%|███▎      | 398.48/1198.5 [01:08<02:40,  5.00sec/s]\u001b[A\n",
      "Transcribe:  36%|███▌      | 428.48/1198.5 [01:14<02:27,  5.21sec/s]\u001b[A\n",
      "Transcribe:  38%|███▊      | 458.48/1198.5 [01:17<02:04,  5.94sec/s]\u001b[A\n",
      "Transcribe:  41%|████      | 488.48/1198.5 [01:22<01:58,  6.02sec/s]\u001b[A\n",
      "Transcribe:  43%|████▎     | 518.48/1198.5 [01:26<01:50,  6.17sec/s]\u001b[A\n",
      "Transcribe:  46%|████▌     | 548.48/1198.5 [01:29<01:31,  7.10sec/s]\u001b[A\n",
      "Transcribe:  48%|████▊     | 578.48/1198.5 [01:32<01:18,  7.88sec/s]\u001b[A\n",
      "Transcribe:  51%|█████     | 608.48/1198.5 [01:35<01:08,  8.66sec/s]\u001b[A\n",
      "Transcribe:  53%|█████▎    | 638.48/1198.5 [01:38<01:02,  8.91sec/s]\u001b[A\n",
      "Transcribe:  56%|█████▌    | 668.48/1198.5 [01:42<01:01,  8.64sec/s]\u001b[A\n",
      "Transcribe:  58%|█████▊    | 698.48/1198.5 [01:46<01:04,  7.73sec/s]\u001b[A\n",
      "Transcribe:  61%|██████    | 728.48/1198.5 [01:49<00:55,  8.53sec/s]\u001b[A\n",
      "Transcribe:  63%|██████▎   | 756.6/1198.5 [01:52<00:50,  8.69sec/s] \u001b[A\n",
      "Transcribe:  66%|██████▌   | 786.6/1198.5 [01:56<00:47,  8.69sec/s]\u001b[A\n",
      "Transcribe:  68%|██████▊   | 816.6/1198.5 [01:59<00:42,  8.99sec/s]\u001b[A\n",
      "Transcribe:  71%|███████   | 846.6/1198.5 [02:02<00:39,  8.93sec/s]\u001b[A\n",
      "Transcribe:  73%|███████▎  | 876.6/1198.5 [02:07<00:40,  8.04sec/s]\u001b[A\n",
      "Transcribe:  76%|███████▌  | 906.6/1198.5 [02:10<00:35,  8.27sec/s]\u001b[A\n",
      "Transcribe:  78%|███████▊  | 936.6/1198.5 [02:13<00:29,  8.77sec/s]\u001b[A\n",
      "Transcribe:  81%|████████  | 966.6/1198.5 [02:16<00:25,  9.07sec/s]\u001b[A\n",
      "Transcribe:  83%|████████▎ | 996.6/1198.5 [02:20<00:23,  8.65sec/s]\u001b[A\n",
      "Transcribe:  86%|████████▌ | 1026.6/1198.5 [02:23<00:19,  9.03sec/s]\u001b[A\n",
      "Transcribe:  88%|████████▊ | 1056.6/1198.5 [02:27<00:16,  8.46sec/s]\u001b[A\n",
      "Transcribe:  91%|█████████ | 1086.6/1198.5 [02:31<00:13,  8.08sec/s]\u001b[A\n",
      "Transcribe:  93%|█████████▎| 1116.6/1198.5 [02:34<00:09,  8.51sec/s]\u001b[A\n",
      "Transcribe:  96%|█████████▌| 1146.6/1198.5 [02:38<00:06,  8.45sec/s]\u001b[A\n",
      "Transcribe:  98%|█████████▊| 1176.6/1198.5 [02:40<00:02,  9.82sec/s]\u001b[A\n",
      "Transcribe:  98%|█████████▊| 1176.6/1198.5 [02:51<00:02,  9.82sec/s]\u001b[A\n",
      "Transcribe: 100%|██████████| 1198.5/1198.5 [02:56<00:00,  6.81sec/s]\u001b[A\n"
     ]
    },
    {
     "name": "stdout",
     "output_type": "stream",
     "text": [
      "Saved: /home/arveloic/MASCOT/stable_ts_json/stable_ts_audio_46.json\n"
     ]
    },
    {
     "name": "stderr",
     "output_type": "stream",
     "text": [
      "\n",
      "                                                    /s]\u001b[A\n",
      " 33%|███▎      | 11/33 [1:20:45<2:02:30, 334.10s/it]   \n",
      "Transcribe:   0%|          | 0/580.34 [00:00<?, ?sec/s]\u001b[A"
     ]
    },
    {
     "name": "stdout",
     "output_type": "stream",
     "text": [
      "Detected language: english\n"
     ]
    },
    {
     "name": "stderr",
     "output_type": "stream",
     "text": [
      "\n",
      "Transcribe:   5%|▍         | 28.58/580.34 [00:05<01:39,  5.52sec/s]\u001b[A\n",
      "Transcribe:   9%|▊         | 49.52/580.34 [00:08<01:25,  6.19sec/s]\u001b[A\n",
      "Transcribe:  13%|█▎        | 76.8/580.34 [00:10<01:03,  7.89sec/s] \u001b[A\n",
      "Transcribe:  18%|█▊        | 106.8/580.34 [00:13<00:53,  8.77sec/s]\u001b[A\n",
      "Transcribe:  24%|██▎       | 136.8/580.34 [00:16<00:49,  8.92sec/s]\u001b[A\n",
      "Transcribe:  29%|██▊       | 166.8/580.34 [00:19<00:40, 10.11sec/s]\u001b[A\n",
      "Transcribe:  34%|███▍      | 196.8/580.34 [00:22<00:39,  9.60sec/s]\u001b[A\n",
      "Transcribe:  39%|███▊      | 224.46/580.34 [00:25<00:37,  9.54sec/s]\u001b[A\n",
      "Transcribe:  44%|████▍     | 254.46/580.34 [00:28<00:33,  9.85sec/s]\u001b[A\n",
      "Transcribe:  49%|████▉     | 284.46/580.34 [00:31<00:30,  9.75sec/s]\u001b[A\n",
      "Transcribe:  54%|█████▍    | 314.46/580.34 [00:34<00:27,  9.75sec/s]\u001b[A\n",
      "Transcribe:  59%|█████▉    | 344.46/580.34 [00:38<00:25,  9.32sec/s]\u001b[A\n",
      "Transcribe:  65%|██████▍   | 374.46/580.34 [00:41<00:23,  8.92sec/s]\u001b[A\n",
      "Transcribe:  69%|██████▉   | 399.44/580.34 [00:44<00:19,  9.08sec/s]\u001b[A\n",
      "Transcribe:  74%|███████▍  | 429.44/580.34 [00:46<00:14, 10.07sec/s]\u001b[A\n",
      "Transcribe:  79%|███████▉  | 459.44/580.34 [00:49<00:11, 10.55sec/s]\u001b[A\n",
      "Transcribe:  84%|████████▍ | 489.44/580.34 [00:51<00:08, 10.96sec/s]\u001b[A\n",
      "Transcribe:  89%|████████▉ | 515.92/580.34 [00:54<00:06, 10.27sec/s]\u001b[A\n",
      "Transcribe:  94%|█████████▍| 545.92/580.34 [00:57<00:03, 10.91sec/s]\u001b[A\n",
      "Transcribe:  99%|█████████▉| 575.92/580.34 [00:59<00:00, 10.72sec/s]\u001b[A\n",
      "Transcribe: 100%|█████████▉| 580.19/580.34 [01:00<00:00,  9.56sec/s]\u001b[A\n"
     ]
    },
    {
     "name": "stdout",
     "output_type": "stream",
     "text": [
      "Saved: /home/arveloic/MASCOT/stable_ts_json/stable_ts_audio_47.json\n"
     ]
    },
    {
     "name": "stderr",
     "output_type": "stream",
     "text": [
      " 36%|███▋      | 12/33 [1:21:46<2:01:41, 347.69s/it]\n",
      "                                                    /s]\u001b[A\n",
      " 36%|███▋      | 12/33 [1:21:46<2:01:41, 347.69s/it]   \n",
      "Transcribe:   0%|          | 0/297.43 [00:00<?, ?sec/s]\u001b[A"
     ]
    },
    {
     "name": "stdout",
     "output_type": "stream",
     "text": [
      "Detected language: english\n"
     ]
    },
    {
     "name": "stderr",
     "output_type": "stream",
     "text": [
      "\n",
      "Transcribe:   8%|▊         | 23.14/297.43 [00:02<00:31,  8.76sec/s]\u001b[A\n",
      "Transcribe:  18%|█▊        | 53.14/297.43 [00:06<00:30,  7.98sec/s]\u001b[A\n",
      "Transcribe:  27%|██▋       | 80.68/297.43 [00:10<00:28,  7.69sec/s]\u001b[A\n",
      "Transcribe:  37%|███▋      | 110.68/297.43 [00:14<00:24,  7.59sec/s]\u001b[A\n",
      "Transcribe:  47%|████▋     | 140.68/297.43 [00:18<00:20,  7.68sec/s]\u001b[A\n",
      "Transcribe:  57%|█████▋    | 170.68/297.43 [00:21<00:15,  8.37sec/s]\u001b[A\n",
      "Transcribe:  67%|██████▋   | 200.68/297.43 [00:24<00:11,  8.54sec/s]\u001b[A\n",
      "Transcribe:  78%|███████▊  | 230.68/297.43 [00:28<00:08,  8.14sec/s]\u001b[A\n",
      "Transcribe:  88%|████████▊ | 260.68/297.43 [00:32<00:04,  8.24sec/s]\u001b[A\n",
      "Transcribe: 100%|█████████▉| 297.38/297.43 [00:34<00:00,  8.58sec/s]\u001b[A\n"
     ]
    },
    {
     "name": "stdout",
     "output_type": "stream",
     "text": [
      "Saved: /home/arveloic/MASCOT/stable_ts_json/stable_ts_audio_48.json\n"
     ]
    },
    {
     "name": "stderr",
     "output_type": "stream",
     "text": [
      "\n",
      "                                                    /s]\u001b[A\n",
      " 36%|███▋      | 12/33 [1:22:21<2:01:41, 347.69s/it]   \n",
      "Transcribe:   0%|          | 0/516.99 [00:00<?, ?sec/s]\u001b[A"
     ]
    },
    {
     "name": "stdout",
     "output_type": "stream",
     "text": [
      "Detected language: english\n"
     ]
    },
    {
     "name": "stderr",
     "output_type": "stream",
     "text": [
      "\n",
      "Transcribe:   5%|▌         | 27.72/516.99 [00:04<01:22,  5.94sec/s]\u001b[A\n",
      "Transcribe:  11%|█         | 57.72/516.99 [00:08<01:08,  6.67sec/s]\u001b[A\n",
      "Transcribe:  17%|█▋        | 87.72/516.99 [00:12<00:58,  7.33sec/s]\u001b[A\n",
      "Transcribe:  23%|██▎       | 117.72/516.99 [00:17<00:57,  6.93sec/s]\u001b[A\n",
      "Transcribe:  29%|██▊       | 147.72/516.99 [00:19<00:46,  8.00sec/s]\u001b[A\n",
      "Transcribe:  34%|███▍      | 177.72/516.99 [00:23<00:43,  7.88sec/s]\u001b[A\n",
      "Transcribe:  40%|████      | 207.72/516.99 [00:28<00:43,  7.13sec/s]\u001b[A\n",
      "Transcribe:  46%|████▌     | 237.72/516.99 [00:55<01:45,  2.65sec/s]\u001b[A\n",
      "Transcribe:  50%|█████     | 258.68/516.99 [00:58<01:24,  3.07sec/s]\u001b[A\n",
      "Transcribe:  56%|█████▌    | 288.68/516.99 [01:01<00:57,  3.94sec/s]\u001b[A\n",
      "Transcribe:  62%|██████▏   | 318.68/516.99 [01:06<00:43,  4.60sec/s]\u001b[A\n",
      "Transcribe:  67%|██████▋   | 348.68/516.99 [01:10<00:32,  5.25sec/s]\u001b[A\n",
      "Transcribe:  73%|███████▎  | 378.68/516.99 [01:13<00:23,  5.99sec/s]\u001b[A\n",
      "Transcribe:  79%|███████▉  | 408.68/516.99 [01:17<00:16,  6.62sec/s]\u001b[A\n",
      "Transcribe:  85%|████████▍ | 438.68/516.99 [01:20<00:10,  7.15sec/s]\u001b[A\n",
      "Transcribe:  91%|█████████ | 468.68/516.99 [01:24<00:06,  7.38sec/s]\u001b[A\n",
      "Transcribe:  96%|█████████▋| 498.68/516.99 [01:28<00:02,  7.54sec/s]\u001b[A\n",
      "Transcribe: 100%|█████████▉| 516.95/516.99 [01:30<00:00,  5.72sec/s]\u001b[A\n"
     ]
    },
    {
     "name": "stdout",
     "output_type": "stream",
     "text": [
      "Saved: /home/arveloic/MASCOT/stable_ts_json/stable_ts_audio_49.json\n"
     ]
    },
    {
     "name": "stderr",
     "output_type": "stream",
     "text": [
      "\n",
      "                                                    /s]\u001b[A\n",
      " 36%|███▋      | 12/33 [1:23:52<2:01:41, 347.69s/it]   \n",
      "Transcribe:   0%|          | 0/406.83 [00:00<?, ?sec/s]\u001b[A"
     ]
    },
    {
     "name": "stdout",
     "output_type": "stream",
     "text": [
      "Detected language: english\n"
     ]
    },
    {
     "name": "stderr",
     "output_type": "stream",
     "text": [
      "\n",
      "Transcribe:   6%|▌         | 23.34/406.83 [00:01<00:28, 13.39sec/s]\u001b[A\n",
      "Transcribe:  12%|█▏        | 47.34/406.83 [00:04<00:39,  9.04sec/s]\u001b[A\n",
      "Transcribe:  19%|█▉        | 77.34/406.83 [00:08<00:37,  8.82sec/s]\u001b[A\n",
      "Transcribe:  26%|██▋       | 107.34/406.83 [00:11<00:31,  9.50sec/s]\u001b[A\n",
      "Transcribe:  34%|███▍      | 137.34/406.83 [00:14<00:27,  9.64sec/s]\u001b[A\n",
      "Transcribe:  39%|███▉      | 160.22/406.83 [00:17<00:29,  8.44sec/s]\u001b[A\n",
      "Transcribe:  47%|████▋     | 190.22/406.83 [00:20<00:23,  9.40sec/s]\u001b[A\n",
      "Transcribe:  54%|█████▍    | 220.22/406.83 [00:23<00:19,  9.56sec/s]\u001b[A\n",
      "Transcribe:  62%|██████▏   | 250.22/406.83 [00:25<00:15, 10.22sec/s]\u001b[A\n",
      "Transcribe:  69%|██████▉   | 280.22/406.83 [00:29<00:12,  9.76sec/s]\u001b[A\n",
      "Transcribe:  76%|███████▋  | 310.22/406.83 [00:32<00:09,  9.97sec/s]\u001b[A\n",
      "Transcribe:  84%|████████▎ | 340.22/406.83 [00:34<00:06, 10.93sec/s]\u001b[A\n",
      "Transcribe:  91%|█████████ | 370.22/406.83 [00:37<00:03, 10.05sec/s]\u001b[A\n",
      "Transcribe:  98%|█████████▊| 400.22/406.83 [00:41<00:00,  9.75sec/s]\u001b[A\n",
      "Transcribe: 100%|█████████▉| 406.79/406.83 [00:42<00:00,  9.68sec/s]\u001b[A\n"
     ]
    },
    {
     "name": "stdout",
     "output_type": "stream",
     "text": [
      "Saved: /home/arveloic/MASCOT/stable_ts_json/stable_ts_audio_50.json\n"
     ]
    },
    {
     "name": "stderr",
     "output_type": "stream",
     "text": [
      "\n",
      "                                                    /s]\u001b[A\n",
      " 36%|███▋      | 12/33 [1:24:35<2:01:41, 347.69s/it]   \n",
      "Transcribe:   0%|          | 0/843.47 [00:00<?, ?sec/s]\u001b[A"
     ]
    },
    {
     "name": "stdout",
     "output_type": "stream",
     "text": [
      "Detected language: english\n"
     ]
    },
    {
     "name": "stderr",
     "output_type": "stream",
     "text": [
      "\n",
      "Transcribe:   4%|▎         | 30.0/843.47 [00:03<01:24,  9.66sec/s]\u001b[A\n",
      "Transcribe:   7%|▋         | 60.0/843.47 [00:07<01:40,  7.79sec/s]\u001b[A\n",
      "Transcribe:  11%|█         | 90.0/843.47 [00:11<01:37,  7.73sec/s]\u001b[A\n",
      "Transcribe:  14%|█▍        | 120.0/843.47 [00:15<01:31,  7.93sec/s]\u001b[A\n",
      "Transcribe:  18%|█▊        | 150.0/843.47 [00:19<01:30,  7.69sec/s]\u001b[A\n",
      "Transcribe:  21%|██▏       | 180.0/843.47 [00:22<01:25,  7.74sec/s]\u001b[A\n",
      "Transcribe:  25%|██▍       | 210.0/843.47 [00:26<01:18,  8.02sec/s]\u001b[A\n",
      "Transcribe:  28%|██▊       | 240.0/843.47 [00:29<01:10,  8.58sec/s]\u001b[A\n",
      "Transcribe:  32%|███▏      | 270.0/843.47 [00:32<01:02,  9.12sec/s]\u001b[A\n",
      "Transcribe:  36%|███▌      | 300.0/843.47 [00:36<01:04,  8.47sec/s]\u001b[A\n",
      "Transcribe:  39%|███▉      | 330.0/843.47 [00:40<01:01,  8.29sec/s]\u001b[A\n",
      "Transcribe:  43%|████▎     | 360.0/843.47 [00:43<00:57,  8.43sec/s]\u001b[A\n",
      "Transcribe:  46%|████▌     | 390.0/843.47 [00:46<00:52,  8.56sec/s]\u001b[A\n",
      "Transcribe:  50%|████▉     | 420.0/843.47 [00:51<00:53,  7.90sec/s]\u001b[A\n",
      "Transcribe:  53%|█████▎    | 450.0/843.47 [00:55<00:50,  7.84sec/s]\u001b[A\n",
      "Transcribe:  57%|█████▋    | 480.0/843.47 [01:04<01:06,  5.50sec/s]\u001b[A\n",
      "Transcribe:  60%|██████    | 510.0/843.47 [01:08<00:54,  6.14sec/s]\u001b[A\n",
      "Transcribe:  64%|██████▍   | 540.0/843.47 [01:11<00:46,  6.59sec/s]\u001b[A\n",
      "Transcribe:  68%|██████▊   | 570.0/843.47 [01:15<00:39,  6.84sec/s]\u001b[A\n",
      "Transcribe:  71%|███████   | 600.0/843.47 [01:19<00:33,  7.25sec/s]\u001b[A\n",
      "Transcribe:  75%|███████▍  | 630.0/843.47 [01:21<00:24,  8.89sec/s]\u001b[A\n",
      "Transcribe:  78%|███████▊  | 660.0/843.47 [01:23<00:18,  9.76sec/s]\u001b[A\n",
      "Transcribe:  82%|████████▏ | 690.0/843.47 [01:27<00:16,  9.21sec/s]\u001b[A\n",
      "Transcribe:  85%|████████▌ | 720.0/843.47 [01:29<00:12, 10.03sec/s]\u001b[A\n",
      "Transcribe:  89%|████████▉ | 749.0/843.47 [01:31<00:08, 10.81sec/s]\u001b[A\n",
      "Transcribe:  92%|█████████▏| 779.0/843.47 [01:32<00:04, 13.44sec/s]\u001b[A\n",
      "Transcribe:  96%|█████████▌| 809.0/843.47 [01:36<00:03, 11.12sec/s]\u001b[A\n",
      "Transcribe:  99%|█████████▉| 839.0/843.47 [01:40<00:00,  9.82sec/s]\u001b[A\n",
      "Transcribe: 100%|█████████▉| 843.42/843.47 [01:45<00:00,  8.02sec/s]\u001b[A\n"
     ]
    },
    {
     "name": "stdout",
     "output_type": "stream",
     "text": [
      "Saved: /home/arveloic/MASCOT/stable_ts_json/stable_ts_audio_51.json\n"
     ]
    },
    {
     "name": "stderr",
     "output_type": "stream",
     "text": [
      " 39%|███▉      | 13/33 [1:26:20<1:48:26, 325.34s/it]\n",
      "                                                    /s]\u001b[A\n",
      " 39%|███▉      | 13/33 [1:26:20<1:48:26, 325.34s/it]   \n",
      "Transcribe:   0%|          | 0/315.45 [00:00<?, ?sec/s]\u001b[A"
     ]
    },
    {
     "name": "stdout",
     "output_type": "stream",
     "text": [
      "Detected language: english\n"
     ]
    },
    {
     "name": "stderr",
     "output_type": "stream",
     "text": [
      "\n",
      "Transcribe:   8%|▊         | 25.44/315.45 [00:02<00:34,  8.49sec/s]\u001b[A\n",
      "Transcribe:  18%|█▊        | 55.44/315.45 [00:06<00:29,  8.95sec/s]\u001b[A\n",
      "Transcribe:  25%|██▌       | 79.02/315.45 [00:08<00:25,  9.10sec/s]\u001b[A\n",
      "Transcribe:  35%|███▍      | 109.02/315.45 [00:11<00:21,  9.71sec/s]\u001b[A\n",
      "Transcribe:  44%|████▍     | 139.02/315.45 [00:15<00:19,  9.01sec/s]\u001b[A\n",
      "Transcribe:  54%|█████▎    | 169.02/315.45 [00:17<00:14, 10.41sec/s]\u001b[A\n",
      "Transcribe:  62%|██████▏   | 194.34/315.45 [00:20<00:12,  9.84sec/s]\u001b[A\n",
      "Transcribe:  69%|██████▉   | 218.68/315.45 [00:23<00:10,  9.51sec/s]\u001b[A\n",
      "Transcribe:  79%|███████▉  | 248.68/315.45 [00:26<00:06,  9.57sec/s]\u001b[A\n",
      "Transcribe:  88%|████████▊ | 278.68/315.45 [00:29<00:03,  9.78sec/s]\u001b[A\n",
      "Transcribe:  98%|█████████▊| 308.68/315.45 [00:32<00:00,  9.38sec/s]\u001b[A\n",
      "Transcribe: 100%|█████████▉| 315.33/315.45 [00:33<00:00,  9.48sec/s]\u001b[A\n"
     ]
    },
    {
     "name": "stdout",
     "output_type": "stream",
     "text": [
      "Saved: /home/arveloic/MASCOT/stable_ts_json/stable_ts_audio_52.json\n"
     ]
    },
    {
     "name": "stderr",
     "output_type": "stream",
     "text": [
      "\n",
      "                                                    /s]\u001b[A\n",
      " 39%|███▉      | 13/33 [1:26:54<1:48:26, 325.34s/it]   \n",
      "Transcribe:   0%|          | 0/585.22 [00:00<?, ?sec/s]\u001b[A"
     ]
    },
    {
     "name": "stdout",
     "output_type": "stream",
     "text": [
      "Detected language: english\n"
     ]
    },
    {
     "name": "stderr",
     "output_type": "stream",
     "text": [
      "\n",
      "Transcribe:   5%|▍         | 28.0/585.22 [00:05<01:52,  4.96sec/s]\u001b[A\n",
      "Transcribe:  10%|▉         | 58.0/585.22 [00:10<01:35,  5.53sec/s]\u001b[A\n",
      "Transcribe:  15%|█▌        | 88.0/585.22 [00:13<01:11,  6.91sec/s]\u001b[A\n",
      "Transcribe:  20%|█▉        | 116.7/585.22 [00:19<01:15,  6.21sec/s]\u001b[A\n",
      "Transcribe:  25%|██▌       | 146.7/585.22 [00:23<01:07,  6.50sec/s]\u001b[A\n",
      "Transcribe:  30%|███       | 176.7/585.22 [00:26<00:57,  7.07sec/s]\u001b[A\n",
      "Transcribe:  35%|███▌      | 206.7/585.22 [00:32<00:59,  6.32sec/s]\u001b[A\n",
      "Transcribe:  40%|████      | 236.7/585.22 [00:37<00:56,  6.16sec/s]\u001b[A\n",
      "Transcribe:  46%|████▌     | 266.7/585.22 [00:43<00:53,  5.90sec/s]\u001b[A\n",
      "Transcribe:  51%|█████     | 296.7/585.22 [00:47<00:47,  6.07sec/s]\u001b[A\n",
      "Transcribe:  56%|█████▌    | 326.7/585.22 [00:53<00:43,  6.00sec/s]\u001b[A\n",
      "Transcribe:  61%|██████    | 356.7/585.22 [00:57<00:37,  6.12sec/s]\u001b[A\n",
      "Transcribe:  66%|██████▌   | 386.7/585.22 [01:02<00:32,  6.15sec/s]\u001b[A\n",
      "Transcribe:  71%|███████   | 416.7/585.22 [01:07<00:27,  6.08sec/s]\u001b[A\n",
      "Transcribe:  76%|███████▋  | 446.7/585.22 [01:12<00:22,  6.12sec/s]\u001b[A\n",
      "Transcribe:  81%|████████▏ | 476.7/585.22 [01:17<00:17,  6.13sec/s]\u001b[A\n",
      "Transcribe:  87%|████████▋ | 506.7/585.22 [01:22<00:12,  6.22sec/s]\u001b[A\n",
      "Transcribe:  92%|█████████▏| 536.7/585.22 [01:27<00:07,  6.12sec/s]\u001b[A\n",
      "Transcribe:  97%|█████████▋| 566.7/585.22 [01:31<00:02,  6.46sec/s]\u001b[A\n",
      "Transcribe: 100%|█████████▉| 585.19/585.22 [01:34<00:00,  6.21sec/s]\u001b[A\n"
     ]
    },
    {
     "name": "stdout",
     "output_type": "stream",
     "text": [
      "Saved: /home/arveloic/MASCOT/stable_ts_json/stable_ts_audio_53.json\n"
     ]
    },
    {
     "name": "stderr",
     "output_type": "stream",
     "text": [
      "\n",
      "                                                    /s]\u001b[A\n",
      " 39%|███▉      | 13/33 [1:28:28<1:48:26, 325.34s/it]   \n",
      "Transcribe:   0%|          | 0/641.97 [00:00<?, ?sec/s]\u001b[A"
     ]
    },
    {
     "name": "stdout",
     "output_type": "stream",
     "text": [
      "Detected language: english\n"
     ]
    },
    {
     "name": "stderr",
     "output_type": "stream",
     "text": [
      "\n",
      "Transcribe:   5%|▍         | 30.0/641.97 [00:02<00:57, 10.74sec/s]\u001b[A\n",
      "Transcribe:   8%|▊         | 54.04/641.97 [00:04<00:53, 11.04sec/s]\u001b[A\n",
      "Transcribe:  12%|█▏        | 75.52/641.97 [00:06<00:51, 11.04sec/s]\u001b[A\n",
      "Transcribe:  16%|█▋        | 105.52/641.97 [00:08<00:42, 12.62sec/s]\u001b[A\n",
      "Transcribe:  21%|██        | 135.52/641.97 [00:11<00:43, 11.60sec/s]\u001b[A\n",
      "Transcribe:  26%|██▌       | 165.52/641.97 [00:14<00:40, 11.75sec/s]\u001b[A\n",
      "Transcribe:  29%|██▉       | 189.22/641.97 [00:16<00:40, 11.27sec/s]\u001b[A\n",
      "Transcribe:  34%|███▍      | 217.32/641.97 [00:19<00:37, 11.29sec/s]\u001b[A\n",
      "Transcribe:  39%|███▊      | 247.32/641.97 [00:21<00:36, 10.92sec/s]\u001b[A\n",
      "Transcribe:  43%|████▎     | 277.32/641.97 [00:25<00:35, 10.30sec/s]\u001b[A\n",
      "Transcribe:  48%|████▊     | 307.32/641.97 [00:27<00:31, 10.52sec/s]\u001b[A\n",
      "Transcribe:  53%|█████▎    | 337.32/641.97 [00:29<00:25, 11.80sec/s]\u001b[A\n",
      "Transcribe:  57%|█████▋    | 367.32/641.97 [00:32<00:24, 11.12sec/s]\u001b[A\n",
      "Transcribe:  62%|██████▏   | 397.32/641.97 [00:36<00:24, 10.17sec/s]\u001b[A\n",
      "Transcribe:  67%|██████▋   | 427.32/641.97 [00:39<00:21, 10.11sec/s]\u001b[A\n",
      "Transcribe:  71%|███████   | 457.32/641.97 [00:41<00:17, 10.51sec/s]\u001b[A\n",
      "Transcribe:  75%|███████▌  | 482.12/641.97 [00:43<00:14, 10.91sec/s]\u001b[A\n",
      "Transcribe:  80%|███████▉  | 512.12/641.97 [00:46<00:11, 10.90sec/s]\u001b[A\n",
      "Transcribe:  84%|████████▍ | 542.12/641.97 [00:49<00:08, 11.13sec/s]\u001b[A\n",
      "Transcribe:  89%|████████▉ | 572.12/641.97 [00:52<00:06, 10.84sec/s]\u001b[A\n",
      "Transcribe:  94%|█████████▎| 600.58/641.97 [00:55<00:04, 10.03sec/s]\u001b[A\n",
      "Transcribe:  98%|█████████▊| 630.58/641.97 [00:59<00:01,  9.28sec/s]\u001b[A\n",
      "Transcribe: 100%|██████████| 641.97/641.97 [01:00<00:00, 10.66sec/s]\u001b[A\n"
     ]
    },
    {
     "name": "stdout",
     "output_type": "stream",
     "text": [
      "Saved: /home/arveloic/MASCOT/stable_ts_json/stable_ts_audio_54.json\n"
     ]
    },
    {
     "name": "stderr",
     "output_type": "stream",
     "text": [
      "\n",
      "                                                    /s]\u001b[A\n",
      " 39%|███▉      | 13/33 [1:29:29<1:48:26, 325.34s/it]   \n",
      "Transcribe:   0%|          | 0/921.07 [00:00<?, ?sec/s]\u001b[A"
     ]
    },
    {
     "name": "stdout",
     "output_type": "stream",
     "text": [
      "Detected language: english\n"
     ]
    },
    {
     "name": "stderr",
     "output_type": "stream",
     "text": [
      "\n",
      "Transcribe:   2%|▏         | 22.0/921.07 [00:02<01:59,  7.50sec/s]\u001b[A\n",
      "Transcribe:   6%|▌         | 52.0/921.07 [00:05<01:20, 10.79sec/s]\u001b[A\n",
      "Transcribe:   7%|▋         | 67.18/921.07 [00:07<01:32,  9.24sec/s]\u001b[A\n",
      "Transcribe:  11%|█         | 97.18/921.07 [00:07<00:53, 15.40sec/s]\u001b[A\n",
      "Transcribe:  14%|█▍        | 127.18/921.07 [00:09<00:52, 15.08sec/s]\u001b[A\n",
      "Transcribe:  17%|█▋        | 157.18/921.07 [00:13<01:04, 11.83sec/s]\u001b[A\n",
      "Transcribe:  20%|██        | 187.18/921.07 [00:17<01:15,  9.78sec/s]\u001b[A\n",
      "Transcribe:  24%|██▎       | 217.18/921.07 [00:20<01:09, 10.08sec/s]\u001b[A\n",
      "Transcribe:  27%|██▋       | 247.18/921.07 [00:24<01:16,  8.78sec/s]\u001b[A\n",
      "Transcribe:  27%|██▋       | 247.18/921.07 [00:41<01:16,  8.78sec/s]\u001b[A\n",
      "Transcribe:  30%|███       | 277.18/921.07 [00:52<03:56,  2.72sec/s]\u001b[A\n",
      "Transcribe:  33%|███▎      | 306.18/921.07 [00:57<03:12,  3.19sec/s]\u001b[A\n",
      "Transcribe:  36%|███▋      | 336.18/921.07 [01:03<02:39,  3.67sec/s]\u001b[A\n",
      "Transcribe:  40%|███▉      | 366.18/921.07 [01:09<02:21,  3.93sec/s]\u001b[A\n",
      "Transcribe:  43%|████▎     | 396.18/921.07 [01:13<01:55,  4.55sec/s]\u001b[A\n",
      "Transcribe:  46%|████▋     | 426.18/921.07 [01:18<01:41,  4.89sec/s]\u001b[A\n",
      "Transcribe:  50%|████▉     | 456.18/921.07 [01:22<01:25,  5.47sec/s]\u001b[A\n",
      "Transcribe:  53%|█████▎    | 486.18/921.07 [01:25<01:09,  6.30sec/s]\u001b[A\n",
      "Transcribe:  56%|█████▌    | 516.18/921.07 [01:30<01:05,  6.15sec/s]\u001b[A\n",
      "Transcribe:  59%|█████▉    | 546.18/921.07 [01:35<00:58,  6.40sec/s]\u001b[A\n",
      "Transcribe:  63%|██████▎   | 576.18/921.07 [01:38<00:48,  7.11sec/s]\u001b[A\n",
      "Transcribe:  66%|██████▌   | 606.18/921.07 [02:04<01:52,  2.80sec/s]\u001b[A\n",
      "Transcribe:  69%|██████▊   | 632.18/921.07 [02:07<01:24,  3.41sec/s]\u001b[A\n",
      "Transcribe:  70%|███████   | 646.18/921.07 [02:08<01:11,  3.82sec/s]\u001b[A\n",
      "Transcribe:  73%|███████▎  | 673.84/921.07 [02:11<00:50,  4.87sec/s]\u001b[A\n",
      "Transcribe:  76%|███████▋  | 703.84/921.07 [02:14<00:36,  5.95sec/s]\u001b[A\n",
      "Transcribe:  80%|███████▉  | 733.84/921.07 [02:16<00:26,  7.14sec/s]\u001b[A\n",
      "Transcribe:  83%|████████▎ | 763.84/921.07 [02:19<00:19,  8.06sec/s]\u001b[A\n",
      "Transcribe:  86%|████████▌ | 793.84/921.07 [02:23<00:16,  7.92sec/s]\u001b[A\n",
      "Transcribe:  89%|████████▉ | 823.84/921.07 [02:25<00:10,  9.04sec/s]\u001b[A\n",
      "Transcribe:  92%|█████████▏| 846.7/921.07 [02:28<00:08,  8.53sec/s] \u001b[A\n",
      "Transcribe:  94%|█████████▍| 868.02/921.07 [02:30<00:06,  8.82sec/s]\u001b[A\n",
      "Transcribe:  97%|█████████▋| 898.02/921.07 [02:32<00:02, 10.33sec/s]\u001b[A\n",
      "Transcribe: 100%|██████████| 921.07/921.07 [02:35<00:00,  5.94sec/s]\u001b[A\n"
     ]
    },
    {
     "name": "stdout",
     "output_type": "stream",
     "text": [
      "Saved: /home/arveloic/MASCOT/stable_ts_json/stable_ts_audio_55.json\n"
     ]
    },
    {
     "name": "stderr",
     "output_type": "stream",
     "text": [
      " 42%|████▏     | 14/33 [1:32:04<1:44:49, 331.03s/it]\n",
      "                                                    /s]\u001b[A\n",
      " 42%|████▏     | 14/33 [1:32:04<1:44:49, 331.03s/it]   \n",
      "Transcribe:   0%|          | 0/718.32 [00:00<?, ?sec/s]\u001b[A"
     ]
    },
    {
     "name": "stdout",
     "output_type": "stream",
     "text": [
      "Detected language: english\n"
     ]
    },
    {
     "name": "stderr",
     "output_type": "stream",
     "text": [
      "\n",
      "Transcribe:   4%|▍         | 27.74/718.32 [00:03<01:33,  7.38sec/s]\u001b[A\n",
      "Transcribe:   8%|▊         | 55.6/718.32 [00:07<01:32,  7.17sec/s] \u001b[A\n",
      "Transcribe:  12%|█▏        | 85.6/718.32 [00:11<01:21,  7.81sec/s]\u001b[A\n",
      "Transcribe:  16%|█▌        | 115.6/718.32 [00:15<01:17,  7.76sec/s]\u001b[A\n",
      "Transcribe:  20%|██        | 145.6/718.32 [00:19<01:14,  7.69sec/s]\u001b[A\n",
      "Transcribe:  24%|██▍       | 175.6/718.32 [00:22<01:09,  7.78sec/s]\u001b[A\n",
      "Transcribe:  29%|██▊       | 205.6/718.32 [00:27<01:12,  7.11sec/s]\u001b[A\n",
      "Transcribe:  33%|███▎      | 235.6/718.32 [00:31<01:05,  7.38sec/s]\u001b[A\n",
      "Transcribe:  37%|███▋      | 265.6/718.32 [00:34<00:58,  7.73sec/s]\u001b[A\n",
      "Transcribe:  41%|████      | 295.6/718.32 [00:38<00:52,  8.00sec/s]\u001b[A\n",
      "Transcribe:  45%|████▌     | 325.6/718.32 [00:42<00:48,  8.01sec/s]\u001b[A\n",
      "Transcribe:  50%|████▉     | 355.6/718.32 [00:46<00:46,  7.85sec/s]\u001b[A\n",
      "Transcribe:  54%|█████▎    | 385.6/718.32 [00:50<00:42,  7.83sec/s]\u001b[A\n",
      "Transcribe:  58%|█████▊    | 415.6/718.32 [00:54<00:39,  7.60sec/s]\u001b[A\n",
      "Transcribe:  62%|██████▏   | 445.6/718.32 [00:58<00:36,  7.45sec/s]\u001b[A\n",
      "Transcribe:  66%|██████▌   | 475.6/718.32 [01:01<00:29,  8.20sec/s]\u001b[A\n",
      "Transcribe:  70%|███████   | 505.6/718.32 [01:04<00:25,  8.41sec/s]\u001b[A\n",
      "Transcribe:  75%|███████▍  | 535.6/718.32 [01:07<00:21,  8.65sec/s]\u001b[A\n",
      "Transcribe:  79%|███████▊  | 565.6/718.32 [01:11<00:18,  8.18sec/s]\u001b[A\n",
      "Transcribe:  83%|████████▎ | 595.6/718.32 [01:15<00:14,  8.56sec/s]\u001b[A\n",
      "Transcribe:  87%|████████▋ | 625.6/718.32 [01:17<00:09,  9.28sec/s]\u001b[A\n",
      "Transcribe:  91%|█████████▏| 655.6/718.32 [01:22<00:07,  8.42sec/s]\u001b[A\n",
      "Transcribe:  95%|█████████▌| 685.6/718.32 [01:24<00:03,  9.16sec/s]\u001b[A\n",
      "Transcribe: 100%|██████████| 718.32/718.32 [01:29<00:00,  8.03sec/s][A\n"
     ]
    },
    {
     "name": "stdout",
     "output_type": "stream",
     "text": [
      "Saved: /home/arveloic/MASCOT/stable_ts_json/stable_ts_audio_56.json\n"
     ]
    },
    {
     "name": "stderr",
     "output_type": "stream",
     "text": [
      "\n",
      "                                                    /s]\u001b[A\n",
      " 42%|████▏     | 14/33 [1:33:34<1:44:49, 331.03s/it]   \n",
      "Transcribe:   0%|          | 0/566.02 [00:00<?, ?sec/s]\u001b[A"
     ]
    },
    {
     "name": "stdout",
     "output_type": "stream",
     "text": [
      "Detected language: english\n"
     ]
    },
    {
     "name": "stderr",
     "output_type": "stream",
     "text": [
      "\n",
      "Transcribe:   3%|▎         | 18.5/566.02 [00:01<00:45, 11.94sec/s]\u001b[A\n",
      "Transcribe:   7%|▋         | 39.54/566.02 [00:03<00:45, 11.65sec/s]\u001b[A\n",
      "Transcribe:  12%|█▏        | 68.1/566.02 [00:06<00:46, 10.65sec/s] \u001b[A\n",
      "Transcribe:  17%|█▋        | 98.1/566.02 [00:08<00:39, 11.70sec/s]\u001b[A\n",
      "Transcribe:  23%|██▎       | 128.1/566.02 [00:11<00:38, 11.35sec/s]\u001b[A\n",
      "Transcribe:  27%|██▋       | 155.5/566.02 [00:13<00:36, 11.22sec/s]\u001b[A\n",
      "Transcribe:  33%|███▎      | 185.5/566.02 [00:16<00:35, 10.79sec/s]\u001b[A\n",
      "Transcribe:  38%|███▊      | 215.5/566.02 [00:17<00:25, 13.73sec/s]\u001b[A\n",
      "Transcribe:  43%|████▎     | 245.5/566.02 [00:20<00:25, 12.67sec/s]\u001b[A\n",
      "Transcribe:  49%|████▊     | 275.5/566.02 [00:23<00:24, 11.90sec/s]\u001b[A\n",
      "Transcribe:  54%|█████▍    | 305.5/566.02 [00:25<00:22, 11.75sec/s]\u001b[A\n",
      "Transcribe:  59%|█████▉    | 335.5/566.02 [00:28<00:19, 11.74sec/s]\u001b[A\n",
      "Transcribe:  65%|██████▍   | 365.5/566.02 [00:31<00:17, 11.74sec/s]\u001b[A\n",
      "Transcribe:  70%|██████▉   | 395.5/566.02 [00:33<00:14, 11.89sec/s]\u001b[A\n",
      "Transcribe:  75%|███████▌  | 425.5/566.02 [00:36<00:12, 10.94sec/s]\u001b[A\n",
      "Transcribe:  80%|████████  | 455.5/566.02 [00:37<00:08, 13.39sec/s]\u001b[A\n",
      "Transcribe:  86%|████████▌ | 485.5/566.02 [00:40<00:06, 13.01sec/s]\u001b[A\n",
      "Transcribe:  91%|█████████ | 515.5/566.02 [00:42<00:03, 13.55sec/s]\u001b[A\n",
      "Transcribe:  94%|█████████▍| 533.0/566.02 [00:43<00:02, 13.06sec/s]\u001b[A\n",
      "Transcribe:  99%|█████████▉| 563.0/566.02 [00:53<00:00,  6.48sec/s]\u001b[A\n",
      "Transcribe: 100%|█████████▉| 565.91/566.02 [00:53<00:00, 10.55sec/s]\u001b[A\n"
     ]
    },
    {
     "name": "stdout",
     "output_type": "stream",
     "text": [
      "Saved: /home/arveloic/MASCOT/stable_ts_json/stable_ts_audio_57.json\n"
     ]
    },
    {
     "name": "stderr",
     "output_type": "stream",
     "text": [
      "\n",
      "                                                    c/s]\u001b[A\n",
      " 42%|████▏     | 14/33 [1:34:28<1:44:49, 331.03s/it]    \n",
      "Transcribe:   0%|          | 0/1843.61 [00:00<?, ?sec/s]\u001b[A"
     ]
    },
    {
     "name": "stdout",
     "output_type": "stream",
     "text": [
      "Detected language: english\n"
     ]
    },
    {
     "name": "stderr",
     "output_type": "stream",
     "text": [
      "\n",
      "Transcribe:   1%|▏         | 27.0/1843.61 [00:04<04:41,  6.46sec/s]\u001b[A\n",
      "Transcribe:   3%|▎         | 54.82/1843.61 [00:07<04:06,  7.27sec/s]\u001b[A\n",
      "Transcribe:   5%|▍         | 83.48/1843.61 [00:12<04:12,  6.96sec/s]\u001b[A\n",
      "Transcribe:   6%|▌         | 113.48/1843.61 [00:18<05:05,  5.66sec/s]\u001b[A\n",
      "Transcribe:   8%|▊         | 142.08/1843.61 [00:24<05:10,  5.48sec/s]\u001b[A\n",
      "Transcribe:   9%|▉         | 171.68/1843.61 [00:30<05:26,  5.12sec/s]\u001b[A\n",
      "Transcribe:  11%|█         | 201.68/1843.61 [00:35<04:57,  5.52sec/s]\u001b[A\n",
      "Transcribe:  13%|█▎        | 231.68/1843.61 [00:40<04:42,  5.71sec/s]\u001b[A\n",
      "Transcribe:  14%|█▍        | 261.68/1843.61 [00:46<04:47,  5.50sec/s]\u001b[A\n",
      "Transcribe:  16%|█▌        | 291.68/1843.61 [00:52<04:52,  5.31sec/s]\u001b[A\n",
      "Transcribe:  17%|█▋        | 321.68/1843.61 [00:59<05:08,  4.93sec/s]\u001b[A\n",
      "Transcribe:  19%|█▉        | 351.68/1843.61 [01:05<04:58,  5.00sec/s]\u001b[A\n",
      "Transcribe:  21%|██        | 381.68/1843.61 [01:10<04:48,  5.06sec/s]\u001b[A\n",
      "Transcribe:  22%|██▏       | 411.68/1843.61 [01:15<04:31,  5.28sec/s]\u001b[A\n",
      "Transcribe:  24%|██▍       | 441.28/1843.61 [01:21<04:25,  5.28sec/s]\u001b[A\n",
      "Transcribe:  26%|██▌       | 471.28/1843.61 [01:26<04:09,  5.49sec/s]\u001b[A\n",
      "Transcribe:  27%|██▋       | 501.28/1843.61 [01:31<03:59,  5.61sec/s]\u001b[A\n",
      "Transcribe:  29%|██▉       | 531.28/1843.61 [01:36<03:48,  5.74sec/s]\u001b[A\n",
      "Transcribe:  30%|███       | 559.88/1843.61 [01:41<03:41,  5.81sec/s]\u001b[A\n",
      "Transcribe:  32%|███▏      | 588.68/1843.61 [01:46<03:38,  5.75sec/s]\u001b[A\n",
      "Transcribe:  34%|███▎      | 618.68/1843.61 [01:49<03:09,  6.45sec/s]\u001b[A\n",
      "Transcribe:  35%|███▌      | 648.68/1843.61 [01:53<02:58,  6.71sec/s]\u001b[A\n",
      "Transcribe:  37%|███▋      | 678.68/1843.61 [01:57<02:38,  7.35sec/s]\u001b[A\n",
      "Transcribe:  38%|███▊      | 707.68/1843.61 [02:01<02:37,  7.23sec/s]\u001b[A\n",
      "Transcribe:  40%|███▉      | 736.68/1843.61 [02:06<02:46,  6.63sec/s]\u001b[A\n",
      "Transcribe:  42%|████▏     | 766.68/1843.61 [02:10<02:39,  6.76sec/s]\u001b[A\n",
      "Transcribe:  43%|████▎     | 796.68/1843.61 [02:14<02:25,  7.18sec/s]\u001b[A\n",
      "Transcribe:  45%|████▍     | 826.68/1843.61 [02:18<02:19,  7.29sec/s]\u001b[A\n",
      "Transcribe:  46%|████▋     | 856.68/1843.61 [02:21<02:09,  7.60sec/s]\u001b[A\n",
      "Transcribe:  48%|████▊     | 886.68/1843.61 [02:25<02:00,  7.95sec/s]\u001b[A\n",
      "Transcribe:  50%|████▉     | 916.68/1843.61 [02:28<01:56,  7.93sec/s]\u001b[A\n",
      "Transcribe:  51%|█████▏    | 946.68/1843.61 [02:34<02:05,  7.14sec/s]\u001b[A\n",
      "Transcribe:  53%|█████▎    | 973.68/1843.61 [02:38<02:07,  6.80sec/s]\u001b[A\n",
      "Transcribe:  54%|█████▍    | 1003.68/1843.61 [02:42<02:00,  6.98sec/s]\u001b[A\n",
      "Transcribe:  56%|█████▌    | 1033.68/1843.61 [02:48<02:05,  6.45sec/s]\u001b[A\n",
      "Transcribe:  58%|█████▊    | 1062.28/1843.61 [02:53<02:07,  6.12sec/s]\u001b[A\n",
      "Transcribe:  59%|█████▉    | 1092.28/1843.61 [02:57<02:00,  6.22sec/s]\u001b[A\n",
      "Transcribe:  61%|██████    | 1122.28/1843.61 [03:02<01:50,  6.52sec/s]\u001b[A\n",
      "Transcribe:  62%|██████▏   | 1151.68/1843.61 [03:32<04:47,  2.41sec/s]\u001b[A\n",
      "Transcribe:  64%|██████▍   | 1179.16/1843.61 [03:36<03:47,  2.93sec/s]\u001b[A\n",
      "Transcribe:  66%|██████▌   | 1209.16/1843.61 [03:41<02:58,  3.55sec/s]\u001b[A\n",
      "Transcribe:  67%|██████▋   | 1239.16/1843.61 [03:44<02:19,  4.32sec/s]\u001b[A\n",
      "Transcribe:  69%|██████▉   | 1269.16/1843.61 [03:48<01:55,  4.96sec/s]\u001b[A\n",
      "Transcribe:  70%|███████   | 1299.16/1843.61 [03:53<01:42,  5.30sec/s]\u001b[A\n",
      "Transcribe:  72%|███████▏  | 1329.16/1843.61 [03:58<01:34,  5.44sec/s]\u001b[A\n",
      "Transcribe:  74%|███████▎  | 1359.16/1843.61 [04:18<02:38,  3.06sec/s]\u001b[A\n",
      "Transcribe:  75%|███████▌  | 1389.16/1843.61 [04:21<01:57,  3.85sec/s]\u001b[A\n",
      "Transcribe:  77%|███████▋  | 1419.16/1843.61 [04:24<01:32,  4.61sec/s]\u001b[A\n",
      "Transcribe:  79%|███████▊  | 1448.3/1843.61 [04:29<01:18,  5.02sec/s] \u001b[A\n",
      "Transcribe:  80%|████████  | 1478.3/1843.61 [04:49<02:02,  2.97sec/s]\u001b[A\n",
      "Transcribe:  82%|████████▏ | 1507.3/1843.61 [04:53<01:34,  3.57sec/s]\u001b[A\n",
      "Transcribe:  83%|████████▎ | 1536.3/1843.61 [05:34<03:10,  1.61sec/s]\u001b[A\n",
      "Transcribe:  85%|████████▍ | 1562.3/1843.61 [05:38<02:17,  2.04sec/s]\u001b[A\n",
      "Transcribe:  86%|████████▋ | 1592.3/1843.61 [05:43<01:36,  2.60sec/s]\u001b[A\n",
      "Transcribe:  88%|████████▊ | 1622.3/1843.61 [05:48<01:11,  3.10sec/s]\u001b[A\n",
      "Transcribe:  90%|████████▉ | 1651.3/1843.61 [05:53<00:53,  3.57sec/s]\u001b[A\n",
      "Transcribe:  91%|█████████ | 1679.3/1843.61 [05:58<00:40,  4.04sec/s]\u001b[A\n",
      "Transcribe:  93%|█████████▎| 1708.3/1843.61 [06:03<00:30,  4.42sec/s]\u001b[A\n",
      "Transcribe:  94%|█████████▍| 1738.3/1843.61 [06:09<00:22,  4.68sec/s]\u001b[A\n",
      "Transcribe:  96%|█████████▌| 1768.3/1843.61 [06:11<00:13,  5.72sec/s]\u001b[A\n",
      "Transcribe:  98%|█████████▊| 1798.3/1843.61 [06:15<00:07,  6.15sec/s]\u001b[A\n",
      "Transcribe:  99%|█████████▉| 1827.3/1843.61 [06:19<00:02,  6.55sec/s]\u001b[A\n",
      "Transcribe: 100%|██████████| 1843.61/1843.61 [06:22<00:00,  4.82sec/s]\u001b[A\n"
     ]
    },
    {
     "name": "stdout",
     "output_type": "stream",
     "text": [
      "Saved: /home/arveloic/MASCOT/stable_ts_json/stable_ts_audio_58.json\n"
     ]
    },
    {
     "name": "stderr",
     "output_type": "stream",
     "text": [
      "\n",
      "                                                    /s]\u001b[A\n",
      " 42%|████▏     | 14/33 [1:40:51<1:44:49, 331.03s/it]   \n",
      "Transcribe:   0%|          | 0/214.49 [00:00<?, ?sec/s]\u001b[A"
     ]
    },
    {
     "name": "stdout",
     "output_type": "stream",
     "text": [
      "Detected language: english\n"
     ]
    },
    {
     "name": "stderr",
     "output_type": "stream",
     "text": [
      "\n",
      "Transcribe:  14%|█▎        | 29.26/214.49 [00:03<00:19,  9.59sec/s]\u001b[A\n",
      "Transcribe:  23%|██▎       | 50.18/214.49 [00:04<00:15, 10.48sec/s]\u001b[A\n",
      "Transcribe:  34%|███▍      | 73.5/214.49 [00:07<00:15,  9.35sec/s] \u001b[A\n",
      "Transcribe:  48%|████▊     | 103.5/214.49 [00:10<00:11,  9.69sec/s]\u001b[A\n",
      "Transcribe:  62%|██████▏   | 133.5/214.49 [00:13<00:08,  9.88sec/s]\u001b[A\n",
      "Transcribe:  76%|███████▌  | 163.5/214.49 [00:17<00:05,  9.09sec/s]\u001b[A\n",
      "Transcribe:  90%|█████████ | 193.5/214.49 [00:20<00:02,  9.47sec/s]\u001b[A\n",
      "Transcribe: 100%|█████████▉| 214.42/214.49 [00:22<00:00,  9.56sec/s]\u001b[A\n"
     ]
    },
    {
     "name": "stdout",
     "output_type": "stream",
     "text": [
      "Saved: /home/arveloic/MASCOT/stable_ts_json/stable_ts_audio_59.json\n"
     ]
    },
    {
     "name": "stderr",
     "output_type": "stream",
     "text": [
      " 45%|████▌     | 15/33 [1:41:13<1:59:02, 396.80s/it]\n",
      "                                                    /s]\u001b[A\n",
      " 45%|████▌     | 15/33 [1:41:14<1:59:02, 396.80s/it]   \n",
      "Transcribe:   0%|          | 0/597.37 [00:00<?, ?sec/s]\u001b[A"
     ]
    },
    {
     "name": "stdout",
     "output_type": "stream",
     "text": [
      "Detected language: english\n"
     ]
    },
    {
     "name": "stderr",
     "output_type": "stream",
     "text": [
      "\n",
      "Transcribe:   5%|▍         | 27.0/597.37 [00:03<01:16,  7.47sec/s]\u001b[A\n",
      "Transcribe:  10%|▉         | 57.0/597.37 [00:08<01:23,  6.46sec/s]\u001b[A\n",
      "Transcribe:  14%|█▍        | 83.0/597.37 [00:12<01:17,  6.64sec/s]\u001b[A\n",
      "Transcribe:  19%|█▉        | 113.0/597.37 [00:15<01:00,  7.97sec/s]\u001b[A\n",
      "Transcribe:  24%|██▍       | 143.0/597.37 [00:16<00:45,  9.94sec/s]\u001b[A\n",
      "Transcribe:  29%|██▉       | 173.0/597.37 [00:19<00:42,  9.95sec/s]\u001b[A\n",
      "Transcribe:  34%|███▍      | 203.0/597.37 [00:23<00:40,  9.78sec/s]\u001b[A\n",
      "Transcribe:  39%|███▉      | 233.0/597.37 [00:25<00:33, 11.01sec/s]\u001b[A\n",
      "Transcribe:  44%|████▍     | 263.0/597.37 [00:27<00:30, 11.05sec/s]\u001b[A\n",
      "Transcribe:  49%|████▉     | 293.0/597.37 [00:30<00:27, 10.89sec/s]\u001b[A\n",
      "Transcribe:  54%|█████▍    | 323.0/597.37 [00:34<00:27,  9.81sec/s]\u001b[A\n",
      "Transcribe:  59%|█████▉    | 353.0/597.37 [00:36<00:22, 10.70sec/s]\u001b[A\n",
      "Transcribe:  64%|██████▍   | 383.0/597.37 [00:40<00:21,  9.87sec/s]\u001b[A\n",
      "Transcribe:  69%|██████▉   | 413.0/597.37 [00:42<00:17, 10.44sec/s]\u001b[A\n",
      "Transcribe:  74%|███████▍  | 443.0/597.37 [00:45<00:14, 10.96sec/s]\u001b[A\n",
      "Transcribe:  79%|███████▉  | 473.0/597.37 [00:48<00:11, 10.49sec/s]\u001b[A\n",
      "Transcribe:  84%|████████▍ | 503.0/597.37 [00:50<00:08, 11.53sec/s]\u001b[A\n",
      "Transcribe:  89%|████████▉ | 530.26/597.37 [00:53<00:06, 10.54sec/s]\u001b[A\n",
      "Transcribe:  94%|█████████▍| 560.26/597.37 [00:56<00:03,  9.94sec/s]\u001b[A\n",
      "Transcribe:  99%|█████████▉| 590.26/597.37 [00:59<00:00,  9.84sec/s]\u001b[A\n",
      "Transcribe: 100%|█████████▉| 597.25/597.37 [01:00<00:00,  9.86sec/s]\u001b[A\n"
     ]
    },
    {
     "name": "stdout",
     "output_type": "stream",
     "text": [
      "Saved: /home/arveloic/MASCOT/stable_ts_json/stable_ts_audio_60.json\n"
     ]
    },
    {
     "name": "stderr",
     "output_type": "stream",
     "text": [
      "\n",
      "                                                    /s]\u001b[A\n",
      " 45%|████▌     | 15/33 [1:42:14<1:59:02, 396.80s/it]   \n",
      "Transcribe:   0%|          | 0/799.72 [00:00<?, ?sec/s]\u001b[A"
     ]
    },
    {
     "name": "stdout",
     "output_type": "stream",
     "text": [
      "Detected language: english\n"
     ]
    },
    {
     "name": "stderr",
     "output_type": "stream",
     "text": [
      "\n",
      "Transcribe:   4%|▎         | 29.3/799.72 [00:04<01:51,  6.90sec/s]\u001b[A\n",
      "Transcribe:   7%|▋         | 57.72/799.72 [00:08<01:42,  7.21sec/s]\u001b[A\n",
      "Transcribe:  11%|█         | 87.72/799.72 [00:11<01:28,  8.09sec/s]\u001b[A\n",
      "Transcribe:  14%|█▍        | 113.14/799.72 [00:14<01:22,  8.37sec/s]\u001b[A\n",
      "Transcribe:  18%|█▊        | 143.14/799.72 [00:16<01:11,  9.12sec/s]\u001b[A\n",
      "Transcribe:  22%|██▏       | 173.14/799.72 [00:20<01:10,  8.86sec/s]\u001b[A\n",
      "Transcribe:  25%|██▌       | 203.14/799.72 [00:24<01:11,  8.35sec/s]\u001b[A\n",
      "Transcribe:  29%|██▉       | 233.14/799.72 [00:29<01:13,  7.70sec/s]\u001b[A\n",
      "Transcribe:  33%|███▎      | 263.14/799.72 [00:33<01:10,  7.62sec/s]\u001b[A\n",
      "Transcribe:  37%|███▋      | 293.14/799.72 [00:36<01:01,  8.22sec/s]\u001b[A\n",
      "Transcribe:  40%|████      | 323.14/799.72 [00:39<00:58,  8.10sec/s]\u001b[A\n",
      "Transcribe:  44%|████▍     | 353.14/799.72 [00:42<00:51,  8.72sec/s]\u001b[A\n",
      "Transcribe:  48%|████▊     | 383.14/799.72 [00:46<00:50,  8.30sec/s]\u001b[A\n",
      "Transcribe:  52%|█████▏    | 413.14/799.72 [00:50<00:47,  8.18sec/s]\u001b[A\n",
      "Transcribe:  55%|█████▌    | 443.14/799.72 [00:53<00:40,  8.77sec/s]\u001b[A\n",
      "Transcribe:  59%|█████▉    | 472.42/799.72 [00:57<00:41,  7.96sec/s]\u001b[A\n",
      "Transcribe:  63%|██████▎   | 502.42/799.72 [01:02<00:38,  7.71sec/s]\u001b[A\n",
      "Transcribe:  67%|██████▋   | 532.42/799.72 [01:06<00:35,  7.50sec/s]\u001b[A\n",
      "Transcribe:  70%|███████   | 562.42/799.72 [01:10<00:31,  7.57sec/s]\u001b[A\n",
      "Transcribe:  74%|███████▍  | 592.42/799.72 [01:14<00:27,  7.64sec/s]\u001b[A\n",
      "Transcribe:  78%|███████▊  | 622.42/799.72 [01:17<00:22,  7.90sec/s]\u001b[A\n",
      "Transcribe:  82%|████████▏ | 652.42/799.72 [01:21<00:18,  7.82sec/s]\u001b[A\n",
      "Transcribe:  85%|████████▌ | 682.42/799.72 [01:31<00:22,  5.21sec/s]\u001b[A\n",
      "Transcribe:  89%|████████▉ | 712.42/799.72 [01:35<00:15,  5.74sec/s]\u001b[A\n",
      "Transcribe:  93%|█████████▎| 742.42/799.72 [01:38<00:08,  6.72sec/s]\u001b[A\n",
      "Transcribe:  97%|█████████▋| 772.42/799.72 [01:41<00:03,  7.60sec/s]\u001b[A\n",
      "Transcribe: 100%|██████████| 799.72/799.72 [01:44<00:00,  7.67sec/s]\u001b[A\n"
     ]
    },
    {
     "name": "stdout",
     "output_type": "stream",
     "text": [
      "Saved: /home/arveloic/MASCOT/stable_ts_json/stable_ts_audio_61.json\n"
     ]
    },
    {
     "name": "stderr",
     "output_type": "stream",
     "text": [
      "\n",
      "                                                    /s]\u001b[A\n",
      " 45%|████▌     | 15/33 [1:43:59<1:59:02, 396.80s/it]   \n",
      "Transcribe:   0%|          | 0/819.89 [00:00<?, ?sec/s]\u001b[A"
     ]
    },
    {
     "name": "stdout",
     "output_type": "stream",
     "text": [
      "Detected language: english\n"
     ]
    },
    {
     "name": "stderr",
     "output_type": "stream",
     "text": [
      "\n",
      "Transcribe:   3%|▎         | 23.0/819.89 [00:03<02:08,  6.20sec/s]\u001b[A\n",
      "Transcribe:   6%|▌         | 51.0/819.89 [00:06<01:38,  7.80sec/s]\u001b[A\n",
      "Transcribe:  10%|▉         | 81.0/819.89 [00:11<01:47,  6.87sec/s]\u001b[A\n",
      "Transcribe:  14%|█▎        | 111.0/819.89 [00:15<01:35,  7.39sec/s]\u001b[A\n",
      "Transcribe:  17%|█▋        | 141.0/819.89 [00:18<01:25,  7.93sec/s]\u001b[A\n",
      "Transcribe:  21%|██        | 169.0/819.89 [00:23<01:30,  7.17sec/s]\u001b[A\n",
      "Transcribe:  24%|██▍       | 198.0/819.89 [00:27<01:29,  6.92sec/s]\u001b[A\n",
      "Transcribe:  28%|██▊       | 228.0/819.89 [00:31<01:21,  7.23sec/s]\u001b[A\n",
      "Transcribe:  31%|███▏      | 257.0/819.89 [00:35<01:17,  7.26sec/s]\u001b[A\n",
      "Transcribe:  35%|███▌      | 287.0/819.89 [00:39<01:10,  7.51sec/s]\u001b[A\n",
      "Transcribe:  39%|███▊      | 316.0/819.89 [00:43<01:08,  7.36sec/s]\u001b[A\n",
      "Transcribe:  42%|████▏     | 345.0/819.89 [00:47<01:07,  6.99sec/s]\u001b[A\n",
      "Transcribe:  46%|████▌     | 374.0/819.89 [00:52<01:04,  6.92sec/s]\u001b[A\n",
      "Transcribe:  49%|████▉     | 404.0/819.89 [01:04<01:35,  4.37sec/s]\u001b[A\n",
      "Transcribe:  53%|█████▎    | 432.0/819.89 [01:09<01:22,  4.70sec/s]\u001b[A\n",
      "Transcribe:  56%|█████▌    | 461.0/819.89 [01:27<01:59,  3.00sec/s]\u001b[A\n",
      "Transcribe:  60%|█████▉    | 491.0/819.89 [01:33<01:35,  3.46sec/s]\u001b[A\n",
      "Transcribe:  63%|██████▎   | 520.0/819.89 [01:41<01:27,  3.41sec/s]\u001b[A\n",
      "Transcribe:  67%|██████▋   | 550.0/819.89 [02:01<01:48,  2.49sec/s]\u001b[A\n",
      "Transcribe:  71%|███████   | 579.96/819.89 [02:36<02:31,  1.58sec/s]\u001b[A\n",
      "Transcribe:  74%|███████▍  | 609.96/819.89 [02:40<01:42,  2.04sec/s]\u001b[A\n",
      "Transcribe:  78%|███████▊  | 639.96/819.89 [02:45<01:09,  2.59sec/s]\u001b[A\n",
      "Transcribe:  82%|████████▏ | 669.96/819.89 [02:49<00:46,  3.26sec/s]\u001b[A\n",
      "Transcribe:  85%|████████▌ | 698.9/819.89 [03:08<00:49,  2.44sec/s] \u001b[A\n",
      "Transcribe:  89%|████████▉ | 728.9/819.89 [03:14<00:31,  2.86sec/s]\u001b[A"
     ]
    }
   ],
   "source": [
    "# Process the audio files in batches\n",
    "BATCH_SIZE = 4\n",
    "process_audio_batch(model, audio_files, batch_size=BATCH_SIZE)"
   ]
  },
  {
   "cell_type": "code",
   "execution_count": 7,
   "id": "22738f9a-0fc7-4538-bbf4-891967cd6912",
   "metadata": {},
   "outputs": [],
   "source": [
    "audio_folder = \"Audio_Files/\"\n",
    "audio_files = [os.path.join(audio_folder, f) for f in os.listdir(audio_folder) if f.endswith(('.mp3', '.wav'))]"
   ]
  },
  {
   "cell_type": "code",
   "execution_count": 8,
   "id": "d9048102-3397-412f-a5bc-674ef47ac22e",
   "metadata": {},
   "outputs": [
    {
     "data": {
      "text/plain": [
       "'Audio_Files/008-7.mp3'"
      ]
     },
     "execution_count": 8,
     "metadata": {},
     "output_type": "execute_result"
    }
   ],
   "source": [
    "audio_files[0]"
   ]
  },
  {
   "cell_type": "code",
   "execution_count": 13,
   "id": "d453d721-504e-4669-a565-9cdac88e8912",
   "metadata": {},
   "outputs": [],
   "source": [
    "# Directory where your JSON files are saved\n",
    "json_folder = 'stable_ts_json'\n",
    "\n",
    "# List to hold all the data\n",
    "data = []\n",
    "\n",
    "# Loop through all JSON files in the directory\n",
    "for i, filename in enumerate(os.listdir(json_folder)):\n",
    "    if filename.endswith('.json'):\n",
    "        clip_name = audio_files[i].split(\"/\")[1].split(\".\")[0]\n",
    "        file_path = os.path.join(json_folder, filename)\n",
    "        \n",
    "        # Open and load the JSON file\n",
    "        with open(file_path, 'r') as f:\n",
    "            result = json.load(f)\n",
    "            \n",
    "            # Check if 'segments' are in the JSON\n",
    "            if 'segments' in result:\n",
    "                for segment in result['segments']:\n",
    "                    # Extract the required fields\n",
    "                    text = segment.get('text', '')\n",
    "                    start = segment.get('start', None)\n",
    "                    end = segment.get('end', None)\n",
    "                    \n",
    "                    # Append to the data list\n",
    "                    data.append({\n",
    "                        'clip_name': clip_name,\n",
    "                        'text': text,\n",
    "                        'start': start,\n",
    "                        'end': end\n",
    "                    })"
   ]
  },
  {
   "cell_type": "code",
   "execution_count": 14,
   "id": "aab0c077-206a-4525-a3f1-d0a0a595f3dd",
   "metadata": {},
   "outputs": [],
   "source": [
    "# Create a DataFrame from the data list\n",
    "df = pd.DataFrame(data)"
   ]
  },
  {
   "cell_type": "code",
   "execution_count": 15,
   "id": "29020c86-022e-479c-a444-969dc292dbe0",
   "metadata": {},
   "outputs": [
    {
     "data": {
      "text/html": [
       "<div>\n",
       "<style scoped>\n",
       "    .dataframe tbody tr th:only-of-type {\n",
       "        vertical-align: middle;\n",
       "    }\n",
       "\n",
       "    .dataframe tbody tr th {\n",
       "        vertical-align: top;\n",
       "    }\n",
       "\n",
       "    .dataframe thead th {\n",
       "        text-align: right;\n",
       "    }\n",
       "</style>\n",
       "<table border=\"1\" class=\"dataframe\">\n",
       "  <thead>\n",
       "    <tr style=\"text-align: right;\">\n",
       "      <th></th>\n",
       "      <th>clip_name</th>\n",
       "      <th>text</th>\n",
       "      <th>start</th>\n",
       "      <th>end</th>\n",
       "    </tr>\n",
       "  </thead>\n",
       "  <tbody>\n",
       "    <tr>\n",
       "      <th>0</th>\n",
       "      <td>008-7</td>\n",
       "      <td>Good morning.</td>\n",
       "      <td>2.36</td>\n",
       "      <td>2.76</td>\n",
       "    </tr>\n",
       "    <tr>\n",
       "      <th>1</th>\n",
       "      <td>008-7</td>\n",
       "      <td>Today is Tuesday,</td>\n",
       "      <td>2.82</td>\n",
       "      <td>4.70</td>\n",
       "    </tr>\n",
       "    <tr>\n",
       "      <th>2</th>\n",
       "      <td>008-7</td>\n",
       "      <td>April 8th.</td>\n",
       "      <td>5.08</td>\n",
       "      <td>6.64</td>\n",
       "    </tr>\n",
       "    <tr>\n",
       "      <th>3</th>\n",
       "      <td>008-7</td>\n",
       "      <td>Okay, you guys are doing a wonderful job sitt...</td>\n",
       "      <td>10.55</td>\n",
       "      <td>17.86</td>\n",
       "    </tr>\n",
       "    <tr>\n",
       "      <th>4</th>\n",
       "      <td>008-7</td>\n",
       "      <td>But we know Terry is going to be himself toge...</td>\n",
       "      <td>18.16</td>\n",
       "      <td>21.06</td>\n",
       "    </tr>\n",
       "  </tbody>\n",
       "</table>\n",
       "</div>"
      ],
      "text/plain": [
       "  clip_name                                               text  start    end\n",
       "0     008-7                                      Good morning.   2.36   2.76\n",
       "1     008-7                                  Today is Tuesday,   2.82   4.70\n",
       "2     008-7                                         April 8th.   5.08   6.64\n",
       "3     008-7   Okay, you guys are doing a wonderful job sitt...  10.55  17.86\n",
       "4     008-7   But we know Terry is going to be himself toge...  18.16  21.06"
      ]
     },
     "execution_count": 15,
     "metadata": {},
     "output_type": "execute_result"
    }
   ],
   "source": [
    "df.head()"
   ]
  },
  {
   "cell_type": "code",
   "execution_count": 17,
   "id": "a845b744-08ca-437a-b04a-87c3acd46c56",
   "metadata": {},
   "outputs": [
    {
     "data": {
      "text/plain": [
       "131"
      ]
     },
     "execution_count": 17,
     "metadata": {},
     "output_type": "execute_result"
    }
   ],
   "source": [
    "df[\"clip_name\"].nunique()"
   ]
  },
  {
   "cell_type": "code",
   "execution_count": 19,
   "id": "691a24b2-9d9b-4fac-900f-296b6facdc38",
   "metadata": {},
   "outputs": [],
   "source": [
    "df.to_csv(\"stable_ts_utterances.csv\", index =  False)"
   ]
  },
  {
   "cell_type": "code",
   "execution_count": null,
   "id": "e0dc34cd-a5ea-43e8-b3ba-6116d06980ed",
   "metadata": {},
   "outputs": [],
   "source": []
  },
  {
   "cell_type": "code",
   "execution_count": null,
   "id": "1de49c1d-9a4e-42fa-a8e4-fc0a73c8c5f4",
   "metadata": {},
   "outputs": [],
   "source": []
  },
  {
   "cell_type": "code",
   "execution_count": null,
   "id": "22146486-b17d-4809-bc60-a629d272a925",
   "metadata": {},
   "outputs": [],
   "source": []
  },
  {
   "cell_type": "code",
   "execution_count": null,
   "id": "098fb922-a036-4f8a-9634-cd7ef436dd0e",
   "metadata": {},
   "outputs": [],
   "source": []
  },
  {
   "cell_type": "code",
   "execution_count": null,
   "id": "1b092608-9a8d-45ca-b4d4-6dc200425afd",
   "metadata": {},
   "outputs": [],
   "source": []
  },
  {
   "cell_type": "code",
   "execution_count": null,
   "id": "d925e99c-3b14-496a-b3a8-8fb23b8f75f0",
   "metadata": {},
   "outputs": [],
   "source": []
  },
  {
   "cell_type": "code",
   "execution_count": null,
   "id": "0ab8686e-0b94-47d5-864f-7decb7f5ddf8",
   "metadata": {},
   "outputs": [],
   "source": []
  },
  {
   "cell_type": "code",
   "execution_count": null,
   "id": "09ac323b-3e48-4b48-957a-3d12c8af1ee8",
   "metadata": {},
   "outputs": [],
   "source": []
  },
  {
   "cell_type": "markdown",
   "id": "71081362-cf1f-4219-a6d7-ffc4a3eb019f",
   "metadata": {},
   "source": [
    "## Define Whisper Pipeline"
   ]
  },
  {
   "cell_type": "code",
   "execution_count": 12,
   "id": "dbab54e1-359e-41b1-8aa6-417663534e15",
   "metadata": {},
   "outputs": [
    {
     "name": "stderr",
     "output_type": "stream",
     "text": [
      "Special tokens have been added in the vocabulary, make sure the associated word embeddings are fine-tuned or trained.\n"
     ]
    }
   ],
   "source": [
    "model_id = \"openai/whisper-large-v3\"\n",
    "\n",
    "model = AutoModelForSpeechSeq2Seq.from_pretrained(\n",
    "    model_id, torch_dtype=torch_dtype, low_cpu_mem_usage=True, use_safetensors=True\n",
    ")\n",
    "model.to(device)\n",
    "\n",
    "processor = AutoProcessor.from_pretrained(model_id)\n",
    "\n",
    "pipe = pipeline(\n",
    "    \"automatic-speech-recognition\",\n",
    "    model=model,\n",
    "    tokenizer=processor.tokenizer,\n",
    "    feature_extractor=processor.feature_extractor,\n",
    "    max_new_tokens=128,\n",
    "    chunk_length_s=30,\n",
    "    batch_size=BATCH_SIZE,\n",
    "    return_timestamps=True,\n",
    "    torch_dtype=torch_dtype,\n",
    "    device=device,\n",
    "    generate_kwargs={\"language\": \"english\"},\n",
    ")\n",
    "\n",
    "def iterate_data(dataset):\n",
    "    for i, item in enumerate(dataset):\n",
    "        yield item[\"audio\"]"
   ]
  },
  {
   "cell_type": "code",
   "execution_count": 13,
   "id": "27248c0a-9a77-45aa-8bec-c8c5ddc1f099",
   "metadata": {},
   "outputs": [],
   "source": [
    "# 8 works fine, but larger batches could be tested \n",
    "BATCH_SIZE = 8"
   ]
  },
  {
   "cell_type": "code",
   "execution_count": 14,
   "id": "9b54e73f-109e-4274-b625-b9861231c058",
   "metadata": {},
   "outputs": [],
   "source": [
    "pipe = pipeline(\n",
    "    \"automatic-speech-recognition\",\n",
    "    model=model,\n",
    "    tokenizer=processor.tokenizer,\n",
    "    feature_extractor=processor.feature_extractor,\n",
    "    max_new_tokens=128,\n",
    "    chunk_length_s=30,\n",
    "    batch_size=BATCH_SIZE,\n",
    "    return_timestamps=True,\n",
    "    torch_dtype=torch_dtype,\n",
    "    device=device,\n",
    "    generate_kwargs={\"language\": \"english\"},\n",
    ")"
   ]
  },
  {
   "cell_type": "code",
   "execution_count": 15,
   "id": "38b7e6e1-3864-4ff6-947e-07d1be0d9802",
   "metadata": {},
   "outputs": [],
   "source": [
    "pipe.model.config.forced_decoder_ids = pipe.tokenizer.get_decoder_prompt_ids(language=lang, task=\"transcribe\")"
   ]
  },
  {
   "cell_type": "code",
   "execution_count": 16,
   "id": "d577ad09-4ff1-4447-846d-759e52fedac3",
   "metadata": {},
   "outputs": [],
   "source": [
    "def iterate_data(dataset):\n",
    "    for i, item in enumerate(dataset):\n",
    "        yield item[\"audio\"]"
   ]
  },
  {
   "cell_type": "code",
   "execution_count": 21,
   "id": "4db5c34f-587d-458d-bee7-9c0ffe6b3fae",
   "metadata": {},
   "outputs": [],
   "source": [
    "ts_predictions = []"
   ]
  },
  {
   "cell_type": "code",
   "execution_count": 23,
   "id": "f505e311-1030-417b-b6be-90ca60293dc4",
   "metadata": {},
   "outputs": [
    {
     "data": {
      "text/plain": [
       "{'audio': {'path': 'Audio_Files/008-12.mp3',\n",
       "  'array': array([0.00228008, 0.00481903, 0.00688817, ..., 0.        , 0.        ,\n",
       "         0.        ]),\n",
       "  'sampling_rate': 44100}}"
      ]
     },
     "execution_count": 23,
     "metadata": {},
     "output_type": "execute_result"
    }
   ],
   "source": [
    "audio_dataset[-1]"
   ]
  },
  {
   "cell_type": "code",
   "execution_count": 24,
   "id": "645d4e37-03a8-4e2a-a051-4751d75aba0b",
   "metadata": {},
   "outputs": [
    {
     "data": {
      "text/plain": [
       "0"
      ]
     },
     "execution_count": 24,
     "metadata": {},
     "output_type": "execute_result"
    }
   ],
   "source": [
    "len(ts_predictions)"
   ]
  },
  {
   "cell_type": "code",
   "execution_count": null,
   "id": "8d6d0dd5-0227-447d-8428-2ba86a3ae8b4",
   "metadata": {
    "scrolled": true
   },
   "outputs": [
    {
     "name": "stderr",
     "output_type": "stream",
     "text": [
      "Whisper did not predict an ending timestamp, which can happen if audio is cut off in the middle of a word. Also make sure WhisperTimeStampLogitsProcessor was used during generation.\n",
      "Whisper did not predict an ending timestamp, which can happen if audio is cut off in the middle of a word. Also make sure WhisperTimeStampLogitsProcessor was used during generation.\n",
      "Whisper did not predict an ending timestamp, which can happen if audio is cut off in the middle of a word. Also make sure WhisperTimeStampLogitsProcessor was used during generation.\n",
      "Whisper did not predict an ending timestamp, which can happen if audio is cut off in the middle of a word. Also make sure WhisperTimeStampLogitsProcessor was used during generation.\n",
      "Whisper did not predict an ending timestamp, which can happen if audio is cut off in the middle of a word. Also make sure WhisperTimeStampLogitsProcessor was used during generation.\n",
      "Whisper did not predict an ending timestamp, which can happen if audio is cut off in the middle of a word. Also make sure WhisperTimeStampLogitsProcessor was used during generation.\n",
      "Whisper did not predict an ending timestamp, which can happen if audio is cut off in the middle of a word. Also make sure WhisperTimeStampLogitsProcessor was used during generation.\n",
      "Whisper did not predict an ending timestamp, which can happen if audio is cut off in the middle of a word. Also make sure WhisperTimeStampLogitsProcessor was used during generation.\n",
      "Whisper did not predict an ending timestamp, which can happen if audio is cut off in the middle of a word. Also make sure WhisperTimeStampLogitsProcessor was used during generation.\n",
      "Whisper did not predict an ending timestamp, which can happen if audio is cut off in the middle of a word. Also make sure WhisperTimeStampLogitsProcessor was used during generation.\n",
      "Whisper did not predict an ending timestamp, which can happen if audio is cut off in the middle of a word. Also make sure WhisperTimeStampLogitsProcessor was used during generation.\n",
      "Whisper did not predict an ending timestamp, which can happen if audio is cut off in the middle of a word. Also make sure WhisperTimeStampLogitsProcessor was used during generation.\n",
      "Whisper did not predict an ending timestamp, which can happen if audio is cut off in the middle of a word. Also make sure WhisperTimeStampLogitsProcessor was used during generation.\n",
      "Whisper did not predict an ending timestamp, which can happen if audio is cut off in the middle of a word. Also make sure WhisperTimeStampLogitsProcessor was used during generation.\n",
      "Whisper did not predict an ending timestamp, which can happen if audio is cut off in the middle of a word. Also make sure WhisperTimeStampLogitsProcessor was used during generation.\n",
      "Whisper did not predict an ending timestamp, which can happen if audio is cut off in the middle of a word. Also make sure WhisperTimeStampLogitsProcessor was used during generation.\n",
      "Whisper did not predict an ending timestamp, which can happen if audio is cut off in the middle of a word. Also make sure WhisperTimeStampLogitsProcessor was used during generation.\n",
      "Whisper did not predict an ending timestamp, which can happen if audio is cut off in the middle of a word. Also make sure WhisperTimeStampLogitsProcessor was used during generation.\n"
     ]
    }
   ],
   "source": [
    "# run streamed inference\n",
    "for out in pipe(iterate_data(audio_dataset), \n",
    "                batch_size=BATCH_SIZE, \n",
    "                return_timestamps = True, \n",
    "               ):\n",
    "    ts_predictions.append(out[\"chunks\"])\n",
    "    gc.collect()\n",
    "    torch.cuda.empty_cache()"
   ]
  },
  {
   "cell_type": "code",
   "execution_count": 39,
   "id": "fc68365b-313a-43ac-ad34-73c6f6a5a869",
   "metadata": {},
   "outputs": [
    {
     "data": {
      "text/plain": [
       "131"
      ]
     },
     "execution_count": 39,
     "metadata": {},
     "output_type": "execute_result"
    }
   ],
   "source": [
    "len(ts_predictions)"
   ]
  },
  {
   "cell_type": "code",
   "execution_count": null,
   "id": "b39f787c-1d6c-4808-88be-0e52481b8d33",
   "metadata": {},
   "outputs": [],
   "source": [
    "import pickle"
   ]
  },
  {
   "cell_type": "code",
   "execution_count": 40,
   "id": "c5d12c2e-38ea-4f0e-9fbc-0745afd63c55",
   "metadata": {},
   "outputs": [],
   "source": [
    "with open('whisper_largev3_transcriptions_with_timestamps.pickle', 'wb') as wlv3_transcriptions_ts:\n",
    "    pickle.dump(ts_predictions, wlv3_transcriptions_ts, protocol=pickle.HIGHEST_PROTOCOL)"
   ]
  },
  {
   "cell_type": "code",
   "execution_count": 41,
   "id": "e2847605-82fe-4ec9-99d5-530e76c1fe01",
   "metadata": {},
   "outputs": [],
   "source": [
    "# with open('no_student_whisper_largev3_transcriptions_with_timestamps.pickle', 'wb') as wlv3_transcriptions_ts:\n",
    "#     pickle.dump(ts_predictions, wlv3_transcriptions_ts, protocol=pickle.HIGHEST_PROTOCOL)"
   ]
  },
  {
   "cell_type": "code",
   "execution_count": 42,
   "id": "94cee966-f93b-4a7a-b957-02c5bfe3b263",
   "metadata": {},
   "outputs": [
    {
     "data": {
      "text/plain": [
       "131"
      ]
     },
     "execution_count": 42,
     "metadata": {},
     "output_type": "execute_result"
    }
   ],
   "source": [
    "len(ts_predictions)"
   ]
  },
  {
   "cell_type": "markdown",
   "id": "c16d5068-682e-46b2-8f82-42d87f107eed",
   "metadata": {},
   "source": [
    "## Converting Transcription Output to Dataframes"
   ]
  },
  {
   "cell_type": "code",
   "execution_count": 43,
   "id": "6c370430-2755-4064-805c-75303fcb8f7d",
   "metadata": {},
   "outputs": [],
   "source": [
    "order_of_clips = df[\"clip\"].tolist()"
   ]
  },
  {
   "cell_type": "code",
   "execution_count": 44,
   "id": "d9147a43-9875-466c-b17d-1c2303bca5b3",
   "metadata": {},
   "outputs": [],
   "source": [
    "whisper_transcription_dfs = {}\n",
    "whisper_speaker_segs = {}\n",
    "\n",
    "for transcription, clip_name in zip(ts_predictions, order_of_clips):\n",
    "    whisper_transcription_df = pd.DataFrame.from_dict(transcription)\n",
    "    whisper_transcription_df[\"start\"] = whisper_transcription_df[\"timestamp\"].apply(lambda x: x[0])\n",
    "    whisper_transcription_df[\"end\"] = whisper_transcription_df[\"timestamp\"].apply(lambda x: x[1])\n",
    "    whisper_transcription_df = whisper_transcription_df.drop(\"timestamp\", axis=1)\n",
    "\n",
    "    whisper_speaker_seg = whisper_transcription_df.copy()\n",
    "    whisper_speaker_seg[\"text\"] = \"Teacher\"\n",
    "    whisper_speaker_seg = whisper_speaker_seg[[\"start\", \"end\", \"text\"]]\n",
    "    \n",
    "    whisper_transcription_dfs[clip_name] = whisper_transcription_df\n",
    "    whisper_speaker_segs[clip_name] = whisper_speaker_seg"
   ]
  },
  {
   "cell_type": "code",
   "execution_count": 45,
   "id": "ca9df5f5-04d2-4f89-a675-b6639eef51ac",
   "metadata": {},
   "outputs": [
    {
     "data": {
      "text/plain": [
       "{'path': 'Audio_Files/131-9.mp3',\n",
       " 'array': array([ 1.08676904e-05, -7.46108009e-04, -1.82057801e-03, ...,\n",
       "         8.41914911e-08,  2.24942141e-07,  4.38241244e-07]),\n",
       " 'sampling_rate': 11025}"
      ]
     },
     "execution_count": 45,
     "metadata": {},
     "output_type": "execute_result"
    }
   ],
   "source": [
    "audio_dataset[0][\"audio\"]"
   ]
  },
  {
   "cell_type": "code",
   "execution_count": 46,
   "id": "a81de426-f4f7-4eac-ad99-b6db8318062b",
   "metadata": {},
   "outputs": [],
   "source": [
    "from typing import Dict, List, Any\n",
    "\n",
    "def process_transcriptions(\n",
    "    whisper_transcription_dfs: Dict[str, pd.DataFrame],\n",
    "    audio_dataset: List[Dict[str, Any]],\n",
    "    whisper_speaker_segs: Dict[str, Any]\n",
    ") -> tuple[Dict[str, pd.DataFrame], Dict[str, Any]]:\n",
    "    \n",
    "    # Create a dictionary for quick audio file lookup\n",
    "    audio_dict = {audio[\"audio\"]['path'].split('/')[-1].split('.')[0]: audio for audio in audio_dataset}\n",
    "\n",
    "    for key, df in whisper_transcription_dfs.items():\n",
    "        audio_file = audio_dict.get(key)\n",
    "        if not audio_file:\n",
    "            print(f\"Warning: No matching audio file found for key {key}\")\n",
    "            continue\n",
    "\n",
    "        audio_length = len(audio_file[\"audio\"]['array']) / audio_file[\"audio\"]['sampling_rate']\n",
    "        \n",
    "        # Check and update the last row\n",
    "        last_index = df.index[-1]\n",
    "        last_end = df.at[last_index, 'end']\n",
    "\n",
    "        if pd.isna(last_end) or last_end > audio_length:\n",
    "            df.at[last_index, 'end'] = audio_length\n",
    "            whisper_speaker_segs[key][last_index, 'end'] = audio_length\n",
    "\n",
    "    return whisper_transcription_dfs, whisper_speaker_segs"
   ]
  },
  {
   "cell_type": "code",
   "execution_count": 48,
   "id": "655a8cc8-b8bb-4f54-acb4-7dbfc0335a36",
   "metadata": {},
   "outputs": [],
   "source": [
    "processed_transcription_dfs, processed_whisper_speaker_segs = process_transcriptions(whisper_transcription_dfs, audio_dataset, whisper_speaker_segs)"
   ]
  },
  {
   "cell_type": "code",
   "execution_count": 51,
   "id": "c9fe9eb4-d11e-4741-959e-d82a6aeb2888",
   "metadata": {},
   "outputs": [],
   "source": [
    "with open('whisper_largev3_transcriptions_dict.pickle', 'wb') as wm_transcriptions_dict:\n",
    "    pickle.dump(processed_transcription_dfs, wm_transcriptions_dict, protocol=pickle.HIGHEST_PROTOCOL)\n",
    "\n",
    "with open('whisper_largev3_speaker_segs_dict.pickle', 'wb') as wm_ss_dict:\n",
    "    pickle.dump(processed_whisper_speaker_segs , wm_ss_dict, protocol=pickle.HIGHEST_PROTOCOL)"
   ]
  },
  {
   "cell_type": "code",
   "execution_count": null,
   "id": "172b0d35-1e50-49fd-99ab-0529d02bf1e9",
   "metadata": {},
   "outputs": [],
   "source": [
    "# with open('no_student_whisper_largev3_transcriptions_dict.pickle', 'wb') as wm_transcriptions_dict:\n",
    "#     pickle.dump(whisper_transcription_dfs, wm_transcriptions_dict, protocol=pickle.HIGHEST_PROTOCOL)\n",
    "\n",
    "# with open('no_student_whisper_largev3_speaker_segs_dict.pickle', 'wb') as wm_ss_dict:\n",
    "#     pickle.dump(whisper_speaker_segs, wm_ss_dict, protocol=pickle.HIGHEST_PROTOCOL)"
   ]
  },
  {
   "cell_type": "code",
   "execution_count": null,
   "id": "459db708-a152-4558-aa2e-091b9c27a408",
   "metadata": {},
   "outputs": [],
   "source": [
    "# with open('whisper_medium_transcriptions.pickle', 'wb') as wm_transcriptions:\n",
    "#     pickle.dump(predictions, wm_transcriptions, protocol=pickle.HIGHEST_PROTOCOL)"
   ]
  }
 ],
 "metadata": {
  "kernelspec": {
   "display_name": "Python 3 (ipykernel)",
   "language": "python",
   "name": "python3"
  },
  "language_info": {
   "codemirror_mode": {
    "name": "ipython",
    "version": 3
   },
   "file_extension": ".py",
   "mimetype": "text/x-python",
   "name": "python",
   "nbconvert_exporter": "python",
   "pygments_lexer": "ipython3",
   "version": "3.12.2"
  }
 },
 "nbformat": 4,
 "nbformat_minor": 5
}
